{
 "cells": [
  {
   "cell_type": "markdown",
   "metadata": {},
   "source": [
    "<div class=\"content__u3I1 question-content__JfgR\"><div><p>You are given the heads of two sorted linked lists <code>list1</code> and <code>list2</code>.</p>\n",
    "\n",
    "<p>Merge the two lists in a one <strong>sorted</strong> list. The list should be made by splicing together the nodes of the first two lists.</p>\n",
    "\n",
    "<p>Return <em>the head of the merged linked list</em>.</p>\n",
    "\n",
    "<p>&nbsp;</p>\n",
    "<p><strong>Example 1:</strong></p>\n",
    "<img alt=\"\" src=\"https://assets.leetcode.com/uploads/2020/10/03/merge_ex1.jpg\" style=\"width: 662px; height: 302px;\">\n",
    "<pre><strong>Input:</strong> list1 = [1,2,4], list2 = [1,3,4]\n",
    "<strong>Output:</strong> [1,1,2,3,4,4]\n",
    "</pre>\n",
    "\n",
    "<p><strong>Example 2:</strong></p>\n",
    "\n",
    "<pre><strong>Input:</strong> list1 = [], list2 = []\n",
    "<strong>Output:</strong> []\n",
    "</pre>\n",
    "\n",
    "<p><strong>Example 3:</strong></p>\n",
    "\n",
    "<pre><strong>Input:</strong> list1 = [], list2 = [0]\n",
    "<strong>Output:</strong> [0]\n",
    "</pre>\n",
    "\n",
    "<p>&nbsp;</p>\n",
    "<p><strong>Constraints:</strong></p>\n",
    "\n",
    "<ul>\n",
    "\t<li>The number of nodes in both lists is in the range <code>[0, 50]</code>.</li>\n",
    "\t<li><code>-100 &lt;= Node.val &lt;= 100</code></li>\n",
    "\t<li>Both <code>list1</code> and <code>list2</code> are sorted in <strong>non-decreasing</strong> order.</li>\n",
    "</ul>\n",
    "</div></div>"
   ]
  },
  {
   "cell_type": "code",
   "execution_count": 15,
   "metadata": {},
   "outputs": [],
   "source": [
    "# Definition for singly-linked list.\n",
    "class ListNode:\n",
    "    def __init__(self, val=0, next=None):\n",
    "        self.val = val\n",
    "        self.next = next\n",
    "from typing import Optional\n",
    "\n",
    "class Solution:\n",
    "    def mergeTwoLists(self, list1: Optional[ListNode], list2: Optional[ListNode]) -> Optional[ListNode]:\n",
    "        if list2 is None:\n",
    "            return list1\n",
    "        if list1 is None:\n",
    "            return list2\n",
    "        p1 = list2 if list1.val > list2.val else list1\n",
    "        p2 = list1 if list1.val > list2.val else list2\n",
    "        head = p1\n",
    "        while(p1 is not None and p2 is not None):\n",
    "            print(f'p1 {p1.val}, p2 {p2.val}')\n",
    "            if p1.next is None:\n",
    "                temp = p1.next\n",
    "                p1.next = p2\n",
    "                p2 = temp\n",
    "            elif p1.next.val>p2.val:\n",
    "                temp = p1.next\n",
    "                p1.next = p2\n",
    "                p2 = temp\n",
    "            p1 = p1.next\n",
    "        return head"
   ]
  },
  {
   "cell_type": "code",
   "execution_count": 16,
   "metadata": {},
   "outputs": [],
   "source": [
    "l1 = ListNode(-9)\n",
    "l1.next = ListNode(3)\n",
    "l2 = ListNode(5)\n",
    "l2.next = ListNode(7)\n"
   ]
  },
  {
   "cell_type": "code",
   "execution_count": 17,
   "metadata": {},
   "outputs": [
    {
     "name": "stdout",
     "output_type": "stream",
     "text": [
      "p1 -9, p2 5\n",
      "p1 3, p2 5\n",
      "-9\n",
      "3\n",
      "5\n",
      "7\n"
     ]
    }
   ],
   "source": [
    "new = Solution().mergeTwoLists(l1,l2)\n",
    "while new is not None:\n",
    "    print(new.val)\n",
    "    new = new.next"
   ]
  },
  {
   "cell_type": "code",
   "execution_count": null,
   "metadata": {},
   "outputs": [],
   "source": []
  }
 ],
 "metadata": {
  "interpreter": {
   "hash": "916dbcbb3f70747c44a77c7bcd40155683ae19c65e1c03b4aa3499c5328201f1"
  },
  "kernelspec": {
   "display_name": "Python 3.8.10 64-bit",
   "language": "python",
   "name": "python3"
  },
  "language_info": {
   "codemirror_mode": {
    "name": "ipython",
    "version": 3
   },
   "file_extension": ".py",
   "mimetype": "text/x-python",
   "name": "python",
   "nbconvert_exporter": "python",
   "pygments_lexer": "ipython3",
   "version": "3.9.5"
  },
  "orig_nbformat": 4
 },
 "nbformat": 4,
 "nbformat_minor": 2
}
