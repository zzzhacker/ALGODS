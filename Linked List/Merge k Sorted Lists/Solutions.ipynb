{
 "cells": [
  {
   "cell_type": "markdown",
   "metadata": {},
   "source": [
    "<div class=\"content__u3I1 question-content__JfgR\"><div><p>You are given an array of <code>k</code> linked-lists <code>lists</code>, each linked-list is sorted in ascending order.</p>\n",
    "\n",
    "<p><em>Merge all the linked-lists into one sorted linked-list and return it.</em></p>\n",
    "\n",
    "<p>&nbsp;</p>\n",
    "<p><strong>Example 1:</strong></p>\n",
    "\n",
    "<pre><strong>Input:</strong> lists = [[1,4,5],[1,3,4],[2,6]]\n",
    "<strong>Output:</strong> [1,1,2,3,4,4,5,6]\n",
    "<strong>Explanation:</strong> The linked-lists are:\n",
    "[\n",
    "  1-&gt;4-&gt;5,\n",
    "  1-&gt;3-&gt;4,\n",
    "  2-&gt;6\n",
    "]\n",
    "merging them into one sorted list:\n",
    "1-&gt;1-&gt;2-&gt;3-&gt;4-&gt;4-&gt;5-&gt;6\n",
    "</pre>\n",
    "\n",
    "<p><strong>Example 2:</strong></p>\n",
    "\n",
    "<pre><strong>Input:</strong> lists = []\n",
    "<strong>Output:</strong> []\n",
    "</pre>\n",
    "\n",
    "<p><strong>Example 3:</strong></p>\n",
    "\n",
    "<pre><strong>Input:</strong> lists = [[]]\n",
    "<strong>Output:</strong> []\n",
    "</pre>\n",
    "\n",
    "<p>&nbsp;</p>\n",
    "<p><strong>Constraints:</strong></p>\n",
    "\n",
    "<ul>\n",
    "\t<li><code>k == lists.length</code></li>\n",
    "\t<li><code>0 &lt;= k &lt;= 10^4</code></li>\n",
    "\t<li><code>0 &lt;= lists[i].length &lt;= 500</code></li>\n",
    "\t<li><code>-10^4 &lt;= lists[i][j] &lt;= 10^4</code></li>\n",
    "\t<li><code>lists[i]</code> is sorted in <strong>ascending order</strong>.</li>\n",
    "\t<li>The sum of <code>lists[i].length</code> won't exceed <code>10^4</code>.</li>\n",
    "</ul>\n",
    "</div></div>"
   ]
  },
  {
   "cell_type": "code",
   "execution_count": 1,
   "metadata": {},
   "outputs": [],
   "source": [
    "# Definition for singly-linked list.\n",
    "import heapq\n",
    "from typing import Optional,List\n",
    "class ListNode:\n",
    "    def __init__(self, val=0, next=None):\n",
    "        self.val = val\n",
    "        self.next = next\n",
    "    \n",
    "    \n",
    "class Solution:\n",
    "    def mergeKLists(self, lists: List[Optional[ListNode]]) -> Optional[ListNode]:\n",
    "        heap = []\n",
    "        for i,node in enumerate(lists):\n",
    "            if node:\n",
    "                heap.append((node.val,i,node))\n",
    "        heapq.heapify(heap)\n",
    "        start = head = ListNode()\n",
    "        while heap:\n",
    "            _,i,node = heapq.heappop(heap)\n",
    "            head.next = head = node\n",
    "            if node.next is not None:\n",
    "                heapq.heappush(heap,(node.next.val,i,node.next))\n",
    "        return start.next"
   ]
  },
  {
   "cell_type": "code",
   "execution_count": null,
   "metadata": {},
   "outputs": [],
   "source": [
    "## Cleaner Solution \n",
    "class Solution:\n",
    "    def mergeTwoLists(self, l1: ListNode, l2: ListNode) -> ListNode:\n",
    "        dummy = node = ListNode()\n",
    "        while l1 and l2: \n",
    "            if l1.val < l2.val: \n",
    "                node.next = node = l1\n",
    "                l1 = l1.next \n",
    "            else: \n",
    "                node.next = node = l2\n",
    "                l2 = l2.next \n",
    "        node.next = l1 or l2\n",
    "        return dummy.next "
   ]
  }
 ],
 "metadata": {
  "interpreter": {
   "hash": "916dbcbb3f70747c44a77c7bcd40155683ae19c65e1c03b4aa3499c5328201f1"
  },
  "kernelspec": {
   "display_name": "Python 3.8.10 64-bit",
   "language": "python",
   "name": "python3"
  },
  "language_info": {
   "codemirror_mode": {
    "name": "ipython",
    "version": 3
   },
   "file_extension": ".py",
   "mimetype": "text/x-python",
   "name": "python",
   "nbconvert_exporter": "python",
   "pygments_lexer": "ipython3",
   "version": "3.9.5"
  },
  "orig_nbformat": 4
 },
 "nbformat": 4,
 "nbformat_minor": 2
}
