{
 "cells": [
  {
   "cell_type": "markdown",
   "metadata": {},
   "source": [
    "<div class=\"content__u3I1 question-content__JfgR\"><div><p>Given an array <code>nums</code> of <code>n</code> integers, return <em>an array of all the <strong>unique</strong> quadruplets</em> <code>[nums[a], nums[b], nums[c], nums[d]]</code> such that:</p>\n",
    "\n",
    "<ul>\n",
    "\t<li><code>0 &lt;= a, b, c, d&nbsp;&lt; n</code></li>\n",
    "\t<li><code>a</code>, <code>b</code>, <code>c</code>, and <code>d</code> are <strong>distinct</strong>.</li>\n",
    "\t<li><code>nums[a] + nums[b] + nums[c] + nums[d] == target</code></li>\n",
    "</ul>\n",
    "\n",
    "<p>You may return the answer in <strong>any order</strong>.</p>\n",
    "\n",
    "<p>&nbsp;</p>\n",
    "<p><strong>Example 1:</strong></p>\n",
    "\n",
    "<pre><strong>Input:</strong> nums = [1,0,-1,0,-2,2], target = 0\n",
    "<strong>Output:</strong> [[-2,-1,1,2],[-2,0,0,2],[-1,0,0,1]]\n",
    "</pre>\n",
    "\n",
    "<p><strong>Example 2:</strong></p>\n",
    "\n",
    "<pre><strong>Input:</strong> nums = [2,2,2,2,2], target = 8\n",
    "<strong>Output:</strong> [[2,2,2,2]]\n",
    "</pre>\n",
    "\n",
    "<p>&nbsp;</p>\n",
    "<p><strong>Constraints:</strong></p>\n",
    "\n",
    "<ul>\n",
    "\t<li><code>1 &lt;= nums.length &lt;= 200</code></li>\n",
    "\t<li><code>-10<sup>9</sup> &lt;= nums[i] &lt;= 10<sup>9</sup></code></li>\n",
    "\t<li><code>-10<sup>9</sup> &lt;= target &lt;= 10<sup>9</sup></code></li>\n",
    "</ul>\n",
    "</div></div>"
   ]
  },
  {
   "cell_type": "code",
   "execution_count": 1,
   "metadata": {},
   "outputs": [],
   "source": [
    "from typing import List\n",
    "class Solution:\n",
    "    def fourSum(self, nums: List[int], target: int) -> List[List[int]]:\n",
    "        ans = []\n",
    "        track = set()\n",
    "        nums.sort()\n",
    "        for i in range(len(nums)-3):\n",
    "            if i>0  and nums[i] == nums[i-1] : continue\n",
    "            for j in range(i+1,len(nums)-2):\n",
    "                if j>i+1  and nums[j] == nums[j-1] : continue\n",
    "                else: track.add((nums[i],nums[j]))\n",
    "                k = j+1\n",
    "                l = len(nums) - 1\n",
    "                while(k<l):\n",
    "                    sum = nums[i]+nums[j]+nums[k]+nums[l]\n",
    "                    if sum == target: \n",
    "                        ans.append([nums[i],nums[j],nums[k],nums[l]])\n",
    "                        k+=1\n",
    "                        l-=1\n",
    "                        while(k<l and nums[k-1]==nums[k]):k += 1\n",
    "                        while(k<l and nums[l]==nums[l+1]):l-= 1\n",
    "                    elif sum>target:\n",
    "                        l -= 1\n",
    "                    else:\n",
    "                        k+=1\n",
    "        return ans"
   ]
  },
  {
   "cell_type": "code",
   "execution_count": null,
   "metadata": {},
   "outputs": [],
   "source": []
  }
 ],
 "metadata": {
  "kernelspec": {
   "display_name": "Python 3.8.9 64-bit",
   "language": "python",
   "name": "python3"
  },
  "language_info": {
   "codemirror_mode": {
    "name": "ipython",
    "version": 3
   },
   "file_extension": ".py",
   "mimetype": "text/x-python",
   "name": "python",
   "nbconvert_exporter": "python",
   "pygments_lexer": "ipython3",
   "version": "3.8.9"
  },
  "orig_nbformat": 4,
  "vscode": {
   "interpreter": {
    "hash": "31f2aee4e71d21fbe5cf8b01ff0e069b9275f58929596ceb00d14d90e3e16cd6"
   }
  }
 },
 "nbformat": 4,
 "nbformat_minor": 2
}
