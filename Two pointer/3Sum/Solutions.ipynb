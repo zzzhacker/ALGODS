{
 "cells": [
  {
   "cell_type": "markdown",
   "metadata": {},
   "source": [
    "<div class=\"content__u3I1 question-content__JfgR\"><div><p>Given an integer array nums, return all the triplets <code>[nums[i], nums[j], nums[k]]</code> such that <code>i != j</code>, <code>i != k</code>, and <code>j != k</code>, and <code>nums[i] + nums[j] + nums[k] == 0</code>.</p>\n",
    "\n",
    "<p>Notice that the solution set must not contain duplicate triplets.</p>\n",
    "\n",
    "<p>&nbsp;</p>\n",
    "<p><strong>Example 1:</strong></p>\n",
    "<pre><strong>Input:</strong> nums = [-1,0,1,2,-1,-4]\n",
    "<strong>Output:</strong> [[-1,-1,2],[-1,0,1]]\n",
    "</pre><p><strong>Example 2:</strong></p>\n",
    "<pre><strong>Input:</strong> nums = []\n",
    "<strong>Output:</strong> []\n",
    "</pre><p><strong>Example 3:</strong></p>\n",
    "<pre><strong>Input:</strong> nums = [0]\n",
    "<strong>Output:</strong> []\n",
    "</pre>\n",
    "<p>&nbsp;</p>\n",
    "<p><strong>Constraints:</strong></p>\n",
    "\n",
    "<ul>\n",
    "\t<li><code>0 &lt;= nums.length &lt;= 3000</code></li>\n",
    "\t<li><code>-10<sup>5</sup> &lt;= nums[i] &lt;= 10<sup>5</sup></code></li>\n",
    "</ul>\n",
    "</div></div>"
   ]
  },
  {
   "cell_type": "code",
   "execution_count": 1,
   "metadata": {},
   "outputs": [],
   "source": [
    "from typing import List\n",
    "class Solution:\n",
    "    def threeSum(self, nums: List[int]) -> List[List[int]]:\n",
    "        nums = sorted(nums)\n",
    "        nums_len = len(nums)\n",
    "        def two_sum(arr,target):\n",
    "            i , j = 0,len(arr)-1\n",
    "            ans = []\n",
    "            while (i<j):\n",
    "                if arr[i]+arr[j] == target:\n",
    "                    ans.append([arr[i],arr[j]])\n",
    "                    i += 1\n",
    "                elif arr[i]+arr[j] > target:\n",
    "                    j -= 1\n",
    "                else:\n",
    "                    i += 1\n",
    "                while i<j and arr[i-1] == arr[i]: i=i+1\n",
    "            return ans\n",
    "        final_ans = []\n",
    "        for i in range(nums_len):\n",
    "            if i and tmp == nums[0]:\n",
    "                tmp = nums.pop(0)\n",
    "                continue\n",
    "            if nums[0] > 0:\n",
    "                break\n",
    "            tmp = nums.pop(0)\n",
    "            target = 0 - tmp\n",
    "            two_sums = two_sum(nums,target)\n",
    "            for option in two_sums:\n",
    "                final_ans.append(option+[tmp])\n",
    "\n",
    "        return final_ans"
   ]
  },
  {
   "cell_type": "code",
   "execution_count": 2,
   "metadata": {},
   "outputs": [],
   "source": [
    "###clearer approach\n",
    "class Solution:\n",
    "    def threeSum(self, nums: List[int]) -> List[List[int]]:\n",
    "        nums.sort()\n",
    "        ans = []\n",
    "        for i in range(len(nums)):\n",
    "            if nums[i] > 0: break #for performance \n",
    "            if i and nums[i-1] == nums[i]: continue #removing duplicates\n",
    "            lo, hi = i+1, len(nums)-1\n",
    "            while lo < hi: \n",
    "                ss = nums[i] + nums[lo] + nums[hi] \n",
    "                if ss > 0: hi -= 1\n",
    "                elif ss < 0: lo += 1\n",
    "                else: \n",
    "                    ans.append([nums[i], nums[lo], nums[hi]])\n",
    "                    lo += 1\n",
    "                    while lo < hi and nums[lo-1] == nums[lo]: lo += 1 #removing duplicates\n",
    "        return ans "
   ]
  },
  {
   "cell_type": "code",
   "execution_count": 1,
   "metadata": {},
   "outputs": [],
   "source": [
    "from typing import List\n",
    "class Solution:\n",
    "    def threeSum(self, nums: List[int]) -> List[List[int]]:\n",
    "        ans = [ ]\n",
    "        nums.sort()\n",
    "        print(nums)\n",
    "        for i in range(len(nums)-2):\n",
    "            if i==0 or nums[i] != nums[i-1]:\n",
    "                track = {}\n",
    "                duplicate = set()\n",
    "                for j in range(i+1,len(nums)):\n",
    "                        if nums[j] in track and nums[j] not in duplicate:\n",
    "                            ans.append([nums[i],nums[track[nums[j]]],nums[j]])\n",
    "                            duplicate.add(nums[j])\n",
    "                        else:\n",
    "                            track[-nums[i]-nums[j]] = j\n",
    "        return ans"
   ]
  }
 ],
 "metadata": {
  "kernelspec": {
   "display_name": "Python 3.8.9 64-bit",
   "language": "python",
   "name": "python3"
  },
  "language_info": {
   "codemirror_mode": {
    "name": "ipython",
    "version": 3
   },
   "file_extension": ".py",
   "mimetype": "text/x-python",
   "name": "python",
   "nbconvert_exporter": "python",
   "pygments_lexer": "ipython3",
   "version": "3.8.9"
  },
  "orig_nbformat": 4,
  "vscode": {
   "interpreter": {
    "hash": "31f2aee4e71d21fbe5cf8b01ff0e069b9275f58929596ceb00d14d90e3e16cd6"
   }
  }
 },
 "nbformat": 4,
 "nbformat_minor": 2
}
