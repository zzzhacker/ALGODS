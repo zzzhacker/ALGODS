{
 "cells": [
  {
   "cell_type": "markdown",
   "metadata": {},
   "source": [
    "<div class=\"content__u3I1 question-content__JfgR\"><div><p>Given an integer array <code>data</code> representing the data, return whether it is a valid <strong>UTF-8</strong> encoding (i.e. it translates to a sequence of valid UTF-8 encoded characters).</p>\n",
    "\n",
    "<p>A character in <strong>UTF8</strong> can be from <strong>1 to 4 bytes</strong> long, subjected to the following rules:</p>\n",
    "\n",
    "<ol>\n",
    "\t<li>For a <strong>1-byte</strong> character, the first bit is a <code>0</code>, followed by its Unicode code.</li>\n",
    "\t<li>For an <strong>n-bytes</strong> character, the first <code>n</code> bits are all one's, the <code>n + 1</code> bit is <code>0</code>, followed by <code>n - 1</code> bytes with the most significant <code>2</code> bits being <code>10</code>.</li>\n",
    "</ol>\n",
    "\n",
    "<p>This is how the UTF-8 encoding would work:</p>\n",
    "\n",
    "<pre>     Number of Bytes   |        UTF-8 Octet Sequence\n",
    "                       |              (binary)\n",
    "   --------------------+-----------------------------------------\n",
    "            1          |   0xxxxxxx\n",
    "            2          |   110xxxxx 10xxxxxx\n",
    "            3          |   1110xxxx 10xxxxxx 10xxxxxx\n",
    "            4          |   11110xxx 10xxxxxx 10xxxxxx 10xxxxxx\n",
    "</pre>\n",
    "\n",
    "<p><code>x</code> denotes a bit in the binary form of a byte that may be either <code>0</code> or <code>1</code>.</p>\n",
    "\n",
    "<p><strong>Note: </strong>The input is an array of integers. Only the <strong>least significant 8 bits</strong> of each integer is used to store the data. This means each integer represents only 1 byte of data.</p>\n",
    "\n",
    "<p>&nbsp;</p>\n",
    "<p><strong>Example 1:</strong></p>\n",
    "\n",
    "<pre><strong>Input:</strong> data = [197,130,1]\n",
    "<strong>Output:</strong> true\n",
    "<strong>Explanation:</strong> data represents the octet sequence: 11000101 10000010 00000001.\n",
    "It is a valid utf-8 encoding for a 2-bytes character followed by a 1-byte character.\n",
    "</pre>\n",
    "\n",
    "<p><strong>Example 2:</strong></p>\n",
    "\n",
    "<pre><strong>Input:</strong> data = [235,140,4]\n",
    "<strong>Output:</strong> false\n",
    "<strong>Explanation:</strong> data represented the octet sequence: 11101011 10001100 00000100.\n",
    "The first 3 bits are all one's and the 4th bit is 0 means it is a 3-bytes character.\n",
    "The next byte is a continuation byte which starts with 10 and that's correct.\n",
    "But the second continuation byte does not start with 10, so it is invalid.\n",
    "</pre>\n",
    "\n",
    "<p>&nbsp;</p>\n",
    "<p><strong>Constraints:</strong></p>\n",
    "\n",
    "<ul>\n",
    "\t<li><code>1 &lt;= data.length &lt;= 2 * 10<sup>4</sup></code></li>\n",
    "\t<li><code>0 &lt;= data[i] &lt;= 255</code></li>\n",
    "</ul>\n",
    "</div></div>"
   ]
  },
  {
   "cell_type": "code",
   "execution_count": 1,
   "metadata": {},
   "outputs": [],
   "source": [
    "from typing import List\n",
    "class Solution:\n",
    "    def validUtf8(self, data: List[int]) -> bool:\n",
    "        continuos = 0\n",
    "        \n",
    "        for i in range(len(data)):\n",
    "            if (data[i]>>8)>0:return False\n",
    "            if continuos:\n",
    "                if data[i]>>6 == 2:continuos -= 1\n",
    "                else: return False\n",
    "            else:\n",
    "                if data[i]>>3  == 30: continuos = 3\n",
    "                elif data[i]>>4 == 14 : continuos = 2\n",
    "                elif data[i]>>5  == 6: continuos=1\n",
    "                elif not (data[i]>>7 & 1) : continuos  = 0\n",
    "                else: return False\n",
    "\n",
    "        return True if continuos == 0 else False"
   ]
  },
  {
   "cell_type": "code",
   "execution_count": null,
   "metadata": {},
   "outputs": [],
   "source": []
  }
 ],
 "metadata": {
  "kernelspec": {
   "display_name": "Python 3.8.9 64-bit",
   "language": "python",
   "name": "python3"
  },
  "language_info": {
   "codemirror_mode": {
    "name": "ipython",
    "version": 3
   },
   "file_extension": ".py",
   "mimetype": "text/x-python",
   "name": "python",
   "nbconvert_exporter": "python",
   "pygments_lexer": "ipython3",
   "version": "3.8.9"
  },
  "orig_nbformat": 4,
  "vscode": {
   "interpreter": {
    "hash": "31f2aee4e71d21fbe5cf8b01ff0e069b9275f58929596ceb00d14d90e3e16cd6"
   }
  }
 },
 "nbformat": 4,
 "nbformat_minor": 2
}
