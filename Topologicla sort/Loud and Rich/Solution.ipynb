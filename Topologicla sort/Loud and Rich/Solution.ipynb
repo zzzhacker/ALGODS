{
 "cells": [
  {
   "cell_type": "markdown",
   "metadata": {},
   "source": [
    "<div class=\"content__u3I1 question-content__JfgR\"><div><p>There is a group of <code>n</code> people labeled from <code>0</code> to <code>n - 1</code> where each person has a different amount of money and a different level of quietness.</p>\n",
    "\n",
    "<p>You are given an array <code>richer</code> where <code>richer[i] = [a<sub>i</sub>, b<sub>i</sub>]</code> indicates that <code>a<sub>i</sub></code> has more money than <code>b<sub>i</sub></code> and an integer array <code>quiet</code> where <code>quiet[i]</code> is the quietness of the <code>i<sup>th</sup></code> person. All the given data in richer are <strong>logically correct</strong> (i.e., the data will not lead you to a situation where <code>x</code> is richer than <code>y</code> and <code>y</code> is richer than <code>x</code> at the same time).</p>\n",
    "\n",
    "<p>Return <em>an integer array </em><code>answer</code><em> where </em><code>answer[x] = y</code><em> if </em><code>y</code><em> is the least quiet person (that is, the person </em><code>y</code><em> with the smallest value of </em><code>quiet[y]</code><em>) among all people who definitely have equal to or more money than the person </em><code>x</code>.</p>\n",
    "\n",
    "<p>&nbsp;</p>\n",
    "<p><strong>Example 1:</strong></p>\n",
    "\n",
    "<pre><strong>Input:</strong> richer = [[1,0],[2,1],[3,1],[3,7],[4,3],[5,3],[6,3]], quiet = [3,2,5,4,6,1,7,0]\n",
    "<strong>Output:</strong> [5,5,2,5,4,5,6,7]\n",
    "<strong>Explanation:</strong> \n",
    "answer[0] = 5.\n",
    "Person 5 has more money than 3, which has more money than 1, which has more money than 0.\n",
    "The only person who is quieter (has lower quiet[x]) is person 7, but it is not clear if they have more money than person 0.\n",
    "answer[7] = 7.\n",
    "Among all people that definitely have equal to or more money than person 7 (which could be persons 3, 4, 5, 6, or 7), the person who is the quietest (has lower quiet[x]) is person 7.\n",
    "The other answers can be filled out with similar reasoning.\n",
    "</pre>\n",
    "\n",
    "<p><strong>Example 2:</strong></p>\n",
    "\n",
    "<pre><strong>Input:</strong> richer = [], quiet = [0]\n",
    "<strong>Output:</strong> [0]\n",
    "</pre>\n",
    "\n",
    "<p>&nbsp;</p>\n",
    "<p><strong>Constraints:</strong></p>\n",
    "\n",
    "<ul>\n",
    "\t<li><code>n == quiet.length</code></li>\n",
    "\t<li><code>1 &lt;= n &lt;= 500</code></li>\n",
    "\t<li><code>0 &lt;= quiet[i] &lt; n</code></li>\n",
    "\t<li>All the values of <code>quiet</code> are <strong>unique</strong>.</li>\n",
    "\t<li><code>0 &lt;= richer.length &lt;= n * (n - 1) / 2</code></li>\n",
    "\t<li><code>0 &lt;= a<sub>i</sub>, b<sub>i</sub> &lt; n</code></li>\n",
    "\t<li><code>a<sub>i </sub>!= b<sub>i</sub></code></li>\n",
    "\t<li>All the pairs of <code>richer</code> are <strong>unique</strong>.</li>\n",
    "\t<li>The observations in <code>richer</code> are all logically consistent.</li>\n",
    "</ul>\n",
    "</div></div>"
   ]
  },
  {
   "cell_type": "code",
   "execution_count": 1,
   "metadata": {},
   "outputs": [],
   "source": [
    "from collections import defaultdict\n",
    "from typing import List\n",
    "class Solution:\n",
    "    def loudAndRich(self, richer: List[List[int]], quiet: List[int]) -> List[int]:\n",
    "        graph = defaultdict(list)\n",
    "        for a,b in richer:\n",
    "            graph[b].append(a)\n",
    "        rich_order = []\n",
    "        @cache\n",
    "        def topologicalSort(i):\n",
    "            loudest = i \n",
    "            for person in graph[i]:\n",
    "                if quiet[loudest]>quiet[topologicalSort(person)]:\n",
    "                    loudest = topologicalSort(person)\n",
    "            return loudest\n",
    "        \n",
    "        ans = [topologicalSort(i) for i in range(len(quiet))]\n",
    "        return ans"
   ]
  },
  {
   "cell_type": "code",
   "execution_count": null,
   "metadata": {},
   "outputs": [],
   "source": []
  }
 ],
 "metadata": {
  "interpreter": {
   "hash": "31f2aee4e71d21fbe5cf8b01ff0e069b9275f58929596ceb00d14d90e3e16cd6"
  },
  "kernelspec": {
   "display_name": "Python 3.8.9 64-bit",
   "language": "python",
   "name": "python3"
  },
  "language_info": {
   "codemirror_mode": {
    "name": "ipython",
    "version": 3
   },
   "file_extension": ".py",
   "mimetype": "text/x-python",
   "name": "python",
   "nbconvert_exporter": "python",
   "pygments_lexer": "ipython3",
   "version": "3.8.9"
  },
  "orig_nbformat": 4
 },
 "nbformat": 4,
 "nbformat_minor": 2
}
