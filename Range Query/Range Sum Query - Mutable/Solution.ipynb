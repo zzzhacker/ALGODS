{
 "cells": [
  {
   "cell_type": "code",
   "execution_count": 40,
   "metadata": {},
   "outputs": [],
   "source": [
    "class NumArray:\n",
    "\n",
    "    def __init__(self, nums: List[int]):\n",
    "        self.fenwick_tree = [0 for i in range(len(nums)+1)]\n",
    "        self.nums = [0]+nums\n",
    "        for i in range(1,len(self.nums)):\n",
    "            self.myupdate(i,self.nums[i])\n",
    "        \n",
    "    def update(self, index: int, val: int) -> None:\n",
    "        index = index+1\n",
    "        diff = val - self.nums[index]\n",
    "        self.nums[index] = val\n",
    "        self.myupdate(index,diff)\n",
    "\n",
    "    def myupdate(self, index: int, val: int) -> None:\n",
    "        while index < len(self.nums):\n",
    "            self.fenwick_tree[index] += val\n",
    "            index += index & -index\n",
    "    \n",
    "\n",
    "\n",
    "    def getSum(self,index : int) -> int:\n",
    "        sum = 0\n",
    "        while index > 0:\n",
    "            sum += self.fenwick_tree[index]\n",
    "            index -= index & -index\n",
    "        return sum\n",
    "\n",
    "    def sumRange(self, left: int, right: int) -> int:\n",
    "        return self.getSum(right+1) - self.getSum(left) \n",
    "        \n",
    "\n",
    "\n",
    "# Your NumArray object will be instantiated and called as such:\n",
    "# obj = NumArray(nums)\n",
    "# obj.update(index,val)\n",
    "# param_2 = obj.sumRange(left,right)"
   ]
  }
 ],
 "metadata": {
  "kernelspec": {
   "display_name": "Python 3.9.6 64-bit",
   "language": "python",
   "name": "python3"
  },
  "language_info": {
   "codemirror_mode": {
    "name": "ipython",
    "version": 3
   },
   "file_extension": ".py",
   "mimetype": "text/x-python",
   "name": "python",
   "nbconvert_exporter": "python",
   "pygments_lexer": "ipython3",
   "version": "3.9.6"
  },
  "orig_nbformat": 4,
  "vscode": {
   "interpreter": {
    "hash": "31f2aee4e71d21fbe5cf8b01ff0e069b9275f58929596ceb00d14d90e3e16cd6"
   }
  }
 },
 "nbformat": 4,
 "nbformat_minor": 2
}
