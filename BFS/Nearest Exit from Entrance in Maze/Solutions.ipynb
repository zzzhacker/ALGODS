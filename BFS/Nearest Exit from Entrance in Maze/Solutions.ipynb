{
 "cells": [
  {
   "cell_type": "markdown",
   "metadata": {},
   "source": [
    "<div class=\"_1l1MA\"><p>You are given an <code>m x n</code> matrix <code>maze</code> (<strong>0-indexed</strong>) with empty cells (represented as <code>'.'</code>) and walls (represented as <code>'+'</code>). You are also given the <code>entrance</code> of the maze, where <code>entrance = [entrance<sub>row</sub>, entrance<sub>col</sub>]</code> denotes the row and column of the cell you are initially standing at.</p>\n",
    "\n",
    "<p>In one step, you can move one cell <strong>up</strong>, <strong>down</strong>, <strong>left</strong>, or <strong>right</strong>. You cannot step into a cell with a wall, and you cannot step outside the maze. Your goal is to find the <strong>nearest exit</strong> from the <code>entrance</code>. An <strong>exit</strong> is defined as an <strong>empty cell</strong> that is at the <strong>border</strong> of the <code>maze</code>. The <code>entrance</code> <strong>does not count</strong> as an exit.</p>\n",
    "\n",
    "<p>Return <em>the <strong>number of steps</strong> in the shortest path from the </em><code>entrance</code><em> to the nearest exit, or </em><code>-1</code><em> if no such path exists</em>.</p>\n",
    "\n",
    "<p>&nbsp;</p>\n",
    "<p><strong class=\"example\">Example 1:</strong></p>\n",
    "<img alt=\"\" src=\"https://assets.leetcode.com/uploads/2021/06/04/nearest1-grid.jpg\" style=\"width: 333px; height: 253px;\">\n",
    "<pre><strong>Input:</strong> maze = [[\"+\",\"+\",\".\",\"+\"],[\".\",\".\",\".\",\"+\"],[\"+\",\"+\",\"+\",\".\"]], entrance = [1,2]\n",
    "<strong>Output:</strong> 1\n",
    "<strong>Explanation:</strong> There are 3 exits in this maze at [1,0], [0,2], and [2,3].\n",
    "Initially, you are at the entrance cell [1,2].\n",
    "- You can reach [1,0] by moving 2 steps left.\n",
    "- You can reach [0,2] by moving 1 step up.\n",
    "It is impossible to reach [2,3] from the entrance.\n",
    "Thus, the nearest exit is [0,2], which is 1 step away.\n",
    "</pre>\n",
    "\n",
    "<p><strong class=\"example\">Example 2:</strong></p>\n",
    "<img alt=\"\" src=\"https://assets.leetcode.com/uploads/2021/06/04/nearesr2-grid.jpg\" style=\"width: 253px; height: 253px;\">\n",
    "<pre><strong>Input:</strong> maze = [[\"+\",\"+\",\"+\"],[\".\",\".\",\".\"],[\"+\",\"+\",\"+\"]], entrance = [1,0]\n",
    "<strong>Output:</strong> 2\n",
    "<strong>Explanation:</strong> There is 1 exit in this maze at [1,2].\n",
    "[1,0] does not count as an exit since it is the entrance cell.\n",
    "Initially, you are at the entrance cell [1,0].\n",
    "- You can reach [1,2] by moving 2 steps right.\n",
    "Thus, the nearest exit is [1,2], which is 2 steps away.\n",
    "</pre>\n",
    "\n",
    "<p><strong class=\"example\">Example 3:</strong></p>\n",
    "<img alt=\"\" src=\"https://assets.leetcode.com/uploads/2021/06/04/nearest3-grid.jpg\" style=\"width: 173px; height: 93px;\">\n",
    "<pre><strong>Input:</strong> maze = [[\".\",\"+\"]], entrance = [0,0]\n",
    "<strong>Output:</strong> -1\n",
    "<strong>Explanation:</strong> There are no exits in this maze.\n",
    "</pre>\n",
    "\n",
    "<p>&nbsp;</p>\n",
    "<p><strong>Constraints:</strong></p>\n",
    "\n",
    "<ul>\n",
    "\t<li><code>maze.length == m</code></li>\n",
    "\t<li><code>maze[i].length == n</code></li>\n",
    "\t<li><code>1 &lt;= m, n &lt;= 100</code></li>\n",
    "\t<li><code>maze[i][j]</code> is either <code>'.'</code> or <code>'+'</code>.</li>\n",
    "\t<li><code>entrance.length == 2</code></li>\n",
    "\t<li><code>0 &lt;= entrance<sub>row</sub> &lt; m</code></li>\n",
    "\t<li><code>0 &lt;= entrance<sub>col</sub> &lt; n</code></li>\n",
    "\t<li><code>entrance</code> will always be an empty cell.</li>\n",
    "</ul>\n",
    "</div>"
   ]
  },
  {
   "cell_type": "code",
   "execution_count": 1,
   "metadata": {},
   "outputs": [],
   "source": [
    "from typing import List\n",
    "class Solution:\n",
    "    def nearestExit(self, maze: List[List[str]], entrance: List[int]) -> int:\n",
    "        visited = set()\n",
    "        visited.add(((entrance[0],entrance[1])))\n",
    "        queue = [(entrance[0],entrance[1])]\n",
    "        ans = 0\n",
    "        while queue:\n",
    "            level = []\n",
    "            for i,j in queue:\n",
    "                for i_,j_ in [(i+1,j),(i-1,j),(i,j+1),(i,j-1)]:\n",
    "                    \n",
    "                    if 0 <= i_ < len(maze) and 0 <= j_ <len(maze[0]):\n",
    "                        if (i_,j_) not in visited and maze[i_][j_] == '.' :\n",
    "                            visited.add((i_,j_))\n",
    "                            level.append((i_,j_))\n",
    "                    elif ans: return ans\n",
    "            queue = level\n",
    "            ans += 1\n",
    "            \n",
    "        return -1"
   ]
  },
  {
   "cell_type": "code",
   "execution_count": null,
   "metadata": {},
   "outputs": [],
   "source": []
  }
 ],
 "metadata": {
  "kernelspec": {
   "display_name": "Python 3.9.6 64-bit",
   "language": "python",
   "name": "python3"
  },
  "language_info": {
   "codemirror_mode": {
    "name": "ipython",
    "version": 3
   },
   "file_extension": ".py",
   "mimetype": "text/x-python",
   "name": "python",
   "nbconvert_exporter": "python",
   "pygments_lexer": "ipython3",
   "version": "3.9.6"
  },
  "orig_nbformat": 4,
  "vscode": {
   "interpreter": {
    "hash": "31f2aee4e71d21fbe5cf8b01ff0e069b9275f58929596ceb00d14d90e3e16cd6"
   }
  }
 },
 "nbformat": 4,
 "nbformat_minor": 2
}
