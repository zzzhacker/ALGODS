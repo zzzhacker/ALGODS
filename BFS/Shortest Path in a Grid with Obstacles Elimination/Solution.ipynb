{
 "cells": [
  {
   "cell_type": "markdown",
   "metadata": {},
   "source": [
    "<div class=\"content__u3I1 question-content__JfgR\"><div><p>You are given an <code>m x n</code> integer matrix <code>grid</code> where each cell is either <code>0</code> (empty) or <code>1</code> (obstacle). You can move up, down, left, or right from and to an empty cell in <strong>one step</strong>.</p>\n",
    "\n",
    "<p>Return <em>the minimum number of <strong>steps</strong> to walk from the upper left corner </em><code>(0, 0)</code><em> to the lower right corner </em><code>(m - 1, n - 1)</code><em> given that you can eliminate <strong>at most</strong> </em><code>k</code><em> obstacles</em>. If it is not possible to find such walk return <code>-1</code>.</p>\n",
    "\n",
    "<p>&nbsp;</p>\n",
    "<p><strong class=\"example\">Example 1:</strong></p>\n",
    "<img alt=\"\" src=\"https://assets.leetcode.com/uploads/2021/09/30/short1-grid.jpg\" style=\"width: 244px; height: 405px;\">\n",
    "<pre><strong>Input:</strong> grid = [[0,0,0],[1,1,0],[0,0,0],[0,1,1],[0,0,0]], k = 1\n",
    "<strong>Output:</strong> 6\n",
    "<strong>Explanation:</strong> \n",
    "The shortest path without eliminating any obstacle is 10.\n",
    "The shortest path with one obstacle elimination at position (3,2) is 6. Such path is (0,0) -&gt; (0,1) -&gt; (0,2) -&gt; (1,2) -&gt; (2,2) -&gt; <strong>(3,2)</strong> -&gt; (4,2).\n",
    "</pre>\n",
    "\n",
    "<p><strong class=\"example\">Example 2:</strong></p>\n",
    "<img alt=\"\" src=\"https://assets.leetcode.com/uploads/2021/09/30/short2-grid.jpg\" style=\"width: 244px; height: 245px;\">\n",
    "<pre><strong>Input:</strong> grid = [[0,1,1],[1,1,1],[1,0,0]], k = 1\n",
    "<strong>Output:</strong> -1\n",
    "<strong>Explanation:</strong> We need to eliminate at least two obstacles to find such a walk.\n",
    "</pre>\n",
    "\n",
    "<p>&nbsp;</p>\n",
    "<p><strong>Constraints:</strong></p>\n",
    "\n",
    "<ul>\n",
    "\t<li><code>m == grid.length</code></li>\n",
    "\t<li><code>n == grid[i].length</code></li>\n",
    "\t<li><code>1 &lt;= m, n &lt;= 40</code></li>\n",
    "\t<li><code>1 &lt;= k &lt;= m * n</code></li>\n",
    "\t<li><code>grid[i][j]</code> is either <code>0</code> <strong>or</strong> <code>1</code>.</li>\n",
    "\t<li><code>grid[0][0] == grid[m - 1][n - 1] == 0</code></li>\n",
    "</ul>\n",
    "</div></div>"
   ]
  },
  {
   "cell_type": "code",
   "execution_count": 1,
   "metadata": {},
   "outputs": [],
   "source": [
    "from typing import List\n",
    "class Solution:\n",
    "    def shortestPath(self, grid: List[List[int]], k: int) -> int:\n",
    "        m,n = len(grid),len(grid[0])\n",
    "        queue = [(0,0,k)]\n",
    "        visited = set()\n",
    "        visited.add(queue[0])\n",
    "        distance =0\n",
    "        while(queue):\n",
    "            children = []\n",
    "            for x,y,k in queue:\n",
    "                if x == m-1 and y == n-1: return distance\n",
    "                for d1,d2 in [(0,1),[0,-1],[1,0],[-1,0]]:\n",
    "                    new_x,new_y,new_k = x+d1,y+d2,k-grid[x][y]\n",
    "                    if 0<=new_x<m and 0<=new_y<n and new_k>-1 and (new_x,new_y,new_k) not in visited:\n",
    "                        visited.add((new_x,new_y,new_k))\n",
    "                        children.append((new_x,new_y,new_k))  \n",
    "            queue = children\n",
    "            distance += 1\n",
    "        return -1"
   ]
  }
 ],
 "metadata": {
  "kernelspec": {
   "display_name": "Python 3.9.6 64-bit",
   "language": "python",
   "name": "python3"
  },
  "language_info": {
   "codemirror_mode": {
    "name": "ipython",
    "version": 3
   },
   "file_extension": ".py",
   "mimetype": "text/x-python",
   "name": "python",
   "nbconvert_exporter": "python",
   "pygments_lexer": "ipython3",
   "version": "3.9.6"
  },
  "orig_nbformat": 4,
  "vscode": {
   "interpreter": {
    "hash": "31f2aee4e71d21fbe5cf8b01ff0e069b9275f58929596ceb00d14d90e3e16cd6"
   }
  }
 },
 "nbformat": 4,
 "nbformat_minor": 2
}
