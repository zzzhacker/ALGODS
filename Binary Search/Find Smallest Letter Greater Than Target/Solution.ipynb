{
 "cells": [
  {
   "cell_type": "markdown",
   "metadata": {},
   "source": [
    "<div class=\"content__u3I1 question-content__JfgR\"><div><p>Given a characters array <code>letters</code> that is sorted in <strong>non-decreasing</strong> order and a character <code>target</code>, return <em>the smallest character in the array that is larger than </em><code>target</code>.</p>\n",
    "\n",
    "<p><strong>Note</strong> that the letters wrap around.</p>\n",
    "\n",
    "<ul>\n",
    "\t<li>For example, if <code>target == 'z'</code> and <code>letters == ['a', 'b']</code>, the answer is <code>'a'</code>.</li>\n",
    "</ul>\n",
    "\n",
    "<p>&nbsp;</p>\n",
    "<p><strong>Example 1:</strong></p>\n",
    "\n",
    "<pre><strong>Input:</strong> letters = [\"c\",\"f\",\"j\"], target = \"a\"\n",
    "<strong>Output:</strong> \"c\"\n",
    "</pre>\n",
    "\n",
    "<p><strong>Example 2:</strong></p>\n",
    "\n",
    "<pre><strong>Input:</strong> letters = [\"c\",\"f\",\"j\"], target = \"c\"\n",
    "<strong>Output:</strong> \"f\"\n",
    "</pre>\n",
    "\n",
    "<p><strong>Example 3:</strong></p>\n",
    "\n",
    "<pre><strong>Input:</strong> letters = [\"c\",\"f\",\"j\"], target = \"d\"\n",
    "<strong>Output:</strong> \"f\"\n",
    "</pre>\n",
    "\n",
    "<p>&nbsp;</p>\n",
    "<p><strong>Constraints:</strong></p>\n",
    "\n",
    "<ul>\n",
    "\t<li><code>2 &lt;= letters.length &lt;= 10<sup>4</sup></code></li>\n",
    "\t<li><code>letters[i]</code> is a lowercase English letter.</li>\n",
    "\t<li><code>letters</code> is sorted in <strong>non-decreasing</strong> order.</li>\n",
    "\t<li><code>letters</code> contains at least two different characters.</li>\n",
    "\t<li><code>target</code> is a lowercase English letter.</li>\n",
    "</ul>\n",
    "</div></div>"
   ]
  },
  {
   "cell_type": "code",
   "execution_count": 2,
   "metadata": {},
   "outputs": [],
   "source": [
    "## using template\n",
    "from typing import List\n",
    "class Solution:\n",
    "    def nextGreatestLetter(self, letters: List[str], target: str) -> str:\n",
    "        target = ord(target)\n",
    "        left,right = 0,len(letters)\n",
    "        while(left<right):\n",
    "            mid = int(left + (right - left)/2)\n",
    "            if ord(letters[mid])<target:\n",
    "                left = mid+1\n",
    "            elif ord(letters[mid])>target:\n",
    "                right = mid\n",
    "            else:\n",
    "                left = mid+1\n",
    "        \n",
    "        return letters[0] if left == len(letters) else letters[left]"
   ]
  },
  {
   "cell_type": "code",
   "execution_count": null,
   "metadata": {},
   "outputs": [],
   "source": []
  }
 ],
 "metadata": {
  "interpreter": {
   "hash": "31f2aee4e71d21fbe5cf8b01ff0e069b9275f58929596ceb00d14d90e3e16cd6"
  },
  "kernelspec": {
   "display_name": "Python 3.8.9 64-bit",
   "language": "python",
   "name": "python3"
  },
  "language_info": {
   "codemirror_mode": {
    "name": "ipython",
    "version": 3
   },
   "file_extension": ".py",
   "mimetype": "text/x-python",
   "name": "python",
   "nbconvert_exporter": "python",
   "pygments_lexer": "ipython3",
   "version": "3.8.9"
  },
  "orig_nbformat": 4
 },
 "nbformat": 4,
 "nbformat_minor": 2
}
