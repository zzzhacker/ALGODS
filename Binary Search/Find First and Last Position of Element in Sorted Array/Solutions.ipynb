{
 "cells": [
  {
   "cell_type": "markdown",
   "metadata": {},
   "source": [
    "<div class=\"content__u3I1 question-content__JfgR\"><div><p>Given an array of integers <code>nums</code> sorted in non-decreasing order, find the starting and ending position of a given <code>target</code> value.</p>\n",
    "\n",
    "<p>If <code>target</code> is not found in the array, return <code>[-1, -1]</code>.</p>\n",
    "\n",
    "<p>You must&nbsp;write an algorithm with&nbsp;<code>O(log n)</code> runtime complexity.</p>\n",
    "\n",
    "<p>&nbsp;</p>\n",
    "<p><strong>Example 1:</strong></p>\n",
    "<pre><strong>Input:</strong> nums = [5,7,7,8,8,10], target = 8\n",
    "<strong>Output:</strong> [3,4]\n",
    "</pre><p><strong>Example 2:</strong></p>\n",
    "<pre><strong>Input:</strong> nums = [5,7,7,8,8,10], target = 6\n",
    "<strong>Output:</strong> [-1,-1]\n",
    "</pre><p><strong>Example 3:</strong></p>\n",
    "<pre><strong>Input:</strong> nums = [], target = 0\n",
    "<strong>Output:</strong> [-1,-1]\n",
    "</pre>\n",
    "<p>&nbsp;</p>\n",
    "<p><strong>Constraints:</strong></p>\n",
    "\n",
    "<ul>\n",
    "\t<li><code>0 &lt;= nums.length &lt;= 10<sup>5</sup></code></li>\n",
    "\t<li><code>-10<sup>9</sup>&nbsp;&lt;= nums[i]&nbsp;&lt;= 10<sup>9</sup></code></li>\n",
    "\t<li><code>nums</code> is a non-decreasing array.</li>\n",
    "\t<li><code>-10<sup>9</sup>&nbsp;&lt;= target&nbsp;&lt;= 10<sup>9</sup></code></li>\n",
    "</ul>\n",
    "</div></div>"
   ]
  },
  {
   "cell_type": "code",
   "execution_count": 2,
   "metadata": {},
   "outputs": [],
   "source": [
    "## using template\n",
    "from typing import List\n",
    "class Solution:\n",
    "    def searchRange(self, nums: List[int], target: int) -> List[int]:\n",
    "        \n",
    "        if len(nums)==0:\n",
    "            return [-1,-1]\n",
    "        ## left_boundary\n",
    "        l,r = 0,len(nums)\n",
    "        while(l<r):\n",
    "            mid = int(l+(r-l)/2)\n",
    "            if target<nums[mid]:\n",
    "                r = mid\n",
    "            elif target>nums[mid]:\n",
    "                l = mid+1\n",
    "            else:\n",
    "                r = mid\n",
    "                \n",
    "        if l==len(nums) or nums[l]!=target:\n",
    "            return [-1,-1]\n",
    "        left_boundary = l \n",
    "    \n",
    "        #right_boundary\n",
    "        l,r = 0,len(nums)\n",
    "        while(l<r):\n",
    "            mid = int(l+(r-l)/2)\n",
    "            if target<nums[mid]:\n",
    "                r = mid\n",
    "            elif target>nums[mid]:\n",
    "                l = mid+1\n",
    "            else:\n",
    "                l = mid+1\n",
    "                \n",
    "        if nums[l-1]!=target:\n",
    "            return [-1,-1]\n",
    "        \n",
    "        right_boundary = l-1\n",
    "    \n",
    "        return [left_boundary,right_boundary]\n",
    "        "
   ]
  },
  {
   "cell_type": "code",
   "execution_count": null,
   "metadata": {},
   "outputs": [],
   "source": []
  }
 ],
 "metadata": {
  "interpreter": {
   "hash": "31f2aee4e71d21fbe5cf8b01ff0e069b9275f58929596ceb00d14d90e3e16cd6"
  },
  "kernelspec": {
   "display_name": "Python 3.8.9 64-bit",
   "language": "python",
   "name": "python3"
  },
  "language_info": {
   "codemirror_mode": {
    "name": "ipython",
    "version": 3
   },
   "file_extension": ".py",
   "mimetype": "text/x-python",
   "name": "python",
   "nbconvert_exporter": "python",
   "pygments_lexer": "ipython3",
   "version": "3.8.9"
  },
  "orig_nbformat": 4
 },
 "nbformat": 4,
 "nbformat_minor": 2
}
