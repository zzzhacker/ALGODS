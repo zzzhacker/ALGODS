{
 "cells": [
  {
   "cell_type": "markdown",
   "metadata": {},
   "source": [
    "<div class=\"content__u3I1 question-content__JfgR\"><div><p>This is an <strong><em>interactive problem</em></strong>.</p>\n",
    "\n",
    "<p>You have a sorted array of <strong>unique</strong> elements and an <strong>unknown size</strong>. You do not have an access to the array but you can use the <code>ArrayReader</code> interface to access it. You can call <code>ArrayReader.get(i)</code> that:</p>\n",
    "\n",
    "<ul>\n",
    "\t<li>returns the value at the <code>i<sup>th</sup></code> index (<strong>0-indexed</strong>) of the secret array (i.e., <code>secret[i]</code>), or</li>\n",
    "\t<li>returns <code>2<sup>31</sup> - 1</code> if the <code>i</code> is out of the boundary of the array.</li>\n",
    "</ul>\n",
    "\n",
    "<p>You are also given an integer <code>target</code>.</p>\n",
    "\n",
    "<p>Return the index <code>k</code> of the hidden array where <code>secret[k] == target</code> or return <code>-1</code> otherwise.</p>\n",
    "\n",
    "<p>You must write an algorithm with <code>O(log n)</code> runtime complexity.</p>\n",
    "\n",
    "<p>&nbsp;</p>\n",
    "<p><strong>Example 1:</strong></p>\n",
    "\n",
    "<pre><strong>Input:</strong> secret = [-1,0,3,5,9,12], target = 9\n",
    "<strong>Output:</strong> 4\n",
    "<strong>Explanation:</strong> 9 exists in secret and its index is 4.\n",
    "</pre>\n",
    "\n",
    "<p><strong>Example 2:</strong></p>\n",
    "\n",
    "<pre><strong>Input:</strong> secret = [-1,0,3,5,9,12], target = 2\n",
    "<strong>Output:</strong> -1\n",
    "<strong>Explanation:</strong> 2 does not exist in secret so return -1.\n",
    "</pre>\n",
    "\n",
    "<p>&nbsp;</p>\n",
    "<p><strong>Constraints:</strong></p>\n",
    "\n",
    "<ul>\n",
    "\t<li><code>1 &lt;= secret.length &lt;= 10<sup>4</sup></code></li>\n",
    "\t<li><code>-10<sup>4</sup> &lt;= secret[i], target &lt;= 10<sup>4</sup></code></li>\n",
    "\t<li><code>secret</code> is sorted in a strictly increasing order.</li>\n",
    "</ul>\n",
    "</div></div>"
   ]
  },
  {
   "cell_type": "code",
   "execution_count": null,
   "metadata": {},
   "outputs": [],
   "source": [
    "## using template \n",
    "\n",
    "class Solution:\n",
    "    def search(self, reader: 'ArrayReader', target: int) -> int:\n",
    "        l = 0\n",
    "        r = 10000\n",
    "        while(l<r):\n",
    "            mid = l+ int((r-l)/2)\n",
    "            if reader.get(mid) == 2**31-1 or reader.get(mid) >= target:\n",
    "                r = mid\n",
    "            else:\n",
    "                l = mid+1\n",
    "        \n",
    "        return r if reader.get(r)==target else -1\n",
    "    "
   ]
  }
 ],
 "metadata": {
  "language_info": {
   "name": "python"
  },
  "orig_nbformat": 4
 },
 "nbformat": 4,
 "nbformat_minor": 2
}
