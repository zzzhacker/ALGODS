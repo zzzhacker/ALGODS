{
 "cells": [
  {
   "cell_type": "markdown",
   "metadata": {},
   "source": [
    "<div class=\"_1l1MA\"><p>You are given an array <code>trees</code> where <code>trees[i] = [x<sub>i</sub>, y<sub>i</sub>]</code> represents the location of a tree in the garden.</p>\n",
    "\n",
    "<p>You are asked to fence the entire garden using the minimum length of rope as it is expensive. The garden is well fenced only if <strong>all the trees are enclosed</strong>.</p>\n",
    "\n",
    "<p>Return <em>the coordinates of trees that are exactly located on the fence perimeter</em>.</p>\n",
    "\n",
    "<p>&nbsp;</p>\n",
    "<p><strong class=\"example\">Example 1:</strong></p>\n",
    "<img alt=\"\" src=\"https://assets.leetcode.com/uploads/2021/04/24/erect2-plane.jpg\" style=\"width: 509px; height: 500px;\">\n",
    "<pre><strong>Input:</strong> points = [[1,1],[2,2],[2,0],[2,4],[3,3],[4,2]]\n",
    "<strong>Output:</strong> [[1,1],[2,0],[3,3],[2,4],[4,2]]\n",
    "</pre>\n",
    "\n",
    "<p><strong class=\"example\">Example 2:</strong></p>\n",
    "<img alt=\"\" src=\"https://assets.leetcode.com/uploads/2021/04/24/erect1-plane.jpg\" style=\"width: 509px; height: 500px;\">\n",
    "<pre><strong>Input:</strong> points = [[1,2],[2,2],[4,2]]\n",
    "<strong>Output:</strong> [[4,2],[2,2],[1,2]]\n",
    "</pre>\n",
    "\n",
    "<p>&nbsp;</p>\n",
    "<p><strong>Constraints:</strong></p>\n",
    "\n",
    "<ul>\n",
    "\t<li><code>1 &lt;= points.length &lt;= 3000</code></li>\n",
    "\t<li><code>points[i].length == 2</code></li>\n",
    "\t<li><code>0 &lt;= x<sub>i</sub>, y<sub>i</sub> &lt;= 100</code></li>\n",
    "\t<li>All the given points are <strong>unique</strong>.</li>\n",
    "</ul>\n",
    "</div>"
   ]
  },
  {
   "cell_type": "code",
   "execution_count": 1,
   "metadata": {},
   "outputs": [],
   "source": [
    "from typing import List\n",
    "class Solution:\n",
    "    def outerTrees(self, trees: List[List[int]]) -> List[List[int]]:\n",
    "        sorted_tress = sorted([(x,y) for x,y in trees],key=lambda x:(x[0],-x[1]))\n",
    "        def triangle(x,y,z):\n",
    "            if((z[1] - y[1]) * (y[0] - x[0]) > (y[1] - x[1]) * (z[0] - y[0])): return \"upper\"\n",
    "            elif ((z[1] - y[1]) * (y[0] - x[0]) < (y[1] - x[1]) * (z[0] - y[0])): return \"lower\"\n",
    "            else: return \"linear\"\n",
    "\n",
    "        prev = -1\n",
    "        upper_hull = [ ]\n",
    "        for x,y in sorted_tress:\n",
    "            if x!= prev: \n",
    "                while len(upper_hull)>1 and triangle(upper_hull[-2],upper_hull[-1],(x,y))==\"lower\": upper_hull.pop()  \n",
    "                upper_hull.append((x,y))\n",
    "        sorted_tress = sorted([(x,y) for x,y in trees],key=lambda x:(x[0],-x[1]))\n",
    "        prev = -1\n",
    "        lower_hull = [ ]\n",
    "        for x,y in sorted_tress:\n",
    "            if x!= prev: \n",
    "                while len(lower_hull)>1 and triangle(lower_hull[-2],lower_hull[-1],(x,y))==\"upper\": lower_hull.pop()  \n",
    "                lower_hull.append((x,y))\n",
    "\n",
    "        return list(set(upper_hull+lower_hull))"
   ]
  },
  {
   "cell_type": "code",
   "execution_count": null,
   "metadata": {},
   "outputs": [],
   "source": []
  }
 ],
 "metadata": {
  "kernelspec": {
   "display_name": "Python 3.9.6 64-bit",
   "language": "python",
   "name": "python3"
  },
  "language_info": {
   "codemirror_mode": {
    "name": "ipython",
    "version": 3
   },
   "file_extension": ".py",
   "mimetype": "text/x-python",
   "name": "python",
   "nbconvert_exporter": "python",
   "pygments_lexer": "ipython3",
   "version": "3.9.6"
  },
  "orig_nbformat": 4,
  "vscode": {
   "interpreter": {
    "hash": "31f2aee4e71d21fbe5cf8b01ff0e069b9275f58929596ceb00d14d90e3e16cd6"
   }
  }
 },
 "nbformat": 4,
 "nbformat_minor": 2
}
