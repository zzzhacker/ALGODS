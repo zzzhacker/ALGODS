{
 "cells": [
  {
   "cell_type": "markdown",
   "metadata": {},
   "source": [
    "<div class=\"content__u3I1 question-content__JfgR\"><div><p>Given a string <code>s</code>, you&nbsp;can transform every letter individually to be lowercase or uppercase to create another string.</p>\n",
    "\n",
    "<p>Return <em>a list of all possible strings we could create</em>. Return the output in <strong>any order</strong>.</p>\n",
    "\n",
    "<p>&nbsp;</p>\n",
    "<p><strong>Example 1:</strong></p>\n",
    "\n",
    "<pre><strong>Input:</strong> s = \"a1b2\"\n",
    "<strong>Output:</strong> [\"a1b2\",\"a1B2\",\"A1b2\",\"A1B2\"]\n",
    "</pre>\n",
    "\n",
    "<p><strong>Example 2:</strong></p>\n",
    "\n",
    "<pre><strong>Input:</strong> s = \"3z4\"\n",
    "<strong>Output:</strong> [\"3z4\",\"3Z4\"]\n",
    "</pre>\n",
    "\n",
    "<p>&nbsp;</p>\n",
    "<p><strong>Constraints:</strong></p>\n",
    "\n",
    "<ul>\n",
    "\t<li><code>1 &lt;= s.length &lt;= 12</code></li>\n",
    "\t<li><code>s</code> consists of lowercase English letters, uppercase English letters, and digits.</li>\n",
    "</ul>\n",
    "</div></div>"
   ]
  },
  {
   "cell_type": "code",
   "execution_count": 2,
   "metadata": {},
   "outputs": [],
   "source": [
    "## using template\n",
    "from typing import List\n",
    "class Solution:\n",
    "    def letterCasePermutation(self, s: str) -> List[str]:\n",
    "        res = []\n",
    "        \n",
    "        def flip(ch):\n",
    "            return ch.upper() if ch.islower() else ch.lower()\n",
    "        \n",
    "        def backtrack(start,track):\n",
    "            res.append(track)\n",
    "            for i in range(start,len(s)):\n",
    "                if not s[i].isnumeric():\n",
    "                    track = track[:i]+flip(track[i])+track[i+1:]\n",
    "                    backtrack(i+1,track)\n",
    "                    track = track[:i]+flip(track[i])+track[i+1:]\n",
    "        backtrack(0,s)\n",
    "        \n",
    "        return res"
   ]
  },
  {
   "cell_type": "code",
   "execution_count": null,
   "metadata": {},
   "outputs": [],
   "source": []
  }
 ],
 "metadata": {
  "interpreter": {
   "hash": "31f2aee4e71d21fbe5cf8b01ff0e069b9275f58929596ceb00d14d90e3e16cd6"
  },
  "kernelspec": {
   "display_name": "Python 3.8.9 64-bit",
   "language": "python",
   "name": "python3"
  },
  "language_info": {
   "codemirror_mode": {
    "name": "ipython",
    "version": 3
   },
   "file_extension": ".py",
   "mimetype": "text/x-python",
   "name": "python",
   "nbconvert_exporter": "python",
   "pygments_lexer": "ipython3",
   "version": "3.8.9"
  },
  "orig_nbformat": 4
 },
 "nbformat": 4,
 "nbformat_minor": 2
}
