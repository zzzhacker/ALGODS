{
 "cells": [
  {
   "cell_type": "markdown",
   "metadata": {},
   "source": [
    "<div class=\"content__u3I1 question-content__JfgR\"><div><p>Given a string containing digits from <code>2-9</code> inclusive, return all possible letter combinations that the number could represent. Return the answer in <strong>any order</strong>.</p>\n",
    "\n",
    "<p>A mapping of digits to letters (just like on the telephone buttons) is given below. Note that 1 does not map to any letters.</p>\n",
    "<img alt=\"\" src=\"https://assets.leetcode.com/uploads/2022/03/15/1200px-telephone-keypad2svg.png\" style=\"width: 300px; height: 243px;\">\n",
    "<p>&nbsp;</p>\n",
    "<p><strong>Example 1:</strong></p>\n",
    "\n",
    "<pre><strong>Input:</strong> digits = \"23\"\n",
    "<strong>Output:</strong> [\"ad\",\"ae\",\"af\",\"bd\",\"be\",\"bf\",\"cd\",\"ce\",\"cf\"]\n",
    "</pre>\n",
    "\n",
    "<p><strong>Example 2:</strong></p>\n",
    "\n",
    "<pre><strong>Input:</strong> digits = \"\"\n",
    "<strong>Output:</strong> []\n",
    "</pre>\n",
    "\n",
    "<p><strong>Example 3:</strong></p>\n",
    "\n",
    "<pre><strong>Input:</strong> digits = \"2\"\n",
    "<strong>Output:</strong> [\"a\",\"b\",\"c\"]\n",
    "</pre>\n",
    "\n",
    "<p>&nbsp;</p>\n",
    "<p><strong>Constraints:</strong></p>\n",
    "\n",
    "<ul>\n",
    "\t<li><code>0 &lt;= digits.length &lt;= 4</code></li>\n",
    "\t<li><code>digits[i]</code> is a digit in the range <code>['2', '9']</code>.</li>\n",
    "</ul>\n",
    "</div></div>"
   ]
  },
  {
   "cell_type": "code",
   "execution_count": 1,
   "metadata": {},
   "outputs": [],
   "source": [
    "from typing import List\n",
    "class Solution:\n",
    "    def letterCombinations(self, digits: str) -> List[str]:\n",
    "        ans = []\n",
    "        dictionary = {\"2\":['a','b','c'],\"3\":['d','e','f'],\"4\":['g','h','i'],\"5\":['j','k','l'],\"6\":['m','n','o'],\"7\":['p','q','r','s'],\"8\":['t','u','v'],\"9\":['w','x','y','z']}\n",
    "        def numbers(s,word_len):\n",
    "            if word_len==len(digits):\n",
    "                if s: ans.append(s)\n",
    "                return\n",
    "            else:\n",
    "                for ch in dictionary[digits[word_len]]:\n",
    "                    s += ch\n",
    "                    numbers(s,word_len+1)\n",
    "                    s = s[:-1]\n",
    "        numbers(\"\",0)\n",
    "        return ans"
   ]
  }
 ],
 "metadata": {
  "kernelspec": {
   "display_name": "Python 3.9.5 ('base')",
   "language": "python",
   "name": "python3"
  },
  "language_info": {
   "name": "python",
   "version": "3.9.5"
  },
  "orig_nbformat": 4,
  "vscode": {
   "interpreter": {
    "hash": "2ad565f1b5e7dbf9f0330bb692af7394eacf839d42e6c67731ff37b5e1249471"
   }
  }
 },
 "nbformat": 4,
 "nbformat_minor": 2
}
