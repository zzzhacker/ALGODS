{
 "cells": [
  {
   "cell_type": "markdown",
   "metadata": {},
   "source": [
    "<div class=\"content__u3I1 question-content__JfgR\"><div><p>Given a string&nbsp;<code>s</code><var>,</var>&nbsp;return <em>the maximum&nbsp;number of unique substrings that the given string can be split into</em>.</p>\n",
    "\n",
    "<p>You can split string&nbsp;<code>s</code> into any list of&nbsp;<strong>non-empty substrings</strong>, where the concatenation of the substrings forms the original string.&nbsp;However, you must split the substrings such that all of them are <strong>unique</strong>.</p>\n",
    "\n",
    "<p>A <strong>substring</strong> is a contiguous sequence of characters within a string.</p>\n",
    "\n",
    "<p>&nbsp;</p>\n",
    "<p><strong>Example 1:</strong></p>\n",
    "\n",
    "<pre><strong>Input:</strong> s = \"ababccc\"\n",
    "<strong>Output:</strong> 5\n",
    "<strong>Explanation</strong>: One way to split maximally is ['a', 'b', 'ab', 'c', 'cc']. Splitting like ['a', 'b', 'a', 'b', 'c', 'cc'] is not valid as you have 'a' and 'b' multiple times.\n",
    "</pre>\n",
    "\n",
    "<p><strong>Example 2:</strong></p>\n",
    "\n",
    "<pre><strong>Input:</strong> s = \"aba\"\n",
    "<strong>Output:</strong> 2\n",
    "<strong>Explanation</strong>: One way to split maximally is ['a', 'ba'].\n",
    "</pre>\n",
    "\n",
    "<p><strong>Example 3:</strong></p>\n",
    "\n",
    "<pre><strong>Input:</strong> s = \"aa\"\n",
    "<strong>Output:</strong> 1\n",
    "<strong>Explanation</strong>: It is impossible to split the string any further.\n",
    "</pre>\n",
    "\n",
    "<p>&nbsp;</p>\n",
    "<p><strong>Constraints:</strong></p>\n",
    "\n",
    "<ul>\n",
    "\t<li>\n",
    "\t<p><code>1 &lt;= s.length&nbsp;&lt;= 16</code></p>\n",
    "\t</li>\n",
    "\t<li>\n",
    "\t<p><code>s</code> contains&nbsp;only lower case English letters.</p>\n",
    "\t</li>\n",
    "</ul>\n",
    "</div></div>"
   ]
  },
  {
   "cell_type": "code",
   "execution_count": 1,
   "metadata": {},
   "outputs": [],
   "source": [
    "class Solution:\n",
    "    def maxUniqueSplit(self, s: str) -> int:\n",
    "       \n",
    "        track = set()\n",
    "        def backtrack(start,curr,count):\n",
    "            _count = count\n",
    "            for i in range(start,len(s)):\n",
    "                curr += s[i]\n",
    "                if curr not in track:\n",
    "                    track.add(curr)\n",
    "                    _count = max(_count,backtrack(i+1,\"\",count+1))\n",
    "                    track.remove(curr)\n",
    "            return _count\n",
    "        return backtrack(0,\"\",0)"
   ]
  }
 ],
 "metadata": {
  "kernelspec": {
   "display_name": "Python 3.8.9 64-bit",
   "language": "python",
   "name": "python3"
  },
  "language_info": {
   "codemirror_mode": {
    "name": "ipython",
    "version": 3
   },
   "file_extension": ".py",
   "mimetype": "text/x-python",
   "name": "python",
   "nbconvert_exporter": "python",
   "pygments_lexer": "ipython3",
   "version": "3.8.9"
  },
  "orig_nbformat": 4,
  "vscode": {
   "interpreter": {
    "hash": "31f2aee4e71d21fbe5cf8b01ff0e069b9275f58929596ceb00d14d90e3e16cd6"
   }
  }
 },
 "nbformat": 4,
 "nbformat_minor": 2
}
