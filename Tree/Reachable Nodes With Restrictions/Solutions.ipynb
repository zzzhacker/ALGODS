{
 "cells": [
  {
   "cell_type": "markdown",
   "metadata": {},
   "source": [
    "<div class=\"content__u3I1 question-content__JfgR\"><div><p>There is an undirected tree with <code>n</code> nodes labeled from <code>0</code> to <code>n - 1</code> and <code>n - 1</code> edges.</p>\n",
    "\n",
    "<p>You are given a 2D integer array <code>edges</code> of length <code>n - 1</code> where <code>edges[i] = [a<sub>i</sub>, b<sub>i</sub>]</code> indicates that there is an edge between nodes <code>a<sub>i</sub></code> and <code>b<sub>i</sub></code> in the tree. You are also given an integer array <code>restricted</code> which represents <strong>restricted</strong> nodes.</p>\n",
    "\n",
    "<p>Return <em>the <strong>maximum</strong> number of nodes you can reach from node </em><code>0</code><em> without visiting a restricted node.</em></p>\n",
    "\n",
    "<p>Note that node <code>0</code> will <strong>not</strong> be a restricted node.</p>\n",
    "\n",
    "<p>&nbsp;</p>\n",
    "<p><strong>Example 1:</strong></p>\n",
    "<img alt=\"\" src=\"https://assets.leetcode.com/uploads/2022/06/15/ex1drawio.png\" style=\"width: 402px; height: 322px;\">\n",
    "<pre><strong>Input:</strong> n = 7, edges = [[0,1],[1,2],[3,1],[4,0],[0,5],[5,6]], restricted = [4,5]\n",
    "<strong>Output:</strong> 4\n",
    "<strong>Explanation:</strong> The diagram above shows the tree.\n",
    "We have that [0,1,2,3] are the only nodes that can be reached from node 0 without visiting a restricted node.\n",
    "</pre>\n",
    "\n",
    "<p><strong>Example 2:</strong></p>\n",
    "<img alt=\"\" src=\"https://assets.leetcode.com/uploads/2022/06/15/ex2drawio.png\" style=\"width: 412px; height: 312px;\">\n",
    "<pre><strong>Input:</strong> n = 7, edges = [[0,1],[0,2],[0,5],[0,4],[3,2],[6,5]], restricted = [4,2,1]\n",
    "<strong>Output:</strong> 3\n",
    "<strong>Explanation:</strong> The diagram above shows the tree.\n",
    "We have that [0,5,6] are the only nodes that can be reached from node 0 without visiting a restricted node.\n",
    "</pre>\n",
    "\n",
    "<p>&nbsp;</p>\n",
    "<p><strong>Constraints:</strong></p>\n",
    "\n",
    "<ul>\n",
    "\t<li><code>2 &lt;= n &lt;= 10<sup>5</sup></code></li>\n",
    "\t<li><code>edges.length == n - 1</code></li>\n",
    "\t<li><code>edges[i].length == 2</code></li>\n",
    "\t<li><code>0 &lt;= a<sub>i</sub>, b<sub>i</sub> &lt; n</code></li>\n",
    "\t<li><code>a<sub>i</sub> != b<sub>i</sub></code></li>\n",
    "\t<li><code>edges</code> represents a valid tree.</li>\n",
    "\t<li><code>1 &lt;= restricted.length &lt; n</code></li>\n",
    "\t<li><code>1 &lt;= restricted[i] &lt; n</code></li>\n",
    "\t<li>All the values of <code>restricted</code> are <strong>unique</strong>.</li>\n",
    "</ul>\n",
    "</div></div>"
   ]
  },
  {
   "cell_type": "code",
   "execution_count": 2,
   "metadata": {},
   "outputs": [],
   "source": [
    "from collections import defaultdict\n",
    "from typing import List\n",
    "class Solution:\n",
    "    def reachableNodes(self, n: int, edges: List[List[int]], restricted: List[int]) -> int:\n",
    "        graph = defaultdict(list)\n",
    "        restricted = set(restricted)\n",
    "        for edge in edges:\n",
    "            graph[edge[0]].append(edge[1])\n",
    "            graph[edge[1]].append(edge[0])\n",
    "            \n",
    "        ans = [0]\n",
    "        visited = [False]*n\n",
    "        def numReachable(node):\n",
    "            visited[node] = True\n",
    "            if node not in restricted:\n",
    "                ans[0] +=1\n",
    "                for child in graph[node]:\n",
    "                    if not visited[child]:\n",
    "                        numReachable(child)\n",
    "        \n",
    "        numReachable(0)\n",
    "        return ans[0]"
   ]
  },
  {
   "cell_type": "code",
   "execution_count": null,
   "metadata": {},
   "outputs": [],
   "source": []
  }
 ],
 "metadata": {
  "interpreter": {
   "hash": "31f2aee4e71d21fbe5cf8b01ff0e069b9275f58929596ceb00d14d90e3e16cd6"
  },
  "kernelspec": {
   "display_name": "Python 3.8.9 64-bit",
   "language": "python",
   "name": "python3"
  },
  "language_info": {
   "codemirror_mode": {
    "name": "ipython",
    "version": 3
   },
   "file_extension": ".py",
   "mimetype": "text/x-python",
   "name": "python",
   "nbconvert_exporter": "python",
   "pygments_lexer": "ipython3",
   "version": "3.8.9"
  },
  "orig_nbformat": 4
 },
 "nbformat": 4,
 "nbformat_minor": 2
}
