{
 "cells": [
  {
   "cell_type": "markdown",
   "metadata": {},
   "source": [
    "<div class=\"content__u3I1 question-content__JfgR\"><div><p>Given two integer arrays <code>preorder</code> and <code>inorder</code> where <code>preorder</code> is the preorder traversal of a binary tree and <code>inorder</code> is the inorder traversal of the same tree, construct and return <em>the binary tree</em>.</p>\n",
    "\n",
    "<p>&nbsp;</p>\n",
    "<p><strong>Example 1:</strong></p>\n",
    "<img alt=\"\" src=\"https://assets.leetcode.com/uploads/2021/02/19/tree.jpg\" style=\"width: 277px; height: 302px;\">\n",
    "<pre><strong>Input:</strong> preorder = [3,9,20,15,7], inorder = [9,3,15,20,7]\n",
    "<strong>Output:</strong> [3,9,20,null,null,15,7]\n",
    "</pre>\n",
    "\n",
    "<p><strong>Example 2:</strong></p>\n",
    "\n",
    "<pre><strong>Input:</strong> preorder = [-1], inorder = [-1]\n",
    "<strong>Output:</strong> [-1]\n",
    "</pre>\n",
    "\n",
    "<p>&nbsp;</p>\n",
    "<p><strong>Constraints:</strong></p>\n",
    "\n",
    "<ul>\n",
    "\t<li><code>1 &lt;= preorder.length &lt;= 3000</code></li>\n",
    "\t<li><code>inorder.length == preorder.length</code></li>\n",
    "\t<li><code>-3000 &lt;= preorder[i], inorder[i] &lt;= 3000</code></li>\n",
    "\t<li><code>preorder</code> and <code>inorder</code> consist of <strong>unique</strong> values.</li>\n",
    "\t<li>Each value of <code>inorder</code> also appears in <code>preorder</code>.</li>\n",
    "\t<li><code>preorder</code> is <strong>guaranteed</strong> to be the preorder traversal of the tree.</li>\n",
    "\t<li><code>inorder</code> is <strong>guaranteed</strong> to be the inorder traversal of the tree.</li>\n",
    "</ul>\n",
    "</div></div>"
   ]
  },
  {
   "cell_type": "code",
   "execution_count": null,
   "metadata": {},
   "outputs": [],
   "source": [
    "from typing import List,Optional\n",
    "class TreeNode:\n",
    "    def __init__(self, val=0, left=None, right=None):\n",
    "        self.val = val\n",
    "        self.left = left\n",
    "        self.right = right\n",
    "class Solution:\n",
    "    def buildTree(self, preorder: List[int], inorder: List[int]) -> Optional[TreeNode]:\n",
    "            preorder_p = {'index':0}\n",
    "            l,r = 0,len(preorder)-1\n",
    "            def build(l,r):\n",
    "                if l==r:\n",
    "                    preorder_p['index'] += 1\n",
    "                    return TreeNode(inorder[l])\n",
    "                elif l>r or r<l:\n",
    "                    return None\n",
    "                else:\n",
    "                    split = l+inorder[l:r+1].index(preorder[preorder_p['index']])\n",
    "                    root = TreeNode(preorder[preorder_p['index']])\n",
    "                    preorder_p['index'] += 1\n",
    "                    root.left = build(l,split-1)\n",
    "                    root.right = build(split+1,r)\n",
    "                    return root\n",
    "            return build(l,r)\n"
   ]
  }
 ],
 "metadata": {
  "language_info": {
   "name": "python"
  },
  "orig_nbformat": 4
 },
 "nbformat": 4,
 "nbformat_minor": 2
}
