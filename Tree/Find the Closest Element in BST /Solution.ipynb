{
 "cells": [
  {
   "cell_type": "markdown",
   "source": [
    "<div class=\"problem-statement\">\n",
    "                <p></p><p><span style=\"font-size:18px\">Given a <strong><a href=\"http://quiz.geeksforgeeks.org/binary-search-tree-set-1-search-and-insertion/\" target=\"_blank\">BST</a></strong>&nbsp;and an integer. Find the least absolute difference between any node value of the BST and the given integer.</span></p>\n",
    "\n",
    "<p><span style=\"font-size:18px\"><strong>Example 1:</strong></span></p>\n",
    "\n",
    "<pre><span style=\"font-size:18px\"><strong>Input:\n",
    "</strong>        10\n",
    "&nbsp;     /   \\\n",
    "&nbsp;    2    11\n",
    "&nbsp;  /  \\ \n",
    "&nbsp; 1    5\n",
    "&nbsp;     /  \\\n",
    "&nbsp;    3    6\n",
    "&nbsp;     \\\n",
    "&nbsp;      4\n",
    "K = 13\n",
    "<strong>Output: </strong>2<strong>\n",
    "Explanation: </strong>K=13. The node that has\n",
    "value nearest to K is 11. so the answer\n",
    "is 2</span>\n",
    "</pre>\n",
    "\n",
    "<p><span style=\"font-size:18px\"><strong>Example 2:</strong></span></p>\n",
    "\n",
    "<pre><span style=\"font-size:18px\"><strong>Input:\n",
    "</strong>      8\n",
    "&nbsp;   /   \\\n",
    "&nbsp;  1     9\n",
    "&nbsp;   \\     \\\n",
    "&nbsp;    4    10\n",
    "&nbsp;   /\n",
    "&nbsp;  3\n",
    "K = 9\n",
    "<strong>Output: </strong>0<strong>\n",
    "Explanation: </strong>K=9. The node that has\n",
    "value nearest to K is 9. so the answer\n",
    "is 0.</span></pre>\n",
    "\n",
    "<p><span style=\"font-size:18px\"><strong>Your Task:</strong><br>\n",
    "You don't need to read input or print anything. Your task is to complete the function</span><span style=\"font-size:18px\"><strong> minDiff()&nbsp;</strong>that takes&nbsp;the root of the BST and an integer K as its input and returns the minimum absolute difference between any node value of the BST and the integer K.</span></p>\n",
    "\n",
    "<p><span style=\"font-size:18px\"><strong>Expected Time Complexity:&nbsp;</strong>O(Height of the BST).<br>\n",
    "<strong>Expected Auxiliary Space:&nbsp;</strong>O(Height of the BST).</span></p>\n",
    "\n",
    "<p><span style=\"font-size:18px\"><strong>Constraints:</strong><br>\n",
    "1 &lt;= Number of nodes&nbsp;&lt;= 100000</span></p>\n",
    " <p></p>\n",
    "            </div>"
   ],
   "metadata": {}
  },
  {
   "cell_type": "code",
   "execution_count": null,
   "source": [
    "class Solution:\n",
    "    #Function to find the least absolute difference between any node\n",
    "    #value of the BST and the given integer.\n",
    "    def minDiff(self,root, K):\n",
    "        # code here\n",
    "        minimum = float(\"inf\")\n",
    "        return self.Mymin(root,K,minimum)\n",
    "        \n",
    "    def Mymin(self,root,K,minimum):\n",
    "        if root == None:\n",
    "            return minimum\n",
    "        else:\n",
    "            minimum =  min(abs(root.data-K),minimum)\n",
    "            return min(minimum,self.Mymin(root.left,K,minimum),self.Mymin(root.right,K,minimum))"
   ],
   "outputs": [],
   "metadata": {}
  }
 ],
 "metadata": {
  "orig_nbformat": 4,
  "language_info": {
   "name": "python",
   "version": "3.8.10"
  },
  "kernelspec": {
   "name": "python3",
   "display_name": "Python 3.8.10 64-bit"
  },
  "interpreter": {
   "hash": "916dbcbb3f70747c44a77c7bcd40155683ae19c65e1c03b4aa3499c5328201f1"
  }
 },
 "nbformat": 4,
 "nbformat_minor": 2
}