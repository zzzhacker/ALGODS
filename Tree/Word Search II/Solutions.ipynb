{
 "cells": [
  {
   "cell_type": "markdown",
   "metadata": {},
   "source": [
    "<div class=\"content__u3I1 question-content__JfgR\"><div><p>Given an <code>m x n</code> <code>board</code>&nbsp;of characters and a list of strings <code>words</code>, return <em>all words on the board</em>.</p>\n",
    "\n",
    "<p>Each word must be constructed from letters of sequentially adjacent cells, where <strong>adjacent cells</strong> are horizontally or vertically neighboring. The same letter cell may not be used more than once in a word.</p>\n",
    "\n",
    "<p>&nbsp;</p>\n",
    "<p><strong>Example 1:</strong></p>\n",
    "<img alt=\"\" src=\"https://assets.leetcode.com/uploads/2020/11/07/search1.jpg\" style=\"width: 322px; height: 322px;\">\n",
    "<pre><strong>Input:</strong> board = [[\"o\",\"a\",\"a\",\"n\"],[\"e\",\"t\",\"a\",\"e\"],[\"i\",\"h\",\"k\",\"r\"],[\"i\",\"f\",\"l\",\"v\"]], words = [\"oath\",\"pea\",\"eat\",\"rain\"]\n",
    "<strong>Output:</strong> [\"eat\",\"oath\"]\n",
    "</pre>\n",
    "\n",
    "<p><strong>Example 2:</strong></p>\n",
    "<img alt=\"\" src=\"https://assets.leetcode.com/uploads/2020/11/07/search2.jpg\" style=\"width: 162px; height: 162px;\">\n",
    "<pre><strong>Input:</strong> board = [[\"a\",\"b\"],[\"c\",\"d\"]], words = [\"abcb\"]\n",
    "<strong>Output:</strong> []\n",
    "</pre>\n",
    "\n",
    "<p>&nbsp;</p>\n",
    "<p><strong>Constraints:</strong></p>\n",
    "\n",
    "<ul>\n",
    "\t<li><code>m == board.length</code></li>\n",
    "\t<li><code>n == board[i].length</code></li>\n",
    "\t<li><code>1 &lt;= m, n &lt;= 12</code></li>\n",
    "\t<li><code>board[i][j]</code> is a lowercase English letter.</li>\n",
    "\t<li><code>1 &lt;= words.length &lt;= 3 * 10<sup>4</sup></code></li>\n",
    "\t<li><code>1 &lt;= words[i].length &lt;= 10</code></li>\n",
    "\t<li><code>words[i]</code> consists of lowercase English letters.</li>\n",
    "\t<li>All the strings of <code>words</code> are unique.</li>\n",
    "</ul>\n",
    "</div></div>"
   ]
  },
  {
   "cell_type": "code",
   "execution_count": 107,
   "metadata": {},
   "outputs": [],
   "source": [
    "from typing import List\n",
    "class Trie:\n",
    "    def __init__(self):\n",
    "        self.neighbours = {}\n",
    "        \n",
    "    def insert(self, word: str) -> None:\n",
    "        current = self.neighbours\n",
    "        for letter in word:\n",
    "            if letter in current:\n",
    "                current = current[letter]\n",
    "            else:\n",
    "                current[letter] = {}\n",
    "                current = current[letter]\n",
    "        current['end'] = {}\n",
    "                \n",
    "        \n",
    "    def remove(self, word: str) -> None:\n",
    "        current = self.neighbours\n",
    "        del_node = current\n",
    "        del_index = 0\n",
    "        for i,letter in enumerate(word):\n",
    "            if len(current[letter])>1:\n",
    "                del_node = current[letter]\n",
    "                del_index = i+1\n",
    "                current = current[letter]\n",
    "            else:\n",
    "                current = current[letter]\n",
    "        if del_index != len(word):\n",
    "            del del_node[word[del_index]] \n",
    "        else:\n",
    "            del del_node['end']\n",
    "\n",
    "    def search(self, word: str) -> bool:\n",
    "        current = self.neighbours\n",
    "        for letter in word:\n",
    "            if letter not in current:\n",
    "                return False\n",
    "            current = current[letter]\n",
    "        if 'end' in current:\n",
    "            return True\n",
    "        return False\n",
    "\n",
    "    def startsWith(self, prefix: str) -> bool:\n",
    "        current = self.neighbours\n",
    "        for letter in prefix:\n",
    "            if letter not in current:\n",
    "                return False\n",
    "            current = current[letter]\n",
    "        return True\n",
    "    \n",
    "    \n",
    "class Solution:\n",
    "    def findWords(self, board: List[List[str]], words: List[str]) -> List[str]:\n",
    "        word_trie = Trie()\n",
    "        for word in words:\n",
    "            word_trie.insert(word)\n",
    "            \n",
    "        r = len(board)\n",
    "        c = len(board[0])\n",
    "        def dfs(i,j,visited,s):\n",
    "            visited.add((i,j))\n",
    "            s += board[i][j]\n",
    "            if word_trie.search(s):\n",
    "                ans.add(s)\n",
    "                word_trie.remove(s)\n",
    "\n",
    "            for pi,pj in [[i+1,j],[i-1,j],[i,j+1],[i,j-1]]:\n",
    "                if pi>-1 and pi<r and pj>-1 and pj<c and word_trie.startsWith(s+board[pi][pj]) and (pi,pj) not in visited:\n",
    "                    dfs(pi,pj,visited,s)\n",
    "            visited.remove((i,j))\n",
    "            \n",
    "        ans = set()\n",
    "        for i in range(r):\n",
    "            for j in range(c):\n",
    "                visited = set()\n",
    "                dfs(i,j,visited,'')\n",
    "                \n",
    "        return list(ans)"
   ]
  },
  {
   "cell_type": "code",
   "execution_count": 108,
   "metadata": {},
   "outputs": [
    {
     "name": "stdout",
     "output_type": "stream",
     "text": [
      "{'o': {'a': {'t': {'h': {'end': {}}}}}, 'p': {'e': {'a': {'end': {}}}}, 'e': {'a': {'t': {'end': {}}}}, 'r': {'a': {'i': {'n': {'end': {}}}}}, 'h': {'k': {'l': {'f': {'end': {}}}}, 'f': {'end': {}}}}\n",
      "{'o': {'a': {'t': {'h': {'end': {}}}}}, 'p': {'e': {'a': {'end': {}}}}, 'e': {'a': {'t': {'end': {}}}}, 'r': {'a': {'i': {'n': {'end': {}}}}}, 'h': {'f': {'end': {}}}}\n"
     ]
    },
    {
     "data": {
      "text/plain": [
       "True"
      ]
     },
     "execution_count": 108,
     "metadata": {},
     "output_type": "execute_result"
    }
   ],
   "source": [
    "words = [\"oath\",\"pea\",\"eat\",\"rain\",\"hklf\", \"hf\"]\n",
    "word_trie = Trie()\n",
    "for word in words:\n",
    "    word_trie.insert(word)\n",
    "print(word_trie.neighbours)\n",
    "word_trie.remove('hklf')\n",
    "print(word_trie.neighbours) \n",
    "word_trie.search('hf')\n",
    "# word_trie.remove('aa')\n",
    "# print(word_trie.neighbours) \n",
    "# word_trie.search('aaa')\n",
    "# word_trie.remove('aaa')\n",
    "# print(word_trie.neighbours)\n",
    "\n"
   ]
  },
  {
   "cell_type": "code",
   "execution_count": 110,
   "metadata": {},
   "outputs": [
    {
     "data": {
      "text/plain": [
       "['aaaaaa',\n",
       " 'aaaaaaaa',\n",
       " 'aa',\n",
       " 'aaa',\n",
       " 'aaaaaaaaa',\n",
       " 'aaaaaaaaaa',\n",
       " 'aaaa',\n",
       " 'aaaaaaa',\n",
       " 'a',\n",
       " 'aaaaa']"
      ]
     },
     "execution_count": 110,
     "metadata": {},
     "output_type": "execute_result"
    }
   ],
   "source": [
    "Solution().findWords([[\"a\",\"a\",\"a\",\"a\",\"a\",\"a\",\"a\",\"a\",\"a\",\"a\",\"a\",\"a\"],[\"a\",\"a\",\"a\",\"a\",\"a\",\"a\",\"a\",\"a\",\"a\",\"a\",\"a\",\"a\"],[\"a\",\"a\",\"a\",\"a\",\"a\",\"a\",\"a\",\"a\",\"a\",\"a\",\"a\",\"a\"],[\"a\",\"a\",\"a\",\"a\",\"a\",\"a\",\"a\",\"a\",\"a\",\"a\",\"a\",\"a\"],[\"a\",\"a\",\"a\",\"a\",\"a\",\"a\",\"a\",\"a\",\"a\",\"a\",\"a\",\"a\"],[\"a\",\"a\",\"a\",\"a\",\"a\",\"a\",\"a\",\"a\",\"a\",\"a\",\"a\",\"a\"],[\"a\",\"a\",\"a\",\"a\",\"a\",\"a\",\"a\",\"a\",\"a\",\"a\",\"a\",\"a\"],[\"a\",\"a\",\"a\",\"a\",\"a\",\"a\",\"a\",\"a\",\"a\",\"a\",\"a\",\"a\"],[\"a\",\"a\",\"a\",\"a\",\"a\",\"a\",\"a\",\"a\",\"a\",\"a\",\"a\",\"a\"],[\"a\",\"a\",\"a\",\"a\",\"a\",\"a\",\"a\",\"a\",\"a\",\"a\",\"a\",\"a\"],[\"a\",\"a\",\"a\",\"a\",\"a\",\"a\",\"a\",\"a\",\"a\",\"a\",\"a\",\"a\"],[\"a\",\"a\",\"a\",\"a\",\"a\",\"a\",\"a\",\"a\",\"a\",\"a\",\"a\",\"a\"]],\n",
    "[\"lllllll\",\"fffffff\",\"ssss\",\"s\",\"rr\",\"xxxx\",\"ttt\",\"eee\",\"ppppppp\",\"iiiiiiiii\",\"xxxxxxxxxx\",\"pppppp\",\"xxxxxx\",\"yy\",\"jj\",\"ccc\",\"zzz\",\"ffffffff\",\"r\",\"mmmmmmmmm\",\"tttttttt\",\"mm\",\"ttttt\",\"qqqqqqqqqq\",\"z\",\"aaaaaaaa\",\"nnnnnnnnn\",\"v\",\"g\",\"ddddddd\",\"eeeeeeeee\",\"aaaaaaa\",\"ee\",\"n\",\"kkkkkkkkk\",\"ff\",\"qq\",\"vvvvv\",\"kkkk\",\"e\",\"nnn\",\"ooo\",\"kkkkk\",\"o\",\"ooooooo\",\"jjj\",\"lll\",\"ssssssss\",\"mmmm\",\"qqqqq\",\"gggggg\",\"rrrrrrrrrr\",\"iiii\",\"bbbbbbbbb\",\"aaaaaa\",\"hhhh\",\"qqq\",\"zzzzzzzzz\",\"xxxxxxxxx\",\"ww\",\"iiiiiii\",\"pp\",\"vvvvvvvvvv\",\"eeeee\",\"nnnnnnn\",\"nnnnnn\",\"nn\",\"nnnnnnnn\",\"wwwwwwww\",\"vvvvvvvv\",\"fffffffff\",\"aaa\",\"p\",\"ddd\",\"ppppppppp\",\"fffff\",\"aaaaaaaaa\",\"oooooooo\",\"jjjj\",\"xxx\",\"zz\",\"hhhhh\",\"uuuuu\",\"f\",\"ddddddddd\",\"zzzzzz\",\"cccccc\",\"kkkkkk\",\"bbbbbbbb\",\"hhhhhhhhhh\",\"uuuuuuu\",\"cccccccccc\",\"jjjjj\",\"gg\",\"ppp\",\"ccccccccc\",\"rrrrrr\",\"c\",\"cccccccc\",\"yyyyy\",\"uuuu\",\"jjjjjjjj\",\"bb\",\"hhh\",\"l\",\"u\",\"yyyyyy\",\"vvv\",\"mmm\",\"ffffff\",\"eeeeeee\",\"qqqqqqq\",\"zzzzzzzzzz\",\"ggg\",\"zzzzzzz\",\"dddddddddd\",\"jjjjjjj\",\"bbbbb\",\"ttttttt\",\"dddddddd\",\"wwwwwww\",\"vvvvvv\",\"iii\",\"ttttttttt\",\"ggggggg\",\"xx\",\"oooooo\",\"cc\",\"rrrr\",\"qqqq\",\"sssssss\",\"oooo\",\"lllllllll\",\"ii\",\"tttttttttt\",\"uuuuuu\",\"kkkkkkkk\",\"wwwwwwwwww\",\"pppppppppp\",\"uuuuuuuu\",\"yyyyyyy\",\"cccc\",\"ggggg\",\"ddddd\",\"llllllllll\",\"tttt\",\"pppppppp\",\"rrrrrrr\",\"nnnn\",\"x\",\"yyy\",\"iiiiiiiiii\",\"iiiiii\",\"llll\",\"nnnnnnnnnn\",\"aaaaaaaaaa\",\"eeeeeeeeee\",\"m\",\"uuu\",\"rrrrrrrr\",\"h\",\"b\",\"vvvvvvv\",\"ll\",\"vv\",\"mmmmmmm\",\"zzzzz\",\"uu\",\"ccccccc\",\"xxxxxxx\",\"ss\",\"eeeeeeee\",\"llllllll\",\"eeee\",\"y\",\"ppppp\",\"qqqqqq\",\"mmmmmm\",\"gggg\",\"yyyyyyyyy\",\"jjjjjj\",\"rrrrr\",\"a\",\"bbbb\",\"ssssss\",\"sss\",\"ooooo\",\"ffffffffff\",\"kkk\",\"xxxxxxxx\",\"wwwwwwwww\",\"w\",\"iiiiiiii\",\"ffff\",\"dddddd\",\"bbbbbb\",\"uuuuuuuuu\",\"kkkkkkk\",\"gggggggggg\",\"qqqqqqqq\",\"vvvvvvvvv\",\"bbbbbbbbbb\",\"nnnnn\",\"tt\",\"wwww\",\"iiiii\",\"hhhhhhh\",\"zzzzzzzz\",\"ssssssssss\",\"j\",\"fff\",\"bbbbbbb\",\"aaaa\",\"mmmmmmmmmm\",\"jjjjjjjjjj\",\"sssss\",\"yyyyyyyy\",\"hh\",\"q\",\"rrrrrrrrr\",\"mmmmmmmm\",\"wwwww\",\"www\",\"rrr\",\"lllll\",\"uuuuuuuuuu\",\"oo\",\"jjjjjjjjj\",\"dddd\",\"pppp\",\"hhhhhhhhh\",\"kk\",\"gggggggg\",\"xxxxx\",\"vvvv\",\"d\",\"qqqqqqqqq\",\"dd\",\"ggggggggg\",\"t\",\"yyyy\",\"bbb\",\"yyyyyyyyyy\",\"tttttt\",\"ccccc\",\"aa\",\"eeeeee\",\"llllll\",\"kkkkkkkkkk\",\"sssssssss\",\"i\",\"hhhhhh\",\"oooooooooo\",\"wwwwww\",\"ooooooooo\",\"zzzz\",\"k\",\"hhhhhhhh\",\"aaaaa\",\"mmmmm\"])"
   ]
  },
  {
   "cell_type": "code",
   "execution_count": null,
   "metadata": {},
   "outputs": [],
   "source": []
  }
 ],
 "metadata": {
  "interpreter": {
   "hash": "2ad565f1b5e7dbf9f0330bb692af7394eacf839d42e6c67731ff37b5e1249471"
  },
  "kernelspec": {
   "display_name": "Python 3.9.5 64-bit ('base': conda)",
   "language": "python",
   "name": "python3"
  },
  "language_info": {
   "codemirror_mode": {
    "name": "ipython",
    "version": 3
   },
   "file_extension": ".py",
   "mimetype": "text/x-python",
   "name": "python",
   "nbconvert_exporter": "python",
   "pygments_lexer": "ipython3",
   "version": "3.9.5"
  },
  "orig_nbformat": 4
 },
 "nbformat": 4,
 "nbformat_minor": 2
}
