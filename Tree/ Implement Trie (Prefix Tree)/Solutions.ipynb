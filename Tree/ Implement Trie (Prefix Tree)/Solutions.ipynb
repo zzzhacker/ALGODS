{
 "cells": [
  {
   "cell_type": "markdown",
   "metadata": {},
   "source": [
    "<div class=\"content__u3I1 question-content__JfgR\"><div><p>A <a href=\"https://en.wikipedia.org/wiki/Trie\" target=\"_blank\"><strong>trie</strong></a> (pronounced as \"try\") or <strong>prefix tree</strong> is a tree data structure used to efficiently store and retrieve keys in a dataset of strings. There are various applications of this data structure, such as autocomplete and spellchecker.</p>\n",
    "\n",
    "<p>Implement the Trie class:</p>\n",
    "\n",
    "<ul>\n",
    "\t<li><code>Trie()</code> Initializes the trie object.</li>\n",
    "\t<li><code>void insert(String word)</code> Inserts the string <code>word</code> into the trie.</li>\n",
    "\t<li><code>boolean search(String word)</code> Returns <code>true</code> if the string <code>word</code> is in the trie (i.e., was inserted before), and <code>false</code> otherwise.</li>\n",
    "\t<li><code>boolean startsWith(String prefix)</code> Returns <code>true</code> if there is a previously inserted string <code>word</code> that has the prefix <code>prefix</code>, and <code>false</code> otherwise.</li>\n",
    "</ul>\n",
    "\n",
    "<p>&nbsp;</p>\n",
    "<p><strong>Example 1:</strong></p>\n",
    "\n",
    "<pre><strong>Input</strong>\n",
    "[\"Trie\", \"insert\", \"search\", \"search\", \"startsWith\", \"insert\", \"search\"]\n",
    "[[], [\"apple\"], [\"apple\"], [\"app\"], [\"app\"], [\"app\"], [\"app\"]]\n",
    "<strong>Output</strong>\n",
    "[null, null, true, false, true, null, true]\n",
    "\n",
    "<strong>Explanation</strong>\n",
    "Trie trie = new Trie();\n",
    "trie.insert(\"apple\");\n",
    "trie.search(\"apple\");   // return True\n",
    "trie.search(\"app\");     // return False\n",
    "trie.startsWith(\"app\"); // return True\n",
    "trie.insert(\"app\");\n",
    "trie.search(\"app\");     // return True\n",
    "</pre>\n",
    "\n",
    "<p>&nbsp;</p>\n",
    "<p><strong>Constraints:</strong></p>\n",
    "\n",
    "<ul>\n",
    "\t<li><code>1 &lt;= word.length, prefix.length &lt;= 2000</code></li>\n",
    "\t<li><code>word</code> and <code>prefix</code> consist only of lowercase English letters.</li>\n",
    "\t<li>At most <code>3 * 10<sup>4</sup></code> calls <strong>in total</strong> will be made to <code>insert</code>, <code>search</code>, and <code>startsWith</code>.</li>\n",
    "</ul>\n",
    "</div></div>"
   ]
  },
  {
   "cell_type": "code",
   "execution_count": 1,
   "metadata": {},
   "outputs": [],
   "source": [
    "class Trie:\n",
    "    def __init__(self):\n",
    "        self.neighbours = {}\n",
    "\n",
    "    def insert(self, word: str) -> None:\n",
    "        current = self.neighbours\n",
    "        for letter in word:\n",
    "            if letter in current:\n",
    "                current = current[letter]\n",
    "            else:\n",
    "                current[letter] = {}\n",
    "                current = current[letter]\n",
    "        current['end'] = {}\n",
    "                \n",
    "        \n",
    "    def search(self, word: str) -> bool:\n",
    "        current = self.neighbours\n",
    "        for letter in word:\n",
    "            if letter not in current:\n",
    "                return False\n",
    "            current = current[letter]\n",
    "        if 'end' in current:\n",
    "            return True\n",
    "        return False\n",
    "        \n",
    "\n",
    "    def startsWith(self, prefix: str) -> bool:\n",
    "        current = self.neighbours\n",
    "        for letter in prefix:\n",
    "            if letter not in current:\n",
    "                return False\n",
    "            current = current[letter]\n",
    "    \n",
    "        return True\n"
   ]
  },
  {
   "cell_type": "code",
   "execution_count": null,
   "metadata": {},
   "outputs": [],
   "source": []
  }
 ],
 "metadata": {
  "interpreter": {
   "hash": "2ad565f1b5e7dbf9f0330bb692af7394eacf839d42e6c67731ff37b5e1249471"
  },
  "kernelspec": {
   "display_name": "Python 3.9.5 64-bit ('base': conda)",
   "language": "python",
   "name": "python3"
  },
  "language_info": {
   "codemirror_mode": {
    "name": "ipython",
    "version": 3
   },
   "file_extension": ".py",
   "mimetype": "text/x-python",
   "name": "python",
   "nbconvert_exporter": "python",
   "pygments_lexer": "ipython3",
   "version": "3.9.5"
  },
  "orig_nbformat": 4
 },
 "nbformat": 4,
 "nbformat_minor": 2
}
