{
 "cells": [
  {
   "cell_type": "markdown",
   "metadata": {},
   "source": [
    "<div class=\"content__u3I1 question-content__JfgR\"><div><p>Given a string <code>s</code>, return <em>the number of <strong>palindromic substrings</strong> in it</em>.</p>\n",
    "\n",
    "<p>A string is a <strong>palindrome</strong> when it reads the same backward as forward.</p>\n",
    "\n",
    "<p>A <strong>substring</strong> is a contiguous sequence of characters within the string.</p>\n",
    "\n",
    "<p>&nbsp;</p>\n",
    "<p><strong>Example 1:</strong></p>\n",
    "\n",
    "<pre><strong>Input:</strong> s = \"abc\"\n",
    "<strong>Output:</strong> 3\n",
    "<strong>Explanation:</strong> Three palindromic strings: \"a\", \"b\", \"c\".\n",
    "</pre>\n",
    "\n",
    "<p><strong>Example 2:</strong></p>\n",
    "\n",
    "<pre><strong>Input:</strong> s = \"aaa\"\n",
    "<strong>Output:</strong> 6\n",
    "<strong>Explanation:</strong> Six palindromic strings: \"a\", \"a\", \"a\", \"aa\", \"aa\", \"aaa\".\n",
    "</pre>\n",
    "\n",
    "<p>&nbsp;</p>\n",
    "<p><strong>Constraints:</strong></p>\n",
    "\n",
    "<ul>\n",
    "\t<li><code>1 &lt;= s.length &lt;= 1000</code></li>\n",
    "\t<li><code>s</code> consists of lowercase English letters.</li>\n",
    "</ul>\n",
    "</div></div>"
   ]
  },
  {
   "cell_type": "code",
   "execution_count": 2,
   "metadata": {},
   "outputs": [],
   "source": [
    "from functools import lru_cache\n",
    "class Solution:\n",
    "    def countSubstrings(self, s: str) -> int:\n",
    "        @lru_cache(maxsize=None)\n",
    "        def palindrome(string):\n",
    "            if len(string)<2:\n",
    "                return True\n",
    "            else:\n",
    "                mid = len(string)//2\n",
    "                if len(string)%2==0:\n",
    "                    if palindrome(string[:mid]) and palindrome(string[mid:]) and (string[mid:]==string[:mid]):\n",
    "                        return True\n",
    "                    elif string[mid:]==string[:mid][::-1]:\n",
    "                        print(string[mid:],string[:mid][::-1])\n",
    "                        return True\n",
    "                else:\n",
    "                    if palindrome(string[:mid]) and palindrome(string[mid+1:]) and string[mid+1:]==string[:mid]:\n",
    "                        return True\n",
    "                    elif string[mid+1:]==string[:mid][::-1]:\n",
    "                        return True\n",
    "                return False\n",
    "        ans = 0\n",
    "        for i in range(1,len(s)+1):\n",
    "            for j in range(i):\n",
    "                if palindrome(s[j:i]):\n",
    "                    ans += 1\n",
    "        return ans"
   ]
  }
 ],
 "metadata": {
  "interpreter": {
   "hash": "2ad565f1b5e7dbf9f0330bb692af7394eacf839d42e6c67731ff37b5e1249471"
  },
  "kernelspec": {
   "display_name": "Python 3.9.5 64-bit ('base': conda)",
   "language": "python",
   "name": "python3"
  },
  "language_info": {
   "codemirror_mode": {
    "name": "ipython",
    "version": 3
   },
   "file_extension": ".py",
   "mimetype": "text/x-python",
   "name": "python",
   "nbconvert_exporter": "python",
   "pygments_lexer": "ipython3",
   "version": "3.9.5"
  },
  "orig_nbformat": 4
 },
 "nbformat": 4,
 "nbformat_minor": 2
}
