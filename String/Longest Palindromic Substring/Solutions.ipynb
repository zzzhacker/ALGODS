{
 "cells": [
  {
   "cell_type": "markdown",
   "metadata": {},
   "source": [
    "<div class=\"content__u3I1 question-content__JfgR\"><div><p>Given a string <code>s</code>, return <em>the longest palindromic substring</em> in <code>s</code>.</p>\n",
    "\n",
    "<p>&nbsp;</p>\n",
    "<p><strong>Example 1:</strong></p>\n",
    "\n",
    "<pre><strong>Input:</strong> s = \"babad\"\n",
    "<strong>Output:</strong> \"bab\"\n",
    "<strong>Explanation:</strong> \"aba\" is also a valid answer.\n",
    "</pre>\n",
    "\n",
    "<p><strong>Example 2:</strong></p>\n",
    "\n",
    "<pre><strong>Input:</strong> s = \"cbbd\"\n",
    "<strong>Output:</strong> \"bb\"\n",
    "</pre>\n",
    "\n",
    "<p>&nbsp;</p>\n",
    "<p><strong>Constraints:</strong></p>\n",
    "\n",
    "<ul>\n",
    "\t<li><code>1 &lt;= s.length &lt;= 1000</code></li>\n",
    "\t<li><code>s</code> consist of only digits and English letters.</li>\n",
    "</ul>\n",
    "</div></div>"
   ]
  },
  {
   "cell_type": "code",
   "execution_count": 5,
   "metadata": {},
   "outputs": [],
   "source": [
    "class Solution:\n",
    "    def longestPalindrome(self, s: str) -> str:\n",
    "        def palindromelen(s,l,r):\n",
    "            while l>-1 and r<len(s) and s[l] == s[r]:\n",
    "                l -= 1\n",
    "                r += 1\n",
    "            return s[l+1:r]\n",
    "        \n",
    "        max_len_palindrome = ''\n",
    "        for i in range(len(s)):\n",
    "            temp_palindrome = palindromelen(s,i,i)\n",
    "        \n",
    "            if  len(temp_palindrome) > len(max_len_palindrome):\n",
    "                max_len_palindrome = temp_palindrome\n",
    "            temp_palindrome = palindromelen(s,i,i+1)\n",
    "            if  len(temp_palindrome) > len(max_len_palindrome):\n",
    "                max_len_palindrome = temp_palindrome\n",
    "\n",
    "        return max_len_palindrome"
   ]
  },
  {
   "cell_type": "code",
   "execution_count": null,
   "metadata": {},
   "outputs": [],
   "source": [
    "## DP solution ( ye15 )\n",
    "from functools import lru_cache\n",
    "class Solution:\n",
    "    def longestPalindromeSubseq(self, s: str) -> int:\n",
    "        \n",
    "        @lru_cache(None)\n",
    "        def fn(lo, hi): \n",
    "            \"\"\"Return longest palindromic subsequence.\"\"\"\n",
    "            if lo >= hi: return int(lo == hi)\n",
    "            if s[lo] == s[hi]: return fn(lo+1, hi-1) + 2\n",
    "            return max(fn(lo+1, hi), fn(lo, hi-1))\n",
    "        \n",
    "        return fn(0, len(s)-1)"
   ]
  }
 ],
 "metadata": {
  "interpreter": {
   "hash": "2ad565f1b5e7dbf9f0330bb692af7394eacf839d42e6c67731ff37b5e1249471"
  },
  "kernelspec": {
   "display_name": "Python 3.9.5 64-bit ('base': conda)",
   "language": "python",
   "name": "python3"
  },
  "language_info": {
   "codemirror_mode": {
    "name": "ipython",
    "version": 3
   },
   "file_extension": ".py",
   "mimetype": "text/x-python",
   "name": "python",
   "nbconvert_exporter": "python",
   "pygments_lexer": "ipython3",
   "version": "3.9.5"
  },
  "orig_nbformat": 4
 },
 "nbformat": 4,
 "nbformat_minor": 2
}
