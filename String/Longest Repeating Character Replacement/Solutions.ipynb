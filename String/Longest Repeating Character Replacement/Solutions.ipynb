{
 "cells": [
  {
   "cell_type": "markdown",
   "metadata": {},
   "source": [
    "<div class=\"content__u3I1 question-content__JfgR\"><div><p>You are given a string <code>s</code> and an integer <code>k</code>. You can choose any character of the string and change it to any other uppercase English character. You can perform this operation at most <code>k</code> times.</p>\n",
    "\n",
    "<p>Return <em>the length of the longest substring containing the same letter you can get after performing the above operations</em>.</p>\n",
    "\n",
    "<p>&nbsp;</p>\n",
    "<p><strong>Example 1:</strong></p>\n",
    "\n",
    "<pre><strong>Input:</strong> s = \"ABAB\", k = 2\n",
    "<strong>Output:</strong> 4\n",
    "<strong>Explanation:</strong> Replace the two 'A's with two 'B's or vice versa.\n",
    "</pre>\n",
    "\n",
    "<p><strong>Example 2:</strong></p>\n",
    "\n",
    "<pre><strong>Input:</strong> s = \"AABABBA\", k = 1\n",
    "<strong>Output:</strong> 4\n",
    "<strong>Explanation:</strong> Replace the one 'A' in the middle with 'B' and form \"AABBBBA\".\n",
    "The substring \"BBBB\" has the longest repeating letters, which is 4.\n",
    "</pre>\n",
    "\n",
    "<p>&nbsp;</p>\n",
    "<p><strong>Constraints:</strong></p>\n",
    "\n",
    "<ul>\n",
    "\t<li><code>1 &lt;= s.length &lt;= 10<sup>5</sup></code></li>\n",
    "\t<li><code>s</code> consists of only uppercase English letters.</li>\n",
    "\t<li><code>0 &lt;= k &lt;= s.length</code></li>\n",
    "</ul>\n",
    "</div></div>"
   ]
  },
  {
   "cell_type": "code",
   "execution_count": 1,
   "metadata": {},
   "outputs": [],
   "source": [
    "class Solution:\n",
    "    def characterReplacement(self, s: str, k: int) -> int:\n",
    "        hmap = {}\n",
    "        longest_string = 1\n",
    "        l = 0\n",
    "        for r in range(len(s)):\n",
    "            hmap[s[r]] = 1+hmap.get(s[r],0)\n",
    "            \n",
    "            while ((r-l+1) - max(hmap.values())>k):\n",
    "                hmap[s[l]] -= 1\n",
    "                l += 1\n",
    "                \n",
    "            longest_string = max(longest_string,r-l+1)\n",
    "        return longest_string"
   ]
  },
  {
   "cell_type": "code",
   "execution_count": 3,
   "metadata": {},
   "outputs": [],
   "source": [
    "##optimized\n",
    "class Solution:\n",
    "    def characterReplacement(self, s: str, k: int) -> int:\n",
    "        hmap = {}\n",
    "        longest_string = 1\n",
    "        l = 0\n",
    "        max_freq = 1\n",
    "        for r in range(len(s)):\n",
    "            hmap[s[r]] = 1+hmap.get(s[r],0)\n",
    "            max_freq = max(hmap[s[r]],max_freq)\n",
    "            \n",
    "            while ((r-l+1) - max_freq>k):\n",
    "                hmap[s[l]] -= 1\n",
    "                l += 1\n",
    "                \n",
    "            longest_string = max(longest_string,r-l+1)\n",
    "        return longest_string"
   ]
  },
  {
   "cell_type": "code",
   "execution_count": null,
   "metadata": {},
   "outputs": [],
   "source": []
  }
 ],
 "metadata": {
  "interpreter": {
   "hash": "2ad565f1b5e7dbf9f0330bb692af7394eacf839d42e6c67731ff37b5e1249471"
  },
  "kernelspec": {
   "display_name": "Python 3.9.5 64-bit ('base': conda)",
   "language": "python",
   "name": "python3"
  },
  "language_info": {
   "codemirror_mode": {
    "name": "ipython",
    "version": 3
   },
   "file_extension": ".py",
   "mimetype": "text/x-python",
   "name": "python",
   "nbconvert_exporter": "python",
   "pygments_lexer": "ipython3",
   "version": "3.9.5"
  },
  "orig_nbformat": 4
 },
 "nbformat": 4,
 "nbformat_minor": 2
}
