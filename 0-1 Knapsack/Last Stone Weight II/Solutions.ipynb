{
 "cells": [
  {
   "cell_type": "markdown",
   "metadata": {},
   "source": [
    "<div class=\"content__u3I1 question-content__JfgR\"><div><p>You are given an array of integers <code>stones</code> where <code>stones[i]</code> is the weight of the <code>i<sup>th</sup></code> stone.</p>\n",
    "\n",
    "<p>We are playing a game with the stones. On each turn, we choose any two stones and smash them together. Suppose the stones have weights <code>x</code> and <code>y</code> with <code>x &lt;= y</code>. The result of this smash is:</p>\n",
    "\n",
    "<ul>\n",
    "\t<li>If <code>x == y</code>, both stones are destroyed, and</li>\n",
    "\t<li>If <code>x != y</code>, the stone of weight <code>x</code> is destroyed, and the stone of weight <code>y</code> has new weight <code>y - x</code>.</li>\n",
    "</ul>\n",
    "\n",
    "<p>At the end of the game, there is <strong>at most one</strong> stone left.</p>\n",
    "\n",
    "<p>Return <em>the smallest possible weight of the left stone</em>. If there are no stones left, return <code>0</code>.</p>\n",
    "\n",
    "<p>&nbsp;</p>\n",
    "<p><strong>Example 1:</strong></p>\n",
    "\n",
    "<pre><strong>Input:</strong> stones = [2,7,4,1,8,1]\n",
    "<strong>Output:</strong> 1\n",
    "<strong>Explanation:</strong>\n",
    "We can combine 2 and 4 to get 2, so the array converts to [2,7,1,8,1] then,\n",
    "we can combine 7 and 8 to get 1, so the array converts to [2,1,1,1] then,\n",
    "we can combine 2 and 1 to get 1, so the array converts to [1,1,1] then,\n",
    "we can combine 1 and 1 to get 0, so the array converts to [1], then that's the optimal value.\n",
    "</pre>\n",
    "\n",
    "<p><strong>Example 2:</strong></p>\n",
    "\n",
    "<pre><strong>Input:</strong> stones = [31,26,33,21,40]\n",
    "<strong>Output:</strong> 5\n",
    "</pre>\n",
    "\n",
    "<p>&nbsp;</p>\n",
    "<p><strong>Constraints:</strong></p>\n",
    "\n",
    "<ul>\n",
    "\t<li><code>1 &lt;= stones.length &lt;= 30</code></li>\n",
    "\t<li><code>1 &lt;= stones[i] &lt;= 100</code></li>\n",
    "</ul>\n",
    "</div></div>"
   ]
  },
  {
   "cell_type": "code",
   "execution_count": 2,
   "metadata": {},
   "outputs": [],
   "source": [
    "from typing import List\n",
    "class Solution:\n",
    "    def lastStoneWeightII(self, stones: List[int]) -> int:\n",
    "        total = int(sum(stones)/2)\n",
    "        @cache\n",
    "        def knapsack(total,i,n):\n",
    "            if i == 0 or total == 0:\n",
    "                return 0\n",
    "            if stones[i-1]>total or n>1+int(len(stones)/2):\n",
    "                return knapsack(total,i-1,n)\n",
    "            else:\n",
    "                return max(stones[i-1]+knapsack(total-stones[i-1],i-1,n+1),knapsack(total,i-1,n))\n",
    "        return sum(stones) - knapsack(total,len(stones),0)*2 "
   ]
  },
  {
   "cell_type": "code",
   "execution_count": null,
   "metadata": {},
   "outputs": [],
   "source": []
  }
 ],
 "metadata": {
  "interpreter": {
   "hash": "31f2aee4e71d21fbe5cf8b01ff0e069b9275f58929596ceb00d14d90e3e16cd6"
  },
  "kernelspec": {
   "display_name": "Python 3.8.9 64-bit",
   "language": "python",
   "name": "python3"
  },
  "language_info": {
   "codemirror_mode": {
    "name": "ipython",
    "version": 3
   },
   "file_extension": ".py",
   "mimetype": "text/x-python",
   "name": "python",
   "nbconvert_exporter": "python",
   "pygments_lexer": "ipython3",
   "version": "3.8.9"
  },
  "orig_nbformat": 4
 },
 "nbformat": 4,
 "nbformat_minor": 2
}
