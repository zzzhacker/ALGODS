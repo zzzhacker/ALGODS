{
 "cells": [
  {
   "cell_type": "markdown",
   "metadata": {},
   "source": [
    "<div class=\"content__u3I1 question-content__JfgR\"><div><p>You have some number of sticks with positive integer lengths. These lengths are given as an array&nbsp;<code>sticks</code>, where&nbsp;<code>sticks[i]</code>&nbsp;is the length of the&nbsp;<code>i<sup>th</sup></code>&nbsp;stick.</p>\n",
    "\n",
    "<p>You can connect any two sticks of lengths <code>x</code> and <code>y</code> into one stick&nbsp;by paying a cost of <code>x + y</code>. You must connect&nbsp;all the sticks until there is only one stick remaining.</p>\n",
    "\n",
    "<p>Return&nbsp;<em>the minimum cost of connecting all the given sticks into one stick in this way</em>.</p>\n",
    "\n",
    "<p>&nbsp;</p>\n",
    "<p><strong>Example 1:</strong></p>\n",
    "\n",
    "<pre><strong>Input:</strong> sticks = [2,4,3]\n",
    "<strong>Output:</strong> 14\n",
    "<strong>Explanation:</strong>&nbsp;You start with sticks = [2,4,3].\n",
    "1. Combine sticks 2 and 3 for a cost of 2 + 3 = 5. Now you have sticks = [5,4].\n",
    "2. Combine sticks 5 and 4 for a cost of 5 + 4 = 9. Now you have sticks = [9].\n",
    "There is only one stick left, so you are done. The total cost is 5 + 9 = 14.\n",
    "</pre>\n",
    "\n",
    "<p><strong>Example 2:</strong></p>\n",
    "\n",
    "<pre><strong>Input:</strong> sticks = [1,8,3,5]\n",
    "<strong>Output:</strong> 30\n",
    "<strong>Explanation:</strong> You start with sticks = [1,8,3,5].\n",
    "1. Combine sticks 1 and 3 for a cost of 1 + 3 = 4. Now you have sticks = [4,8,5].\n",
    "2. Combine sticks 4 and 5 for a cost of 4 + 5 = 9. Now you have sticks = [9,8].\n",
    "3. Combine sticks 9 and 8 for a cost of 9 + 8 = 17. Now you have sticks = [17].\n",
    "There is only one stick left, so you are done. The total cost is 4 + 9 + 17 = 30.\n",
    "</pre>\n",
    "\n",
    "<p><strong>Example 3:</strong></p>\n",
    "\n",
    "<pre><strong>Input:</strong> sticks = [5]\n",
    "<strong>Output:</strong> 0\n",
    "<strong>Explanation:</strong> There is only one stick, so you don't need to do anything. The total cost is 0.\n",
    "</pre>\n",
    "\n",
    "<p>&nbsp;</p>\n",
    "<p><strong>Constraints:</strong></p>\n",
    "\n",
    "<ul>\n",
    "\t<li><code><span>1 &lt;= sticks.length &lt;= 10<sup>4</sup></span></code></li>\n",
    "\t<li><code><span>1 &lt;= sticks[i] &lt;= 10<sup>4</sup></span></code></li>\n",
    "</ul>\n",
    "</div></div>"
   ]
  },
  {
   "cell_type": "code",
   "execution_count": 2,
   "metadata": {},
   "outputs": [],
   "source": [
    "import heapq\n",
    "from typing import List\n",
    "class Solution:\n",
    "    def connectSticks(self, sticks: List[int]) -> int:\n",
    "        cost = 0\n",
    "        heapq.heapify(sticks)\n",
    "        while len(sticks)>1:\n",
    "            x = heapq.heappop(sticks)\n",
    "            y = heapq.heappop(sticks)\n",
    "            cost += x+y\n",
    "            heapq.heappush(sticks,x+y)\n",
    "        return cost"
   ]
  }
 ],
 "metadata": {
  "interpreter": {
   "hash": "31f2aee4e71d21fbe5cf8b01ff0e069b9275f58929596ceb00d14d90e3e16cd6"
  },
  "kernelspec": {
   "display_name": "Python 3.8.9 64-bit",
   "language": "python",
   "name": "python3"
  },
  "language_info": {
   "codemirror_mode": {
    "name": "ipython",
    "version": 3
   },
   "file_extension": ".py",
   "mimetype": "text/x-python",
   "name": "python",
   "nbconvert_exporter": "python",
   "pygments_lexer": "ipython3",
   "version": "3.8.9"
  },
  "orig_nbformat": 4
 },
 "nbformat": 4,
 "nbformat_minor": 2
}
