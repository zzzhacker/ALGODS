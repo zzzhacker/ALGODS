{
 "cells": [
  {
   "cell_type": "markdown",
   "metadata": {},
   "source": [
    "<div class=\"content__u3I1 question-content__JfgR\"><div><p>Given a string <code>s</code>, sort it in <strong>decreasing order</strong> based on the <strong>frequency</strong> of the characters. The <strong>frequency</strong> of a character is the number of times it appears in the string.</p>\n",
    "\n",
    "<p>Return <em>the sorted string</em>. If there are multiple answers, return <em>any of them</em>.</p>\n",
    "\n",
    "<p>&nbsp;</p>\n",
    "<p><strong>Example 1:</strong></p>\n",
    "\n",
    "<pre><strong>Input:</strong> s = \"tree\"\n",
    "<strong>Output:</strong> \"eert\"\n",
    "<strong>Explanation:</strong> 'e' appears twice while 'r' and 't' both appear once.\n",
    "So 'e' must appear before both 'r' and 't'. Therefore \"eetr\" is also a valid answer.\n",
    "</pre>\n",
    "\n",
    "<p><strong>Example 2:</strong></p>\n",
    "\n",
    "<pre><strong>Input:</strong> s = \"cccaaa\"\n",
    "<strong>Output:</strong> \"aaaccc\"\n",
    "<strong>Explanation:</strong> Both 'c' and 'a' appear three times, so both \"cccaaa\" and \"aaaccc\" are valid answers.\n",
    "Note that \"cacaca\" is incorrect, as the same characters must be together.\n",
    "</pre>\n",
    "\n",
    "<p><strong>Example 3:</strong></p>\n",
    "\n",
    "<pre><strong>Input:</strong> s = \"Aabb\"\n",
    "<strong>Output:</strong> \"bbAa\"\n",
    "<strong>Explanation:</strong> \"bbaA\" is also a valid answer, but \"Aabb\" is incorrect.\n",
    "Note that 'A' and 'a' are treated as two different characters.\n",
    "</pre>\n",
    "\n",
    "<p>&nbsp;</p>\n",
    "<p><strong>Constraints:</strong></p>\n",
    "\n",
    "<ul>\n",
    "\t<li><code>1 &lt;= s.length &lt;= 5 * 10<sup>5</sup></code></li>\n",
    "\t<li><code>s</code> consists of uppercase and lowercase English letters and digits.</li>\n",
    "</ul>\n",
    "</div></div>"
   ]
  },
  {
   "cell_type": "code",
   "execution_count": null,
   "metadata": {},
   "outputs": [],
   "source": [
    "from collections import Counter\n",
    "import heapq\n",
    "from typing import List\n",
    "\n",
    "class Solution:\n",
    "    def frequencySort(self, nums: List[int]) -> List[int]:\n",
    "        counts = Counter(nums)\n",
    "        counts = [(-c,v) for v,c in counts.items()] \n",
    "        heapq.heapify(counts)\n",
    "        ans = \"\"\n",
    "        for i in range(len(counts)):\n",
    "            c,v = heapq.heappop(counts)\n",
    "            for _ in range(-c): ans += v\n",
    "        return ans "
   ]
  }
 ],
 "metadata": {
  "language_info": {
   "name": "python"
  },
  "orig_nbformat": 4
 },
 "nbformat": 4,
 "nbformat_minor": 2
}
