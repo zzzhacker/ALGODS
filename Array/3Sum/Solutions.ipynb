{
 "cells": [
  {
   "cell_type": "markdown",
   "metadata": {},
   "source": [
    "<div class=\"content__u3I1 question-content__JfgR\"><div><p>Given an integer array nums, return all the triplets <code>[nums[i], nums[j], nums[k]]</code> such that <code>i != j</code>, <code>i != k</code>, and <code>j != k</code>, and <code>nums[i] + nums[j] + nums[k] == 0</code>.</p>\n",
    "\n",
    "<p>Notice that the solution set must not contain duplicate triplets.</p>\n",
    "\n",
    "<p>&nbsp;</p>\n",
    "<p><strong>Example 1:</strong></p>\n",
    "<pre><strong>Input:</strong> nums = [-1,0,1,2,-1,-4]\n",
    "<strong>Output:</strong> [[-1,-1,2],[-1,0,1]]\n",
    "</pre><p><strong>Example 2:</strong></p>\n",
    "<pre><strong>Input:</strong> nums = []\n",
    "<strong>Output:</strong> []\n",
    "</pre><p><strong>Example 3:</strong></p>\n",
    "<pre><strong>Input:</strong> nums = [0]\n",
    "<strong>Output:</strong> []\n",
    "</pre>\n",
    "<p>&nbsp;</p>\n",
    "<p><strong>Constraints:</strong></p>\n",
    "\n",
    "<ul>\n",
    "\t<li><code>0 &lt;= nums.length &lt;= 3000</code></li>\n",
    "\t<li><code>-10<sup>5</sup> &lt;= nums[i] &lt;= 10<sup>5</sup></code></li>\n",
    "</ul>\n",
    "</div></div>"
   ]
  },
  {
   "cell_type": "code",
   "execution_count": null,
   "metadata": {},
   "outputs": [],
   "source": [
    "class Solution:\n",
    "    def threeSum(self, nums: List[int]) -> List[List[int]]:\n",
    "        nums = sorted(nums)\n",
    "        nums_len = len(nums)\n",
    "        def two_sum(arr,target):\n",
    "            i , j = 0,len(arr)-1\n",
    "            ans = []\n",
    "            while (i<j):\n",
    "                if arr[i]+arr[j] == target:\n",
    "                    ans.append([arr[i],arr[j]])\n",
    "                    i += 1\n",
    "                elif arr[i]+arr[j] > target:\n",
    "                    j -= 1\n",
    "                else:\n",
    "                    i += 1\n",
    "                while i<j and arr[i-1] == arr[i]: i=i+1\n",
    "            return ans\n",
    "        final_ans = []\n",
    "        for i in range(nums_len):\n",
    "            if i and tmp == nums[0]:\n",
    "                tmp = nums.pop(0)\n",
    "                continue\n",
    "            if nums[0] > 0:\n",
    "                break\n",
    "            tmp = nums.pop(0)\n",
    "            target = 0 - tmp\n",
    "            two_sums = two_sum(nums,target)\n",
    "            for option in two_sums:\n",
    "                final_ans.append(option+[tmp])\n",
    "\n",
    "        return final_ans"
   ]
  },
  {
   "cell_type": "code",
   "execution_count": null,
   "metadata": {},
   "outputs": [],
   "source": []
  }
 ],
 "metadata": {
  "interpreter": {
   "hash": "916dbcbb3f70747c44a77c7bcd40155683ae19c65e1c03b4aa3499c5328201f1"
  },
  "kernelspec": {
   "display_name": "Python 3.8.10 64-bit",
   "language": "python",
   "name": "python3"
  },
  "language_info": {
   "name": "python",
   "version": "3.9.5"
  },
  "orig_nbformat": 4
 },
 "nbformat": 4,
 "nbformat_minor": 2
}
