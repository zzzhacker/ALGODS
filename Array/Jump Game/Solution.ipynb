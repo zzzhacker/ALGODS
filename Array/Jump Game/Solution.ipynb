{
 "cells": [
  {
   "cell_type": "markdown",
   "metadata": {},
   "source": [
    "<div class=\"panel panel-default gray problem-statement\" style=\"margin-top: 15px;\">\n",
    "<div class=\"panel-heading\">\n",
    "<div class=\"problem-info-wrapper\">\n",
    "<h1 class=\"panel-title\"><b>Linear time approach to solve jump game problem</b></h1>\n",
    "<br>\n",
    "<h5 class=\"asked-in\">\n",
    "Asked In: <span class=\"custom-badge\">Adobe</span><span class=\"custom-badge\">Intuit </span> </h5>\n",
    "</div>\n",
    "<div class=\"problem-action-wrapper\">\n",
    "</div>\n",
    "</div>\n",
    "<div class=\"panel-body\">\n",
    "<div id=\"problem-content\" class=\"markdown-content\">\n",
    "<p> You have an array of non-negative integers,you are initially positioned at the first index of the array.Each element in the array represents your maximum jump length at that position.Determine if you are able to reach the last index in O(n) Time complexity and O(1) Space Complexity Asked in: Adobe, Intuit </p>\n",
    "<p><strong>Example:</strong></p>\n",
    "<p></p><pre class=\"highlight\">Input 1:\n",
    "A = [2,3,1,1,4]\n",
    "Input 2:\n",
    "A = [3,2,1,0,4]\n",
    "</pre><p></p>\n",
    "<p></p><pre class=\"highlight\">Output 1:\n",
    "2\n",
    "Explanation 1:\n",
    "Index 0 -&gt; Index 2 -&gt; Index 4 \n",
    "Output 2:\n",
    "0\n",
    "\n",
    "Explanation 2:\n",
    "There is no possible path to reach the last index return -1\n",
    "</pre><p></p>\n",
    "<p>Problem level: <b>Medium</b></p>\n",
    "</div>\n",
    "<div class=\"post-container\"></div>\n",
    "</div>\n",
    "</div>"
   ]
  },
  {
   "cell_type": "code",
   "execution_count": 8,
   "metadata": {},
   "outputs": [],
   "source": [
    "arr = [3,2,1,0,4]"
   ]
  },
  {
   "cell_type": "code",
   "execution_count": 12,
   "metadata": {},
   "outputs": [],
   "source": [
    "def jump_game(arr):\n",
    "    state=False\n",
    "    jump_need = 1\n",
    "    if len(arr)==1:\n",
    "        return True\n",
    "    for i in range(2,len(arr)+1):\n",
    "        if arr[-i]>= jump_need:\n",
    "            state = True\n",
    "            jump_need = 1\n",
    "        else:\n",
    "            state = False\n",
    "            jump_need = jump_need+1\n",
    "    return state"
   ]
  },
  {
   "cell_type": "code",
   "execution_count": 14,
   "metadata": {},
   "outputs": [
    {
     "name": "stdout",
     "output_type": "stream",
     "text": [
      "False\n",
      "True\n"
     ]
    }
   ],
   "source": [
    "print(jump_game([3,2,1,0,4]))\n",
    "print(jump_game([2,3,1,1,4]))"
   ]
  },
  {
   "cell_type": "code",
   "execution_count": null,
   "metadata": {},
   "outputs": [],
   "source": []
  }
 ],
 "metadata": {
  "kernelspec": {
   "display_name": "Python 3.9 (XPython)",
   "language": "python",
   "name": "xpython"
  },
  "language_info": {
   "file_extension": ".py",
   "mimetype": "text/x-python",
   "name": "python",
   "version": "3.9.0"
  }
 },
 "nbformat": 4,
 "nbformat_minor": 4
}
