{
 "cells": [
  {
   "cell_type": "markdown",
   "metadata": {},
   "source": [
    "## Problem\n",
    "> Array consist of only 0's, 1's and 2's. Write an algorithm to sort  this array in O(n) time complexity and O(1) Space complexity with only one traversal.\n",
    "\n",
    "> __Asked in : Amazon, Microsoft, Adobe, WalmartLabs__"
   ]
  },
  {
   "cell_type": "code",
   "execution_count": 56,
   "metadata": {},
   "outputs": [
    {
     "name": "stdout",
     "output_type": "stream",
     "text": [
      "[0, 0, 1, 1, 2, 2]\n"
     ]
    }
   ],
   "source": [
    "arr = [0,1,2,0,1,2]\n",
    "start = 0\n",
    "end = len(arr)-1\n",
    "mid = 0\n",
    "pivot = 1\n",
    "def swap(arr,i,j):\n",
    "    arr[i], arr[j] = arr[j], arr[i]\n",
    "    return arr\n",
    "for i in range(len(arr)):\n",
    "    if arr[mid] < pivot:\n",
    "        arr = swap(arr,start,mid)\n",
    "        start = start+1\n",
    "        mid = mid+1\n",
    "    elif arr[mid] > pivot:\n",
    "        arr = swap(arr,end,mid)\n",
    "        end = end-1\n",
    "    else:\n",
    "        mid = mid+1\n",
    "    if mid>end:\n",
    "        break\n",
    "    \n",
    "print(arr)"
   ]
  },
  {
   "cell_type": "markdown",
   "metadata": {},
   "source": [
    "## Concepts\n",
    " - Three way Partitioning"
   ]
  },
  {
   "cell_type": "code",
   "execution_count": null,
   "metadata": {},
   "outputs": [],
   "source": []
  }
 ],
 "metadata": {
  "kernelspec": {
   "display_name": "Python 3.9 (XPython)",
   "language": "python",
   "name": "xpython"
  },
  "language_info": {
   "file_extension": ".py",
   "mimetype": "text/x-python",
   "name": "python",
   "version": "3.9.0"
  }
 },
 "nbformat": 4,
 "nbformat_minor": 4
}
