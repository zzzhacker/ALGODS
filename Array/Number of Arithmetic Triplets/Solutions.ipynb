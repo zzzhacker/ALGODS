{
 "cells": [
  {
   "cell_type": "markdown",
   "metadata": {},
   "source": [
    "<div class=\"content__u3I1 question-content__JfgR\"><div><p>You are given a <strong>0-indexed</strong>, <strong>strictly increasing</strong> integer array <code>nums</code> and a positive integer <code>diff</code>. A triplet <code>(i, j, k)</code> is an <strong>arithmetic triplet</strong> if the following conditions are met:</p>\n",
    "\n",
    "<ul>\n",
    "\t<li><code>i &lt; j &lt; k</code>,</li>\n",
    "\t<li><code>nums[j] - nums[i] == diff</code>, and</li>\n",
    "\t<li><code>nums[k] - nums[j] == diff</code>.</li>\n",
    "</ul>\n",
    "\n",
    "<p>Return <em>the number of unique <strong>arithmetic triplets</strong>.</em></p>\n",
    "\n",
    "<p>&nbsp;</p>\n",
    "<p><strong>Example 1:</strong></p>\n",
    "\n",
    "<pre><strong>Input:</strong> nums = [0,1,4,6,7,10], diff = 3\n",
    "<strong>Output:</strong> 2\n",
    "<strong>Explanation:</strong>\n",
    "(1, 2, 4) is an arithmetic triplet because both 7 - 4 == 3 and 4 - 1 == 3.\n",
    "(2, 4, 5) is an arithmetic triplet because both 10 - 7 == 3 and 7 - 4 == 3. \n",
    "</pre>\n",
    "\n",
    "<p><strong>Example 2:</strong></p>\n",
    "\n",
    "<pre><strong>Input:</strong> nums = [4,5,6,7,8,9], diff = 2\n",
    "<strong>Output:</strong> 2\n",
    "<strong>Explanation:</strong>\n",
    "(0, 2, 4) is an arithmetic triplet because both 8 - 6 == 2 and 6 - 4 == 2.\n",
    "(1, 3, 5) is an arithmetic triplet because both 9 - 7 == 2 and 7 - 5 == 2.\n",
    "</pre>\n",
    "\n",
    "<p>&nbsp;</p>\n",
    "<p><strong>Constraints:</strong></p>\n",
    "\n",
    "<ul>\n",
    "\t<li><code>3 &lt;= nums.length &lt;= 200</code></li>\n",
    "\t<li><code>0 &lt;= nums[i] &lt;= 200</code></li>\n",
    "\t<li><code>1 &lt;= diff &lt;= 50</code></li>\n",
    "\t<li><code>nums</code> is <strong>strictly</strong> increasing.</li>\n",
    "</ul>\n",
    "</div></div>"
   ]
  },
  {
   "cell_type": "code",
   "execution_count": 2,
   "metadata": {},
   "outputs": [],
   "source": [
    "from typing import List\n",
    "class Solution:\n",
    "    def arithmeticTriplets(self, nums: List[int], diff: int) -> int:\n",
    "        track = set()\n",
    "        ans = 0\n",
    "        for num in nums:\n",
    "            if num - diff in track and num - 2*diff in track and num: ans += 1\n",
    "            track.add(num)\n",
    "        return ans\n",
    "        "
   ]
  }
 ],
 "metadata": {
  "interpreter": {
   "hash": "31f2aee4e71d21fbe5cf8b01ff0e069b9275f58929596ceb00d14d90e3e16cd6"
  },
  "kernelspec": {
   "display_name": "Python 3.8.9 64-bit",
   "language": "python",
   "name": "python3"
  },
  "language_info": {
   "codemirror_mode": {
    "name": "ipython",
    "version": 3
   },
   "file_extension": ".py",
   "mimetype": "text/x-python",
   "name": "python",
   "nbconvert_exporter": "python",
   "pygments_lexer": "ipython3",
   "version": "3.8.9"
  },
  "orig_nbformat": 4
 },
 "nbformat": 4,
 "nbformat_minor": 2
}
