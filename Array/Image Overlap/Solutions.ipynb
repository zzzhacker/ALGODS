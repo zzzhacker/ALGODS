{
 "cells": [
  {
   "cell_type": "markdown",
   "metadata": {},
   "source": [
    "<div class=\"content__u3I1 question-content__JfgR\"><div><p>You are given two images, <code>img1</code> and <code>img2</code>, represented as binary, square matrices of size <code>n x n</code>. A binary matrix has only <code>0</code>s and <code>1</code>s as values.</p>\n",
    "\n",
    "<p>We <strong>translate</strong> one image however we choose by sliding all the <code>1</code> bits left, right, up, and/or down any number of units. We then place it on top of the other image. We can then calculate the <strong>overlap</strong> by counting the number of positions that have a <code>1</code> in <strong>both</strong> images.</p>\n",
    "\n",
    "<p>Note also that a translation does <strong>not</strong> include any kind of rotation. Any <code>1</code> bits that are translated outside of the matrix borders are erased.</p>\n",
    "\n",
    "<p>Return <em>the largest possible overlap</em>.</p>\n",
    "\n",
    "<p>&nbsp;</p>\n",
    "<p><strong class=\"example\">Example 1:</strong></p>\n",
    "<img alt=\"\" src=\"https://assets.leetcode.com/uploads/2020/09/09/overlap1.jpg\" style=\"width: 450px; height: 231px;\">\n",
    "<pre><strong>Input:</strong> img1 = [[1,1,0],[0,1,0],[0,1,0]], img2 = [[0,0,0],[0,1,1],[0,0,1]]\n",
    "<strong>Output:</strong> 3\n",
    "<strong>Explanation:</strong> We translate img1 to right by 1 unit and down by 1 unit.\n",
    "<img alt=\"\" src=\"https://assets.leetcode.com/uploads/2020/09/09/overlap_step1.jpg\" style=\"width: 450px; height: 105px;\">\n",
    "The number of positions that have a 1 in both images is 3 (shown in red).\n",
    "<img alt=\"\" src=\"https://assets.leetcode.com/uploads/2020/09/09/overlap_step2.jpg\" style=\"width: 450px; height: 231px;\">\n",
    "</pre>\n",
    "\n",
    "<p><strong class=\"example\">Example 2:</strong></p>\n",
    "\n",
    "<pre><strong>Input:</strong> img1 = [[1]], img2 = [[1]]\n",
    "<strong>Output:</strong> 1\n",
    "</pre>\n",
    "\n",
    "<p><strong class=\"example\">Example 3:</strong></p>\n",
    "\n",
    "<pre><strong>Input:</strong> img1 = [[0]], img2 = [[0]]\n",
    "<strong>Output:</strong> 0\n",
    "</pre>\n",
    "\n",
    "<p>&nbsp;</p>\n",
    "<p><strong>Constraints:</strong></p>\n",
    "\n",
    "<ul>\n",
    "\t<li><code>n == img1.length == img1[i].length</code></li>\n",
    "\t<li><code>n == img2.length == img2[i].length</code></li>\n",
    "\t<li><code>1 &lt;= n &lt;= 30</code></li>\n",
    "\t<li><code>img1[i][j]</code> is either <code>0</code> or <code>1</code>.</li>\n",
    "\t<li><code>img2[i][j]</code> is either <code>0</code> or <code>1</code>.</li>\n",
    "</ul>\n",
    "</div></div>"
   ]
  },
  {
   "cell_type": "code",
   "execution_count": null,
   "metadata": {},
   "outputs": [],
   "source": [
    "from collections import defaultdict\n",
    "from typing import List\n",
    "class Solution:\n",
    "    def largestOverlap(self, img1: List[List[int]], img2: List[List[int]]) -> int:\n",
    "        img1_ones,img2_ones = [],[]\n",
    "        for i in range(len(img1)):\n",
    "            for j in range(len(img2)):\n",
    "                if img1[i][j] ==1: img1_ones.append((i,j)) \n",
    "                if img2[i][j]==1: img2_ones.append((i,j))\n",
    "        ans = defaultdict(int)\n",
    "        for i1,j1 in img1_ones:\n",
    "            for i2,j2 in img2_ones:\n",
    "                ans[(i1-i2),(j1-j2)] += 1\n",
    "        \n",
    "        return max(ans.values()) if ans else 0"
   ]
  },
  {
   "cell_type": "code",
   "execution_count": null,
   "metadata": {},
   "outputs": [],
   "source": []
  }
 ],
 "metadata": {
  "kernelspec": {
   "display_name": "Python 3.10.0 ('test')",
   "language": "python",
   "name": "python3"
  },
  "language_info": {
   "name": "python",
   "version": "3.10.0"
  },
  "orig_nbformat": 4,
  "vscode": {
   "interpreter": {
    "hash": "60e132f1d85f46e75d7c2c881476364aef058da49d2176fb91bba6c17e302450"
   }
  }
 },
 "nbformat": 4,
 "nbformat_minor": 2
}
