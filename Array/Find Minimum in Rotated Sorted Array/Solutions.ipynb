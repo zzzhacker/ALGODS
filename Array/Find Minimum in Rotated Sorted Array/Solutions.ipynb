{
 "cells": [
  {
   "cell_type": "markdown",
   "metadata": {},
   "source": [
    "<div class=\"content__u3I1 question-content__JfgR\"><div><p>Suppose an array of length <code>n</code> sorted in ascending order is <strong>rotated</strong> between <code>1</code> and <code>n</code> times. For example, the array <code>nums = [0,1,2,4,5,6,7]</code> might become:</p>\n",
    "\n",
    "<ul>\n",
    "\t<li><code>[4,5,6,7,0,1,2]</code> if it was rotated <code>4</code> times.</li>\n",
    "\t<li><code>[0,1,2,4,5,6,7]</code> if it was rotated <code>7</code> times.</li>\n",
    "</ul>\n",
    "\n",
    "<p>Notice that <strong>rotating</strong> an array <code>[a[0], a[1], a[2], ..., a[n-1]]</code> 1 time results in the array <code>[a[n-1], a[0], a[1], a[2], ..., a[n-2]]</code>.</p>\n",
    "\n",
    "<p>Given the sorted rotated array <code>nums</code> of <strong>unique</strong> elements, return <em>the minimum element of this array</em>.</p>\n",
    "\n",
    "<p>You must write an algorithm that runs in&nbsp;<code>O(log n) time.</code></p>\n",
    "\n",
    "<p>&nbsp;</p>\n",
    "<p><strong>Example 1:</strong></p>\n",
    "\n",
    "<pre><strong>Input:</strong> nums = [3,4,5,1,2]\n",
    "<strong>Output:</strong> 1\n",
    "<strong>Explanation:</strong> The original array was [1,2,3,4,5] rotated 3 times.\n",
    "</pre>\n",
    "\n",
    "<p><strong>Example 2:</strong></p>\n",
    "\n",
    "<pre><strong>Input:</strong> nums = [4,5,6,7,0,1,2]\n",
    "<strong>Output:</strong> 0\n",
    "<strong>Explanation:</strong> The original array was [0,1,2,4,5,6,7] and it was rotated 4 times.\n",
    "</pre>\n",
    "\n",
    "<p><strong>Example 3:</strong></p>\n",
    "\n",
    "<pre><strong>Input:</strong> nums = [11,13,15,17]\n",
    "<strong>Output:</strong> 11\n",
    "<strong>Explanation:</strong> The original array was [11,13,15,17] and it was rotated 4 times. \n",
    "</pre>\n",
    "\n",
    "<p>&nbsp;</p>\n",
    "<p><strong>Constraints:</strong></p>\n",
    "\n",
    "<ul>\n",
    "\t<li><code>n == nums.length</code></li>\n",
    "\t<li><code>1 &lt;= n &lt;= 5000</code></li>\n",
    "\t<li><code>-5000 &lt;= nums[i] &lt;= 5000</code></li>\n",
    "\t<li>All the integers of <code>nums</code> are <strong>unique</strong>.</li>\n",
    "\t<li><code>nums</code> is sorted and rotated between <code>1</code> and <code>n</code> times.</li>\n",
    "</ul>\n",
    "</div></div>"
   ]
  },
  {
   "cell_type": "code",
   "execution_count": 1,
   "metadata": {},
   "outputs": [],
   "source": [
    "from typing import List\n",
    "class Solution:\n",
    "    def findMin(self, nums: List[int]) -> int:\n",
    "        l = 0\n",
    "        r = len(nums)-1\n",
    "        def find_min(l,r):\n",
    "            if (l==r):\n",
    "                return nums[l]\n",
    "            mid = l + int((r-l)/2)\n",
    "            if mid==l or mid == r:\n",
    "                return min(nums[l],nums[r])\n",
    "            left_side = (nums[mid]-nums[mid-1]) * (nums[mid]-nums[l])\n",
    "            right_side = (nums[mid]-nums[mid+1]) * (nums[mid]-nums[r])\n",
    "            if (right_side*left_side<0):\n",
    "                return find_min(mid+1,r) if (right_side<left_side) else find_min(l,mid-1)\n",
    "            else:\n",
    "                if nums[mid]-nums[mid+1]<0 and nums[mid]-nums[mid-1]<0 :\n",
    "                    return nums[mid]\n",
    "                elif nums[mid]-nums[mid+1]<0:\n",
    "                    return nums[l]\n",
    "                else:\n",
    "                    return nums[mid+1]\n",
    "        return find_min(l,r)"
   ]
  },
  {
   "cell_type": "code",
   "execution_count": 2,
   "metadata": {},
   "outputs": [],
   "source": [
    "###clear approach\n",
    "class Solution:\n",
    "    def findMin(self, nums: List[int]) -> int:\n",
    "        lo, hi = 0, len(nums)-1\n",
    "        while lo < hi:\n",
    "            mid = (lo + hi)//2\n",
    "            if nums[mid] < nums[hi]: hi = mid\n",
    "            else: lo = mid + 1\n",
    "        return nums[lo] "
   ]
  },
  {
   "cell_type": "code",
   "execution_count": null,
   "metadata": {},
   "outputs": [],
   "source": []
  }
 ],
 "metadata": {
  "interpreter": {
   "hash": "2ad565f1b5e7dbf9f0330bb692af7394eacf839d42e6c67731ff37b5e1249471"
  },
  "kernelspec": {
   "display_name": "Python 3.9.5 64-bit ('base': conda)",
   "language": "python",
   "name": "python3"
  },
  "language_info": {
   "codemirror_mode": {
    "name": "ipython",
    "version": 3
   },
   "file_extension": ".py",
   "mimetype": "text/x-python",
   "name": "python",
   "nbconvert_exporter": "python",
   "pygments_lexer": "ipython3",
   "version": "3.9.5"
  },
  "orig_nbformat": 4
 },
 "nbformat": 4,
 "nbformat_minor": 2
}
