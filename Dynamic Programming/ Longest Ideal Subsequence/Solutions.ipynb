{
 "cells": [
  {
   "cell_type": "markdown",
   "metadata": {},
   "source": [
    "<div class=\"content__u3I1 question-content__JfgR\"><div><p>You are given a string <code>s</code> consisting of lowercase letters and an integer <code>k</code>. We call a string <code>t</code> <strong>ideal</strong> if the following conditions are satisfied:</p>\n",
    "\n",
    "<ul>\n",
    "\t<li><code>t</code> is a <strong>subsequence</strong> of the string <code>s</code>.</li>\n",
    "\t<li>The absolute difference in the alphabet order of every two <strong>adjacent</strong> letters in <code>t</code> is less than or equal to <code>k</code>.</li>\n",
    "</ul>\n",
    "\n",
    "<p>Return <em>the length of the <strong>longest</strong> ideal string</em>.</p>\n",
    "\n",
    "<p>A <strong>subsequence</strong> is a string that can be derived from another string by deleting some or no characters without changing the order of the remaining characters.</p>\n",
    "\n",
    "<p><strong>Note</strong> that the alphabet order is not cyclic. For example, the absolute difference in the alphabet order of <code>'a'</code> and <code>'z'</code> is <code>25</code>, not <code>1</code>.</p>\n",
    "\n",
    "<p>&nbsp;</p>\n",
    "<p><strong>Example 1:</strong></p>\n",
    "\n",
    "<pre><strong>Input:</strong> s = \"acfgbd\", k = 2\n",
    "<strong>Output:</strong> 4\n",
    "<strong>Explanation:</strong> The longest ideal string is \"acbd\". The length of this string is 4, so 4 is returned.\n",
    "Note that \"acfgbd\" is not ideal because 'c' and 'f' have a difference of 3 in alphabet order.</pre>\n",
    "\n",
    "<p><strong>Example 2:</strong></p>\n",
    "\n",
    "<pre><strong>Input:</strong> s = \"abcd\", k = 3\n",
    "<strong>Output:</strong> 4\n",
    "<strong>Explanation:</strong> The longest ideal string is \"abcd\". The length of this string is 4, so 4 is returned.\n",
    "</pre>\n",
    "\n",
    "<p>&nbsp;</p>\n",
    "<p><strong>Constraints:</strong></p>\n",
    "\n",
    "<ul>\n",
    "\t<li><code>1 &lt;= s.length &lt;= 10<sup>5</sup></code></li>\n",
    "\t<li><code>0 &lt;= k &lt;= 25</code></li>\n",
    "\t<li><code>s</code> consists of lowercase English letters.</li>\n",
    "</ul>\n",
    "</div></div>"
   ]
  },
  {
   "cell_type": "code",
   "execution_count": 1,
   "metadata": {},
   "outputs": [],
   "source": [
    "from collections import defaultdict\n",
    "class Solution:\n",
    "    def longestIdealString(self, s: str, k: int) -> int:\n",
    "        ans = defaultdict(int)\n",
    "        for i in range(len(s)):\n",
    "            max_len = 1\n",
    "            for j in range(k+1):\n",
    "                ascii_val = ord(s[i])\n",
    "                if chr(ascii_val - j) >='a': max_len = max(ans[chr(ascii_val - j)]+1,max_len)\n",
    "                if chr(ascii_val + j) <='z' : max_len = max(ans[chr(ascii_val + j)]+1,max_len)\n",
    "            ans[s[i]] = max_len\n",
    "                \n",
    "        return ans[max(ans, key=ans.get)]"
   ]
  },
  {
   "cell_type": "code",
   "execution_count": null,
   "metadata": {},
   "outputs": [],
   "source": []
  }
 ],
 "metadata": {
  "interpreter": {
   "hash": "31f2aee4e71d21fbe5cf8b01ff0e069b9275f58929596ceb00d14d90e3e16cd6"
  },
  "kernelspec": {
   "display_name": "Python 3.8.9 64-bit",
   "language": "python",
   "name": "python3"
  },
  "language_info": {
   "codemirror_mode": {
    "name": "ipython",
    "version": 3
   },
   "file_extension": ".py",
   "mimetype": "text/x-python",
   "name": "python",
   "nbconvert_exporter": "python",
   "pygments_lexer": "ipython3",
   "version": "3.8.9"
  },
  "orig_nbformat": 4
 },
 "nbformat": 4,
 "nbformat_minor": 2
}
