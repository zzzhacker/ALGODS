{
 "cells": [
  {
   "cell_type": "markdown",
   "source": [
    "<div class=\"content__u3I1 question-content__JfgR\"><div><p>Given an array of non-negative integers <code>nums</code>, you are initially positioned at the first index of the array.</p>\n",
    "\n",
    "<p>Each element in the array represents your maximum jump length at that position.</p>\n",
    "\n",
    "<p>Your goal is to reach the last index in the minimum number of jumps.</p>\n",
    "\n",
    "<p>You can assume that you can always reach the last index.</p>\n",
    "\n",
    "<p>&nbsp;</p>\n",
    "<p><strong>Example 1:</strong></p>\n",
    "\n",
    "<pre><strong>Input:</strong> nums = [2,3,1,1,4]\n",
    "<strong>Output:</strong> 2\n",
    "<strong>Explanation:</strong> The minimum number of jumps to reach the last index is 2. Jump 1 step from index 0 to 1, then 3 steps to the last index.\n",
    "</pre>\n",
    "\n",
    "<p><strong>Example 2:</strong></p>\n",
    "\n",
    "<pre><strong>Input:</strong> nums = [2,3,0,1,4]\n",
    "<strong>Output:</strong> 2\n",
    "</pre>\n",
    "\n",
    "<p>&nbsp;</p>\n",
    "<p><strong>Constraints:</strong></p>\n",
    "\n",
    "<ul>\n",
    "\t<li><code>1 &lt;= nums.length &lt;= 10<sup>4</sup></code></li>\n",
    "\t<li><code>0 &lt;= nums[i] &lt;= 1000</code></li>\n",
    "</ul>\n",
    "</div></div>"
   ],
   "metadata": {}
  },
  {
   "cell_type": "code",
   "execution_count": 57,
   "source": [
    "class Solution(object):\n",
    "    def jump(self, nums):\n",
    "        \"\"\"\n",
    "        :type nums: List[int]\n",
    "        :rtype: int\n",
    "        \"\"\"\n",
    "        current_remaining = nums[0]\n",
    "        running_store = nums[0]\n",
    "        jump = 1\n",
    "        if len(nums)>0:\n",
    "            for i in range(1,len(nums)-1):\n",
    "                current_remaining = current_remaining - 1\n",
    "                running_store = running_store - 1\n",
    "                running_store = max(nums[i],running_store) \n",
    "                if current_remaining == 0:\n",
    "                    jump = jump + 1\n",
    "                    current_remaining = running_store\n",
    "            return jump\n",
    "        else:\n",
    "            return 0"
   ],
   "outputs": [],
   "metadata": {}
  },
  {
   "cell_type": "code",
   "execution_count": 59,
   "source": [
    "Solution().jump([4,1,1,3,1,1,1])"
   ],
   "outputs": [
    {
     "output_type": "execute_result",
     "data": {
      "text/plain": [
       "3"
      ]
     },
     "metadata": {},
     "execution_count": 59
    }
   ],
   "metadata": {}
  },
  {
   "cell_type": "code",
   "execution_count": null,
   "source": [],
   "outputs": [],
   "metadata": {}
  }
 ],
 "metadata": {
  "orig_nbformat": 4,
  "language_info": {
   "name": "python",
   "version": "3.6.13",
   "mimetype": "text/x-python",
   "codemirror_mode": {
    "name": "ipython",
    "version": 3
   },
   "pygments_lexer": "ipython3",
   "nbconvert_exporter": "python",
   "file_extension": ".py"
  },
  "kernelspec": {
   "name": "python3",
   "display_name": "Python 3.6.13 64-bit ('uav': conda)"
  },
  "interpreter": {
   "hash": "8e4b1aad0e519eef1e5842432d06ee95ff706b7b17337f3106f5e636cd42e8f1"
  }
 },
 "nbformat": 4,
 "nbformat_minor": 2
}