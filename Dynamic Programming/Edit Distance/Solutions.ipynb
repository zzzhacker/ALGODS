{
 "cells": [
  {
   "cell_type": "markdown",
   "metadata": {},
   "source": [
    "<div class=\"content__u3I1 question-content__JfgR\"><div><p>Given two strings <code>word1</code> and <code>word2</code>, return <em>the minimum number of operations required to convert <code>word1</code> to <code>word2</code></em>.</p>\n",
    "\n",
    "<p>You have the following three operations permitted on a word:</p>\n",
    "\n",
    "<ul>\n",
    "\t<li>Insert a character</li>\n",
    "\t<li>Delete a character</li>\n",
    "\t<li>Replace a character</li>\n",
    "</ul>\n",
    "\n",
    "<p>&nbsp;</p>\n",
    "<p><strong>Example 1:</strong></p>\n",
    "\n",
    "<pre><strong>Input:</strong> word1 = \"horse\", word2 = \"ros\"\n",
    "<strong>Output:</strong> 3\n",
    "<strong>Explanation:</strong> \n",
    "horse -&gt; rorse (replace 'h' with 'r')\n",
    "rorse -&gt; rose (remove 'r')\n",
    "rose -&gt; ros (remove 'e')\n",
    "</pre>\n",
    "\n",
    "<p><strong>Example 2:</strong></p>\n",
    "\n",
    "<pre><strong>Input:</strong> word1 = \"intention\", word2 = \"execution\"\n",
    "<strong>Output:</strong> 5\n",
    "<strong>Explanation:</strong> \n",
    "intention -&gt; inention (remove 't')\n",
    "inention -&gt; enention (replace 'i' with 'e')\n",
    "enention -&gt; exention (replace 'n' with 'x')\n",
    "exention -&gt; exection (replace 'n' with 'c')\n",
    "exection -&gt; execution (insert 'u')\n",
    "</pre>\n",
    "\n",
    "<p>&nbsp;</p>\n",
    "<p><strong>Constraints:</strong></p>\n",
    "\n",
    "<ul>\n",
    "\t<li><code>0 &lt;= word1.length, word2.length &lt;= 500</code></li>\n",
    "\t<li><code>word1</code> and <code>word2</code> consist of lowercase English letters.</li>\n",
    "</ul>\n",
    "</div></div>"
   ]
  },
  {
   "cell_type": "code",
   "execution_count": 1,
   "metadata": {},
   "outputs": [],
   "source": [
    "class Solution:\n",
    "    def minDistance(self, word1: str, word2: str) -> int:\n",
    "        dp = [[0]*(len(word2)+1) for i in range(len(word1)+1)]\n",
    "        for i in range(len(dp)): dp[i][0]=i\n",
    "        for j in range(len(dp[0])): dp[0][j]=j\n",
    "        for i in range(1,len(dp)):\n",
    "            for j in range(1,len(dp[0])):\n",
    "                if word1[i-1] == word2[j-1]:\n",
    "                    dp[i][j] = dp[i-1][j-1]\n",
    "                else:\n",
    "                    dp[i][j] = min(dp[i-1][j]+1,dp[i][j-1]+1,dp[i-1][j-1]+1)\n",
    "        \n",
    "        return dp[len(word1)][len(word2)]"
   ]
  },
  {
   "cell_type": "code",
   "execution_count": null,
   "metadata": {},
   "outputs": [],
   "source": []
  }
 ],
 "metadata": {
  "interpreter": {
   "hash": "31f2aee4e71d21fbe5cf8b01ff0e069b9275f58929596ceb00d14d90e3e16cd6"
  },
  "kernelspec": {
   "display_name": "Python 3.8.9 64-bit",
   "language": "python",
   "name": "python3"
  },
  "language_info": {
   "codemirror_mode": {
    "name": "ipython",
    "version": 3
   },
   "file_extension": ".py",
   "mimetype": "text/x-python",
   "name": "python",
   "nbconvert_exporter": "python",
   "pygments_lexer": "ipython3",
   "version": "3.8.9"
  },
  "orig_nbformat": 4
 },
 "nbformat": 4,
 "nbformat_minor": 2
}
