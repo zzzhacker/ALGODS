{
 "cells": [
  {
   "cell_type": "markdown",
   "metadata": {},
   "source": [
    "<div class=\"problem-statement\">\n",
    "                <p></p><p><span style=\"font-size:18px\">Given a square chessboard, the initial position of Knight and position of a target. Find out the minimum steps a Knight will take to reach the target position.</span></p>\n",
    "\n",
    "<p><span style=\"font-size:18px\"><strong>Note:</strong><br>\n",
    "The initial and the target position co-ordinates of&nbsp;Knight have been given accoring to 1-base indexing.</span></p>\n",
    "\n",
    "<p>&nbsp;</p>\n",
    "\n",
    "<p><span style=\"font-size:18px\"><strong>Example 1:</strong></span></p>\n",
    "\n",
    "<pre><span style=\"font-size:18px\"><strong>Input:</strong>\n",
    "N=6\n",
    "knightPos[ ] = {4, 5}\n",
    "targetPos[ ] = {1, 1}</span>\n",
    "<span style=\"font-size:18px\"><strong>Output:</strong>\n",
    "3</span>\n",
    "<span style=\"font-size:18px\"><strong>Explanation:</strong></span>\n",
    "<img src=\"https://media.geeksforgeeks.org/wp-content/uploads/KnightChess.jpg\" class=\"img-responsive\">\n",
    "<span style=\"font-size:18px\">Knight takes 3 step to reach from \n",
    "(4, 5) to (1, 1):\n",
    "(4, 5) -&gt; (5, 3) -&gt; (3, 2) -&gt; (1, 1).</span></pre>\n",
    "\n",
    "<p>&nbsp;</p>\n",
    "\n",
    "<p>&nbsp;</p>\n",
    "\n",
    "<p><span style=\"font-size:18px\"><strong>Your Task:</strong><br>\n",
    "You don't need to read input or print anything. Your task is to complete the function&nbsp;<strong>minStepToReachTarget()</strong>&nbsp;which takes the inital position of Knight (KnightPos), the target position of Knight (TargetPos) and the size of the chess board (N) as an input parameters&nbsp;and returns the minimum number of steps required by the knight to reach from its current position to the given target position.</span></p>\n",
    "\n",
    "<p>&nbsp;</p>\n",
    "\n",
    "<p><span style=\"font-size:18px\"><strong>Expected Time Complexity:</strong>&nbsp;O(N<sup>2</sup>).<br>\n",
    "<strong>Expected Auxiliary Space:</strong>&nbsp;O(N<sup>2</sup>).</span></p>\n",
    "\n",
    "<p>&nbsp;</p>\n",
    "\n",
    "<p><span style=\"font-size:18px\"><strong>Constraints:</strong><br>\n",
    "1 &lt;= N &lt;= 1000<br>\n",
    "1 &lt;= Knight_pos(X, Y), Targer_pos(X, Y)&nbsp;&lt;= N</span></p>\n",
    " <p></p>\n",
    "            </div>"
   ]
  },
  {
   "cell_type": "code",
   "execution_count": 112,
   "metadata": {},
   "outputs": [],
   "source": [
    "import queue\n",
    "class Solution:\n",
    "\t#Function to find out minimum steps Knight needs to reach target position.\n",
    "\tdef minStepToReachTarget(self, KnightPos, TargetPos, N):\n",
    "\t\tself.visited = set()\n",
    "\t\tpl = 0\n",
    "\t\tself.q = queue.Queue()\n",
    "\t\tKnightPos = [KnightPos[0]-1,KnightPos[1]-1]\n",
    "\t\tTargetPos = [TargetPos[0]-1,TargetPos[1]-1]\n",
    "\t\tif KnightPos == TargetPos:\n",
    "\t\t\treturn 0\n",
    "\t\tself.q.put(KnightPos,pl)\n",
    "\t\tself.visited.add(str(KnightPos))\n",
    "\t\treturn self.myminStepToReachTarget(pl,TargetPos,N)\n",
    "\n",
    "\tdef myminStepToReachTarget(self,pl,TargetPos, N):\n",
    "\t\twhile self.q.empty() != True:\n",
    "\t\t\tKnightPos = self.q.get()\n",
    "\t\t\tpl = pl+1\n",
    "\t\t\tactual_moves = self.get_possible_moves(*KnightPos,N)\n",
    "\t\t\tfor move in actual_moves:\n",
    "\t\t\t\tif move == TargetPos:\n",
    "\t\t\t\t\treturn pl\n",
    "\t\t\t\telse:\n",
    "\t\t\t\t\tif str(move) not in self.visited:\n",
    "\t\t\t\t\t\tself.q.put((move,pl))\n",
    "\t\t\t\t\t\tself.visited.add(str(KnightPos))\n",
    "\t\treturn float('inf')\n",
    "\t\n",
    "\tdef get_possible_moves(self,i,j,N):\n",
    "\t\tpossible_moves = [[i+2,j-1],[i+2,j+1],[i-2,j+1],[i-2,j-1],[i+1,j-2],[i+1,j+2],[i-1,j+2],[i-1,j-2]]\n",
    "\t\tprint(possible_moves)\n",
    "\t\tactual_moves = []\n",
    "\t\tfor i,j in possible_moves:\n",
    "\t\t\tif i<0 or j <0 or i>N-1 or j>N-1 or str([i,j]) in self.visited:\n",
    "\t\t\t\tcontinue\n",
    "\t\t\telse:\n",
    "\t\t\t\tactual_moves = actual_moves+[[i,j]]\n",
    "\t\treturn actual_moves\n",
    "\t\n",
    "\t\t\n",
    "\t\t"
   ]
  },
  {
   "cell_type": "code",
   "execution_count": 160,
   "metadata": {},
   "outputs": [],
   "source": [
    "class Solution:\n",
    "    #Function to find out minimum steps Knight needs to reach target position.\n",
    "    def minStepToReachTarget(self, KnightPos, TargetPos, N):\n",
    "        self.visited = set()\n",
    "        pl = 0\n",
    "        self.q = queue.Queue()\n",
    "        KnightPos = [KnightPos[0]-1,KnightPos[1]-1]\n",
    "        TargetPos = [TargetPos[0]-1,TargetPos[1]-1]\n",
    "        self.q.put(KnightPos)\n",
    "        self.visited.add(str(KnightPos))\n",
    "        while self.q.empty() != True:\n",
    "            KnightPos = self.q.get()\n",
    "            pl = pl+1\n",
    "            print(KnightPos)\n",
    "            actual_moves = self.get_possible_moves(*KnightPos,N)\n",
    "            print(actual_moves,'\\n',TargetPos)\n",
    "            for move in actual_moves:\n",
    "                if move == TargetPos:\n",
    "                    break\n",
    "                else:\n",
    "                    self.q.put(move)\n",
    "                    self.visited.add(str(move))\n",
    "        return pl\n",
    "\n",
    "    def get_possible_moves(self,i,j,N):\n",
    "        possible_moves = [[i+2,j-1],[i+2,j+1],[i-2,j+1],[i-2,j-1],[i+1,j-2],[i+1,j+2],[i-1,j+2],[i-1,j-2]]\n",
    "        actual_moves = []\n",
    "        for i,j in possible_moves:\n",
    "            if i<0 or j <0 or i>N-1 or j>N-1 or str([i,j]) in self.visited:\n",
    "                continue\n",
    "            else:\n",
    "                actual_moves = actual_moves+[[i,j]]\n",
    "        return actual_moves\n"
   ]
  },
  {
   "cell_type": "code",
   "execution_count": 161,
   "metadata": {},
   "outputs": [],
   "source": [
    "N=7\n",
    "knightPos = [6,1]\n",
    "targetPos= [2,4]"
   ]
  },
  {
   "cell_type": "code",
   "execution_count": 162,
   "metadata": {},
   "outputs": [
    {
     "name": "stdout",
     "output_type": "stream",
     "text": [
      "[5, 0]\n",
      "[[3, 1], [6, 2], [4, 2]] \n",
      " [1, 3]\n"
     ]
    },
    {
     "data": {
      "text/plain": [
       "1"
      ]
     },
     "execution_count": 162,
     "metadata": {},
     "output_type": "execute_result"
    }
   ],
   "source": [
    "Solution().minStepToReachTarget(knightPos, targetPos, N)"
   ]
  },
  {
   "cell_type": "code",
   "execution_count": 127,
   "metadata": {},
   "outputs": [],
   "source": [
    "def get_possible_moves(i,j,N):\n",
    "        possible_moves = [[i+2,j-1],[i+2,j+1],[i-2,j+1],[i-2,j-1],[i+1,j-2],[i+1,j+2],[i-1,j+2],[i-1,j-2]]\n",
    "        actual_moves = []\n",
    "        for i,j in possible_moves:\n",
    "            if i<0 or j <0 or i>N-1 or j>N-1 :\n",
    "                continue\n",
    "            else:\n",
    "                actual_moves = actual_moves+[[i,j]]\n",
    "        return actual_moves"
   ]
  },
  {
   "cell_type": "code",
   "execution_count": 128,
   "metadata": {},
   "outputs": [
    {
     "data": {
      "text/plain": [
       "[[7, 4], [7, 6], [3, 6], [3, 4], [6, 3], [6, 7], [4, 7], [4, 3]]"
      ]
     },
     "execution_count": 128,
     "metadata": {},
     "output_type": "execute_result"
    }
   ],
   "source": [
    "get_possible_moves(5,5,10)"
   ]
  },
  {
   "cell_type": "code",
   "execution_count": 159,
   "metadata": {},
   "outputs": [
    {
     "data": {
      "text/plain": [
       "False"
      ]
     },
     "execution_count": 159,
     "metadata": {},
     "output_type": "execute_result"
    }
   ],
   "source": [
    "[2,4]==[4,2]"
   ]
  },
  {
   "cell_type": "code",
   "execution_count": null,
   "metadata": {},
   "outputs": [],
   "source": []
  }
 ],
 "metadata": {
  "interpreter": {
   "hash": "2a27f5d032ecabe3e8edb5dbd95ded1c93948480b19dc493970dda0c97996308"
  },
  "kernelspec": {
   "display_name": "Python 3.9.6 64-bit ('cse5360': conda)",
   "name": "python3"
  },
  "language_info": {
   "codemirror_mode": {
    "name": "ipython",
    "version": 3
   },
   "file_extension": ".py",
   "mimetype": "text/x-python",
   "name": "python",
   "nbconvert_exporter": "python",
   "pygments_lexer": "ipython3",
   "version": "3.9.6"
  },
  "orig_nbformat": 4
 },
 "nbformat": 4,
 "nbformat_minor": 2
}
