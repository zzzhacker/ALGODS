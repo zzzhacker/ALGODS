{
 "cells": [
  {
   "cell_type": "markdown",
   "metadata": {},
   "source": [
    "<div class=\"content__u3I1 question-content__JfgR\"><div><p>Given two strings <code>text1</code> and <code>text2</code>, return <em>the length of their longest <strong>common subsequence</strong>. </em>If there is no <strong>common subsequence</strong>, return <code>0</code>.</p>\n",
    "\n",
    "<p>A <strong>subsequence</strong> of a string is a new string generated from the original string with some characters (can be none) deleted without changing the relative order of the remaining characters.</p>\n",
    "\n",
    "<ul>\n",
    "\t<li>For example, <code>\"ace\"</code> is a subsequence of <code>\"abcde\"</code>.</li>\n",
    "</ul>\n",
    "\n",
    "<p>A <strong>common subsequence</strong> of two strings is a subsequence that is common to both strings.</p>\n",
    "\n",
    "<p>&nbsp;</p>\n",
    "<p><strong>Example 1:</strong></p>\n",
    "\n",
    "<pre><strong>Input:</strong> text1 = \"abcde\", text2 = \"ace\" \n",
    "<strong>Output:</strong> 3  \n",
    "<strong>Explanation:</strong> The longest common subsequence is \"ace\" and its length is 3.\n",
    "</pre>\n",
    "\n",
    "<p><strong>Example 2:</strong></p>\n",
    "\n",
    "<pre><strong>Input:</strong> text1 = \"abc\", text2 = \"abc\"\n",
    "<strong>Output:</strong> 3\n",
    "<strong>Explanation:</strong> The longest common subsequence is \"abc\" and its length is 3.\n",
    "</pre>\n",
    "\n",
    "<p><strong>Example 3:</strong></p>\n",
    "\n",
    "<pre><strong>Input:</strong> text1 = \"abc\", text2 = \"def\"\n",
    "<strong>Output:</strong> 0\n",
    "<strong>Explanation:</strong> There is no such common subsequence, so the result is 0.\n",
    "</pre>\n",
    "\n",
    "<p>&nbsp;</p>\n",
    "<p><strong>Constraints:</strong></p>\n",
    "\n",
    "<ul>\n",
    "\t<li><code>1 &lt;= text1.length, text2.length &lt;= 1000</code></li>\n",
    "\t<li><code>text1</code> and <code>text2</code> consist of only lowercase English characters.</li>\n",
    "</ul>\n",
    "</div></div>"
   ]
  },
  {
   "cell_type": "code",
   "execution_count": 33,
   "metadata": {},
   "outputs": [],
   "source": [
    "## memoization top down\n",
    "class Solution:\n",
    "    def longestCommonSubsequence(self, text1: str, text2: str) -> int:\n",
    "        memo = [[-1]*len(text2) for i in range(len(text1))]\n",
    "        def lcs(i,j):\n",
    "                if memo[i][j] != -1:\n",
    "                    return memo[i][j]\n",
    "                else:\n",
    "                    if i==0 and j==0:\n",
    "                       memo[i][j] = 1 if text1[i]==text2[j] else 0\n",
    "                    elif i == 0 :\n",
    "                        memo[i][j] = 1 if text1[i]==text2[j] else lcs(i,j-1)\n",
    "                    elif j == 0:\n",
    "                        memo[i][j] = 1 if text1[i]==text2[j] else lcs(i-1,j)\n",
    "                    else:\n",
    "                        new = lcs(i-1,j-1)+1 if text1[i]==text2[j] else lcs(i-1,j-1)\n",
    "                        memo[i][j] = max(new,lcs(i,j-1),lcs(i-1,j))\n",
    "                    return memo[i][j]\n",
    "        return lcs(len(text1)-1,len(text2)-1)"
   ]
  },
  {
   "cell_type": "code",
   "execution_count": null,
   "metadata": {},
   "outputs": [],
   "source": [
    "## memoization bottom up\n",
    "class Solution:\n",
    "    def longestCommonSubsequence(self, text1: str, text2: str) -> int:\n",
    "        r,c = len(text1),len(text2)\n",
    "        memo = [[0]*(c+1) for _ in range(r+1)]\n",
    "        for i in range(1,r+1):\n",
    "            for j in range(1,j+1):\n",
    "                memo[i][j] = memo[i-1][j-1]+1 if text1[i-1]==text2[j-1] else max(memo[i][j-1],memo[i-1][j])\n",
    "        return memo[i][j]"
   ]
  },
  {
   "cell_type": "code",
   "execution_count": 32,
   "metadata": {},
   "outputs": [
    {
     "data": {
      "text/plain": [
       "1"
      ]
     },
     "execution_count": 32,
     "metadata": {},
     "output_type": "execute_result"
    }
   ],
   "source": [
    "Solution().longestCommonSubsequence('abc','efc')"
   ]
  },
  {
   "cell_type": "code",
   "execution_count": null,
   "metadata": {},
   "outputs": [],
   "source": []
  }
 ],
 "metadata": {
  "interpreter": {
   "hash": "748a24a7e12f043e255937764f69584c10b2b974a22ed84d52db2de81e21ea53"
  },
  "kernelspec": {
   "display_name": "Python 3.9.5 64-bit ('base': conda)",
   "name": "python3"
  },
  "language_info": {
   "codemirror_mode": {
    "name": "ipython",
    "version": 3
   },
   "file_extension": ".py",
   "mimetype": "text/x-python",
   "name": "python",
   "nbconvert_exporter": "python",
   "pygments_lexer": "ipython3",
   "version": "3.9.5"
  },
  "orig_nbformat": 4
 },
 "nbformat": 4,
 "nbformat_minor": 2
}
