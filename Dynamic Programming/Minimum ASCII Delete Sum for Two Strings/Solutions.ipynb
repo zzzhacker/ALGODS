{
 "cells": [
  {
   "cell_type": "markdown",
   "metadata": {},
   "source": [
    "<div class=\"content__u3I1 question-content__JfgR\"><div><p>Given two strings <code>s1</code> and&nbsp;<code>s2</code>, return <em>the lowest <strong>ASCII</strong> sum of deleted characters to make two strings equal</em>.</p>\n",
    "\n",
    "<p>&nbsp;</p>\n",
    "<p><strong>Example 1:</strong></p>\n",
    "\n",
    "<pre><strong>Input:</strong> s1 = \"sea\", s2 = \"eat\"\n",
    "<strong>Output:</strong> 231\n",
    "<strong>Explanation:</strong> Deleting \"s\" from \"sea\" adds the ASCII value of \"s\" (115) to the sum.\n",
    "Deleting \"t\" from \"eat\" adds 116 to the sum.\n",
    "At the end, both strings are equal, and 115 + 116 = 231 is the minimum sum possible to achieve this.\n",
    "</pre>\n",
    "\n",
    "<p><strong>Example 2:</strong></p>\n",
    "\n",
    "<pre><strong>Input:</strong> s1 = \"delete\", s2 = \"leet\"\n",
    "<strong>Output:</strong> 403\n",
    "<strong>Explanation:</strong> Deleting \"dee\" from \"delete\" to turn the string into \"let\",\n",
    "adds 100[d] + 101[e] + 101[e] to the sum.\n",
    "Deleting \"e\" from \"leet\" adds 101[e] to the sum.\n",
    "At the end, both strings are equal to \"let\", and the answer is 100+101+101+101 = 403.\n",
    "If instead we turned both strings into \"lee\" or \"eet\", we would get answers of 433 or 417, which are higher.\n",
    "</pre>\n",
    "\n",
    "<p>&nbsp;</p>\n",
    "<p><strong>Constraints:</strong></p>\n",
    "\n",
    "<ul>\n",
    "\t<li><code>1 &lt;= s1.length, s2.length &lt;= 1000</code></li>\n",
    "\t<li><code>s1</code> and <code>s2</code> consist of lowercase English letters.</li>\n",
    "</ul>\n",
    "</div></div>"
   ]
  },
  {
   "cell_type": "code",
   "execution_count": 1,
   "metadata": {},
   "outputs": [],
   "source": [
    "class Solution:\n",
    "    def minimumDeleteSum(self, s1: str, s2: str) -> int:\n",
    "        @cache\n",
    "        def dp(i,j):\n",
    "            if i == -1:\n",
    "                return sum(map(ord,list(s2[:j+1])))\n",
    "            if j == -1: \n",
    "                return sum(map(ord,list(s1[:i+1])))\n",
    "            if s1[i]==s2[j]:\n",
    "                return dp(i-1,j-1)\n",
    "            else:\n",
    "                return min(dp(i-1,j)+ord(s1[i]),dp(i,j-1)+ord(s2[j]),dp(i-1,j-1)+ord(s1[i])+ord(s2[j]))\n",
    "        \n",
    "        return dp(len(s1)-1,len(s2)-1)"
   ]
  },
  {
   "cell_type": "code",
   "execution_count": null,
   "metadata": {},
   "outputs": [],
   "source": []
  }
 ],
 "metadata": {
  "interpreter": {
   "hash": "31f2aee4e71d21fbe5cf8b01ff0e069b9275f58929596ceb00d14d90e3e16cd6"
  },
  "kernelspec": {
   "display_name": "Python 3.8.9 64-bit",
   "language": "python",
   "name": "python3"
  },
  "language_info": {
   "codemirror_mode": {
    "name": "ipython",
    "version": 3
   },
   "file_extension": ".py",
   "mimetype": "text/x-python",
   "name": "python",
   "nbconvert_exporter": "python",
   "pygments_lexer": "ipython3",
   "version": "3.8.9"
  },
  "orig_nbformat": 4
 },
 "nbformat": 4,
 "nbformat_minor": 2
}
