{
 "cells": [
  {
   "cell_type": "markdown",
   "metadata": {},
   "source": [
    "<div class=\"content__u3I1 question-content__JfgR\"><div><p>Given a string <code>s</code> and a dictionary of strings <code>wordDict</code>, return <code>true</code> if <code>s</code> can be segmented into a space-separated sequence of one or more dictionary words.</p>\n",
    "\n",
    "<p><strong>Note</strong> that the same word in the dictionary may be reused multiple times in the segmentation.</p>\n",
    "\n",
    "<p>&nbsp;</p>\n",
    "<p><strong>Example 1:</strong></p>\n",
    "\n",
    "<pre><strong>Input:</strong> s = \"leetcode\", wordDict = [\"leet\",\"code\"]\n",
    "<strong>Output:</strong> true\n",
    "<strong>Explanation:</strong> Return true because \"leetcode\" can be segmented as \"leet code\".\n",
    "</pre>\n",
    "\n",
    "<p><strong>Example 2:</strong></p>\n",
    "\n",
    "<pre><strong>Input:</strong> s = \"applepenapple\", wordDict = [\"apple\",\"pen\"]\n",
    "<strong>Output:</strong> true\n",
    "<strong>Explanation:</strong> Return true because \"applepenapple\" can be segmented as \"apple pen apple\".\n",
    "Note that you are allowed to reuse a dictionary word.\n",
    "</pre>\n",
    "\n",
    "<p><strong>Example 3:</strong></p>\n",
    "\n",
    "<pre><strong>Input:</strong> s = \"catsandog\", wordDict = [\"cats\",\"dog\",\"sand\",\"and\",\"cat\"]\n",
    "<strong>Output:</strong> false\n",
    "</pre>\n",
    "\n",
    "<p>&nbsp;</p>\n",
    "<p><strong>Constraints:</strong></p>\n",
    "\n",
    "<ul>\n",
    "\t<li><code>1 &lt;= s.length &lt;= 300</code></li>\n",
    "\t<li><code>1 &lt;= wordDict.length &lt;= 1000</code></li>\n",
    "\t<li><code>1 &lt;= wordDict[i].length &lt;= 20</code></li>\n",
    "\t<li><code>s</code> and <code>wordDict[i]</code> consist of only lowercase English letters.</li>\n",
    "\t<li>All the strings of <code>wordDict</code> are <strong>unique</strong>.</li>\n",
    "</ul>\n",
    "</div></div>"
   ]
  },
  {
   "cell_type": "code",
   "execution_count": 2,
   "metadata": {},
   "outputs": [],
   "source": [
    "from functools import lru_cache\n",
    "from typing import List\n",
    "class Solution:\n",
    "    def wordBreak(self, s: str, wordDict: List[str]) -> bool:\n",
    "        @lru_cache(maxsize=None)\n",
    "        def mywordBreak(s):\n",
    "            if s==\"\":\n",
    "                return True\n",
    "            state = False\n",
    "            sub_str = \"\"\n",
    "            for i,c in enumerate(s):\n",
    "                sub_str += c\n",
    "                if sub_str in wordDict:\n",
    "                    state = state or mywordBreak(s[i+1:])\n",
    "            return state\n",
    "        return mywordBreak(s)"
   ]
  },
  {
   "cell_type": "code",
   "execution_count": null,
   "metadata": {},
   "outputs": [],
   "source": []
  }
 ],
 "metadata": {
  "interpreter": {
   "hash": "916dbcbb3f70747c44a77c7bcd40155683ae19c65e1c03b4aa3499c5328201f1"
  },
  "kernelspec": {
   "display_name": "Python 3.8.10 64-bit",
   "language": "python",
   "name": "python3"
  },
  "language_info": {
   "codemirror_mode": {
    "name": "ipython",
    "version": 3
   },
   "file_extension": ".py",
   "mimetype": "text/x-python",
   "name": "python",
   "nbconvert_exporter": "python",
   "pygments_lexer": "ipython3",
   "version": "3.9.5"
  },
  "orig_nbformat": 4
 },
 "nbformat": 4,
 "nbformat_minor": 2
}
