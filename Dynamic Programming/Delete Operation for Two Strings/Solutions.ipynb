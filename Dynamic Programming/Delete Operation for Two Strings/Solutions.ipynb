{
 "cells": [
  {
   "cell_type": "markdown",
   "metadata": {},
   "source": [
    "<div class=\"content__u3I1 question-content__JfgR\"><div><p>Given two strings <code>word1</code> and <code>word2</code>, return <em>the minimum number of <strong>steps</strong> required to make</em> <code>word1</code> <em>and</em> <code>word2</code> <em>the same</em>.</p>\n",
    "\n",
    "<p>In one <strong>step</strong>, you can delete exactly one character in either string.</p>\n",
    "\n",
    "<p>&nbsp;</p>\n",
    "<p><strong>Example 1:</strong></p>\n",
    "\n",
    "<pre><strong>Input:</strong> word1 = \"sea\", word2 = \"eat\"\n",
    "<strong>Output:</strong> 2\n",
    "<strong>Explanation:</strong> You need one step to make \"sea\" to \"ea\" and another step to make \"eat\" to \"ea\".\n",
    "</pre>\n",
    "\n",
    "<p><strong>Example 2:</strong></p>\n",
    "\n",
    "<pre><strong>Input:</strong> word1 = \"leetcode\", word2 = \"etco\"\n",
    "<strong>Output:</strong> 4\n",
    "</pre>\n",
    "\n",
    "<p>&nbsp;</p>\n",
    "<p><strong>Constraints:</strong></p>\n",
    "\n",
    "<ul>\n",
    "\t<li><code>1 &lt;= word1.length, word2.length &lt;= 500</code></li>\n",
    "\t<li><code>word1</code> and <code>word2</code> consist of only lowercase English letters.</li>\n",
    "</ul>\n",
    "</div></div>"
   ]
  },
  {
   "cell_type": "code",
   "execution_count": 1,
   "metadata": {},
   "outputs": [],
   "source": [
    "class Solution:\n",
    "    def minDistance(self, word1: str, word2: str) -> int:\n",
    "        @cache\n",
    "        def dp(i,j):\n",
    "            if i==-1: return j+1\n",
    "            if j==-1 : return i+1\n",
    "            if word1[i] == word2[j]:\n",
    "                return dp(i-1,j-1)\n",
    "            else:\n",
    "                return min(dp(i-1,j)+1,dp(i,j-1)+1,dp(i-1,j-1)+2)\n",
    "        \n",
    "        return dp(len(word1)-1,len(word2)-1)"
   ]
  },
  {
   "cell_type": "code",
   "execution_count": null,
   "metadata": {},
   "outputs": [],
   "source": []
  }
 ],
 "metadata": {
  "interpreter": {
   "hash": "31f2aee4e71d21fbe5cf8b01ff0e069b9275f58929596ceb00d14d90e3e16cd6"
  },
  "kernelspec": {
   "display_name": "Python 3.8.9 64-bit",
   "language": "python",
   "name": "python3"
  },
  "language_info": {
   "codemirror_mode": {
    "name": "ipython",
    "version": 3
   },
   "file_extension": ".py",
   "mimetype": "text/x-python",
   "name": "python",
   "nbconvert_exporter": "python",
   "pygments_lexer": "ipython3",
   "version": "3.8.9"
  },
  "orig_nbformat": 4
 },
 "nbformat": 4,
 "nbformat_minor": 2
}
