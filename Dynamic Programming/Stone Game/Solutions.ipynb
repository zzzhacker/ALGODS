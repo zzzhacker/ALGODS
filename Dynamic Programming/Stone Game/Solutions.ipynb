{
 "cells": [
  {
   "cell_type": "markdown",
   "metadata": {},
   "source": [
    "<div class=\"content__u3I1 question-content__JfgR\"><div><p>Alice and Bob play a game with piles of stones. There are an <strong>even</strong> number of piles arranged in a row, and each pile has a <strong>positive</strong> integer number of stones <code>piles[i]</code>.</p>\n",
    "\n",
    "<p>The objective of the game is to end with the most stones. The <strong>total</strong> number of stones across all the piles is <strong>odd</strong>, so there are no ties.</p>\n",
    "\n",
    "<p>Alice and Bob take turns, with <strong>Alice starting first</strong>. Each turn, a player takes the entire pile of stones either from the <strong>beginning</strong> or from the <strong>end</strong> of the row. This continues until there are no more piles left, at which point the person with the <strong>most stones wins</strong>.</p>\n",
    "\n",
    "<p>Assuming Alice and Bob play optimally, return <code>true</code><em> if Alice wins the game, or </em><code>false</code><em> if Bob wins</em>.</p>\n",
    "\n",
    "<p>&nbsp;</p>\n",
    "<p><strong>Example 1:</strong></p>\n",
    "\n",
    "<pre><strong>Input:</strong> piles = [5,3,4,5]\n",
    "<strong>Output:</strong> true\n",
    "<strong>Explanation:</strong> \n",
    "Alice starts first, and can only take the first 5 or the last 5.\n",
    "Say she takes the first 5, so that the row becomes [3, 4, 5].\n",
    "If Bob takes 3, then the board is [4, 5], and Alice takes 5 to win with 10 points.\n",
    "If Bob takes the last 5, then the board is [3, 4], and Alice takes 4 to win with 9 points.\n",
    "This demonstrated that taking the first 5 was a winning move for Alice, so we return true.\n",
    "</pre>\n",
    "\n",
    "<p><strong>Example 2:</strong></p>\n",
    "\n",
    "<pre><strong>Input:</strong> piles = [3,7,2,3]\n",
    "<strong>Output:</strong> true\n",
    "</pre>\n",
    "\n",
    "<p>&nbsp;</p>\n",
    "<p><strong>Constraints:</strong></p>\n",
    "\n",
    "<ul>\n",
    "\t<li><code>2 &lt;= piles.length &lt;= 500</code></li>\n",
    "\t<li><code>piles.length</code> is <strong>even</strong>.</li>\n",
    "\t<li><code>1 &lt;= piles[i] &lt;= 500</code></li>\n",
    "\t<li><code>sum(piles[i])</code> is <strong>odd</strong>.</li>\n",
    "</ul>\n",
    "</div></div>"
   ]
  },
  {
   "cell_type": "code",
   "execution_count": 2,
   "metadata": {},
   "outputs": [],
   "source": [
    "from collections import namedtuple\n",
    "from typing import List\n",
    "class Solution:\n",
    "    def stoneGame(self, piles: List[int]) -> bool:\n",
    "        pair = namedtuple(\"Pair\",\"first second\")\n",
    "        dp = [[0]*len(piles) for _ in range(len(piles))]\n",
    "        \n",
    "        \n",
    "        for i in range(len(piles)):\n",
    "            dp[i][i] = pair(piles[i],0)\n",
    "        \n",
    "        for offset in range(2,len(piles)+1):\n",
    "            for i in range(0,len(piles)-offset+1):\n",
    "                j = i+offset-1\n",
    "                left = piles[i] + dp[i+1][j].second\n",
    "                right = dp[i][j-1].second+piles[j]\n",
    "                if left>right:\n",
    "                    dp[i][j] = pair(left,dp[i+1][j].first)\n",
    "                else:\n",
    "                    dp[i][j] = pair(right,dp[i][j-1].first)\n",
    "                    \n",
    "        return True if dp[0][len(piles)-1].first>dp[0][len(piles)-1].second else False"
   ]
  }
 ],
 "metadata": {
  "interpreter": {
   "hash": "31f2aee4e71d21fbe5cf8b01ff0e069b9275f58929596ceb00d14d90e3e16cd6"
  },
  "kernelspec": {
   "display_name": "Python 3.8.9 64-bit",
   "language": "python",
   "name": "python3"
  },
  "language_info": {
   "codemirror_mode": {
    "name": "ipython",
    "version": 3
   },
   "file_extension": ".py",
   "mimetype": "text/x-python",
   "name": "python",
   "nbconvert_exporter": "python",
   "pygments_lexer": "ipython3",
   "version": "3.8.9"
  },
  "orig_nbformat": 4
 },
 "nbformat": 4,
 "nbformat_minor": 2
}
