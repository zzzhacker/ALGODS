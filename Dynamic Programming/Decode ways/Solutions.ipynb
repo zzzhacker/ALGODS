{
 "cells": [
  {
   "cell_type": "markdown",
   "metadata": {},
   "source": [
    "<div class=\"content__u3I1 question-content__JfgR\"><div><p>A message containing letters from <code>A-Z</code> can be <strong>encoded</strong> into numbers using the following mapping:</p>\n",
    "\n",
    "<pre>'A' -&gt; \"1\"\n",
    "'B' -&gt; \"2\"\n",
    "...\n",
    "'Z' -&gt; \"26\"\n",
    "</pre>\n",
    "\n",
    "<p>To <strong>decode</strong> an encoded message, all the digits must be grouped then mapped back into letters using the reverse of the mapping above (there may be multiple ways). For example, <code>\"11106\"</code> can be mapped into:</p>\n",
    "\n",
    "<ul>\n",
    "\t<li><code>\"AAJF\"</code> with the grouping <code>(1 1 10 6)</code></li>\n",
    "\t<li><code>\"KJF\"</code> with the grouping <code>(11 10 6)</code></li>\n",
    "</ul>\n",
    "\n",
    "<p>Note that the grouping <code>(1 11 06)</code> is invalid because <code>\"06\"</code> cannot be mapped into <code>'F'</code> since <code>\"6\"</code> is different from <code>\"06\"</code>.</p>\n",
    "\n",
    "<p>Given a string <code>s</code> containing only digits, return <em>the <strong>number</strong> of ways to <strong>decode</strong> it</em>.</p>\n",
    "\n",
    "<p>The test cases are generated so that the answer fits in a <strong>32-bit</strong> integer.</p>\n",
    "\n",
    "<p>&nbsp;</p>\n",
    "<p><strong>Example 1:</strong></p>\n",
    "\n",
    "<pre><strong>Input:</strong> s = \"12\"\n",
    "<strong>Output:</strong> 2\n",
    "<strong>Explanation:</strong> \"12\" could be decoded as \"AB\" (1 2) or \"L\" (12).\n",
    "</pre>\n",
    "\n",
    "<p><strong>Example 2:</strong></p>\n",
    "\n",
    "<pre><strong>Input:</strong> s = \"226\"\n",
    "<strong>Output:</strong> 3\n",
    "<strong>Explanation:</strong> \"226\" could be decoded as \"BZ\" (2 26), \"VF\" (22 6), or \"BBF\" (2 2 6).\n",
    "</pre>\n",
    "\n",
    "<p><strong>Example 3:</strong></p>\n",
    "\n",
    "<pre><strong>Input:</strong> s = \"06\"\n",
    "<strong>Output:</strong> 0\n",
    "<strong>Explanation:</strong> \"06\" cannot be mapped to \"F\" because of the leading zero (\"6\" is different from \"06\").\n",
    "</pre>\n",
    "\n",
    "<p>&nbsp;</p>\n",
    "<p><strong>Constraints:</strong></p>\n",
    "\n",
    "<ul>\n",
    "\t<li><code>1 &lt;= s.length &lt;= 100</code></li>\n",
    "\t<li><code>s</code> contains only digits and may contain leading zero(s).</li>\n",
    "</ul>\n",
    "</div></div>"
   ]
  },
  {
   "cell_type": "code",
   "execution_count": 1,
   "metadata": {},
   "outputs": [],
   "source": [
    "class Solution:\n",
    "    def numDecodings(self, s: str) -> int:\n",
    "        dp = [1,0]\n",
    "        i = len(s)-1\n",
    "        while i>-1:\n",
    "            if s[i] == \"0\":\n",
    "                dp = [0,dp[0]]\n",
    "            else:\n",
    "                if i+1<len(s) and (s[i]==\"1\" or(s[i]==\"2\"and s[i+1] in \"0123456\")):\n",
    "                    dp = [dp[0]+dp[1],dp[0]]\n",
    "                else:\n",
    "                    dp = [dp[0],dp[0]]\n",
    "            i = i-1\n",
    "        return dp[0]\n",
    "                    \n",
    "                "
   ]
  }
 ],
 "metadata": {
  "interpreter": {
   "hash": "2ad565f1b5e7dbf9f0330bb692af7394eacf839d42e6c67731ff37b5e1249471"
  },
  "kernelspec": {
   "display_name": "Python 3.9.5 64-bit ('base': conda)",
   "language": "python",
   "name": "python3"
  },
  "language_info": {
   "codemirror_mode": {
    "name": "ipython",
    "version": 3
   },
   "file_extension": ".py",
   "mimetype": "text/x-python",
   "name": "python",
   "nbconvert_exporter": "python",
   "pygments_lexer": "ipython3",
   "version": "3.9.5"
  },
  "orig_nbformat": 4
 },
 "nbformat": 4,
 "nbformat_minor": 2
}
