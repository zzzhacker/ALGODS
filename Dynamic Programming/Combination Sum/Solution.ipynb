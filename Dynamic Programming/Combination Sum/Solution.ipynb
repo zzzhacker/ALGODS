{
 "cells": [
  {
   "cell_type": "markdown",
   "source": [
    "<div><p>Given an array of <strong>distinct</strong> integers <code>candidates</code> and a target integer <code>target</code>, return <em>a list of all <strong>unique combinations</strong> of </em><code>candidates</code><em> where the chosen numbers sum to </em><code>target</code><em>.</em> You may return the combinations in <strong>any order</strong>.</p>\n",
    "\n",
    "<p>The <strong>same</strong> number may be chosen from <code>candidates</code> an <strong>unlimited number of times</strong>. Two combinations are unique if the frequency of at least one of the chosen numbers is different.</p>\n",
    "\n",
    "<p>It is <strong>guaranteed</strong> that the number of unique combinations that sum up to <code>target</code> is less than <code>150</code> combinations for the given input.</p>\n",
    "\n",
    "<p>&nbsp;</p>\n",
    "<p><strong>Example 1:</strong></p>\n",
    "\n",
    "<pre><strong>Input:</strong> candidates = [2,3,6,7], target = 7\n",
    "<strong>Output:</strong> [[2,2,3],[7]]\n",
    "<strong>Explanation:</strong>\n",
    "2 and 3 are candidates, and 2 + 2 + 3 = 7. Note that 2 can be used multiple times.\n",
    "7 is a candidate, and 7 = 7.\n",
    "These are the only two combinations.\n",
    "</pre>\n",
    "\n",
    "<p><strong>Example 2:</strong></p>\n",
    "\n",
    "<pre><strong>Input:</strong> candidates = [2,3,5], target = 8\n",
    "<strong>Output:</strong> [[2,2,2,2],[2,3,3],[3,5]]\n",
    "</pre>\n",
    "\n",
    "<p><strong>Example 3:</strong></p>\n",
    "\n",
    "<pre><strong>Input:</strong> candidates = [2], target = 1\n",
    "<strong>Output:</strong> []\n",
    "</pre>\n",
    "\n",
    "<p><strong>Example 4:</strong></p>\n",
    "\n",
    "<pre><strong>Input:</strong> candidates = [1], target = 1\n",
    "<strong>Output:</strong> [[1]]\n",
    "</pre>\n",
    "\n",
    "<p><strong>Example 5:</strong></p>\n",
    "\n",
    "<pre><strong>Input:</strong> candidates = [1], target = 2\n",
    "<strong>Output:</strong> [[1,1]]\n",
    "</pre>\n",
    "\n",
    "<p>&nbsp;</p>\n",
    "<p><strong>Constraints:</strong></p>\n",
    "\n",
    "<ul>\n",
    "\t<li><code>1 &lt;= candidates.length &lt;= 30</code></li>\n",
    "\t<li><code>1 &lt;= candidates[i] &lt;= 200</code></li>\n",
    "\t<li>All elements of <code>candidates</code> are <strong>distinct</strong>.</li>\n",
    "\t<li><code>1 &lt;= target &lt;= 500</code></li>\n",
    "</ul>\n",
    "</div>"
   ],
   "metadata": {}
  },
  {
   "cell_type": "code",
   "execution_count": 1,
   "source": [
    "from typing import List"
   ],
   "outputs": [],
   "metadata": {}
  },
  {
   "cell_type": "code",
   "execution_count": 41,
   "source": [
    "class Solution:\n",
    "    def combinationSum(self, candidates: List[int], target: int) -> List[List[int]]:\n",
    "        self.candidates = candidates\n",
    "        self.memo = {}\n",
    "        self.answers = self.my_combonations(target)\n",
    "        return self.answers\n",
    "    def my_combonations(self,target):\n",
    "        ans = set()\n",
    "        for candidate in self.candidates:\n",
    "            if target-candidate>=0:\n",
    "                if target-candidate == 0:\n",
    "                    if self.memo[target]!=[]:\n",
    "                        7\n",
    "                    self.memo[target] = [{candidate:1}]\n",
    "                else:\n",
    "                    for prev in self.my_combonations(target-candidate):\n",
    "                        if prev !=[[]]:\n",
    "                            ans.append(prev+[candidate])\n",
    "        return ans\n"
   ],
   "outputs": [],
   "metadata": {}
  },
  {
   "cell_type": "code",
   "execution_count": null,
   "source": [
    "zip(dict(list(range)))"
   ],
   "outputs": [],
   "metadata": {}
  },
  {
   "cell_type": "code",
   "execution_count": 46,
   "source": [
    "Solution().combinationSum([2,3],7)"
   ],
   "outputs": [
    {
     "output_type": "stream",
     "name": "stdout",
     "text": [
      "[[3, 2]] [3]\n",
      "[[3, 2], [2, 3]] [2]\n",
      "[[3, 2, 2]] [3, 2]\n",
      "[[3, 2, 2], [2, 3, 2]] [2, 3]\n",
      "[[2, 2]] [2]\n",
      "[[3, 2, 2], [2, 3, 2], [2, 2, 3]] [2, 2]\n"
     ]
    },
    {
     "output_type": "execute_result",
     "data": {
      "text/plain": [
       "[[3, 2, 2], [2, 3, 2], [2, 2, 3]]"
      ]
     },
     "metadata": {},
     "execution_count": 46
    }
   ],
   "metadata": {}
  },
  {
   "cell_type": "code",
   "execution_count": null,
   "source": [],
   "outputs": [],
   "metadata": {}
  }
 ],
 "metadata": {
  "orig_nbformat": 4,
  "language_info": {
   "name": "python",
   "version": "3.9.6",
   "mimetype": "text/x-python",
   "codemirror_mode": {
    "name": "ipython",
    "version": 3
   },
   "pygments_lexer": "ipython3",
   "nbconvert_exporter": "python",
   "file_extension": ".py"
  },
  "kernelspec": {
   "name": "python3",
   "display_name": "Python 3.9.6 64-bit ('cse5360': conda)"
  },
  "interpreter": {
   "hash": "2a27f5d032ecabe3e8edb5dbd95ded1c93948480b19dc493970dda0c97996308"
  }
 },
 "nbformat": 4,
 "nbformat_minor": 2
}