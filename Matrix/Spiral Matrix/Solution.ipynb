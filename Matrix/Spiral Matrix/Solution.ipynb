{
 "cells": [
  {
   "cell_type": "markdown",
   "metadata": {},
   "source": [
    "<div class=\"content__u3I1 question-content__JfgR\"><div><p>Given an <code>m x n</code> <code>matrix</code>, return <em>all elements of the</em> <code>matrix</code> <em>in spiral order</em>.</p>\n",
    "\n",
    "<p>&nbsp;</p>\n",
    "<p><strong>Example 1:</strong></p>\n",
    "<img alt=\"\" src=\"https://assets.leetcode.com/uploads/2020/11/13/spiral1.jpg\" style=\"width: 242px; height: 242px;\">\n",
    "<pre><strong>Input:</strong> matrix = [[1,2,3],[4,5,6],[7,8,9]]\n",
    "<strong>Output:</strong> [1,2,3,6,9,8,7,4,5]\n",
    "</pre>\n",
    "\n",
    "<p><strong>Example 2:</strong></p>\n",
    "<img alt=\"\" src=\"https://assets.leetcode.com/uploads/2020/11/13/spiral.jpg\" style=\"width: 322px; height: 242px;\">\n",
    "<pre><strong>Input:</strong> matrix = [[1,2,3,4],[5,6,7,8],[9,10,11,12]]\n",
    "<strong>Output:</strong> [1,2,3,4,8,12,11,10,9,5,6,7]\n",
    "</pre>\n",
    "\n",
    "<p>&nbsp;</p>\n",
    "<p><strong>Constraints:</strong></p>\n",
    "\n",
    "<ul>\n",
    "\t<li><code>m == matrix.length</code></li>\n",
    "\t<li><code>n == matrix[i].length</code></li>\n",
    "\t<li><code>1 &lt;= m, n &lt;= 10</code></li>\n",
    "\t<li><code>-100 &lt;= matrix[i][j] &lt;= 100</code></li>\n",
    "</ul>\n",
    "</div></div>"
   ]
  },
  {
   "cell_type": "code",
   "execution_count": 1,
   "metadata": {},
   "outputs": [],
   "source": [
    "import numpy as np\n",
    "from typing import List\n",
    "class Solution:\n",
    "    def spiralOrder(self, matrix: List[List[int]]) -> List[int]:\n",
    "        moves = [[0,1],[1,0],[0,-1],[-1,0]]\n",
    "        self.m,self.n = (len(matrix),len(matrix[0]))\n",
    "        self.visited = np.full((self.m,self.n),False)\n",
    "        i=0\n",
    "        j=0\n",
    "        self.visited[i,j] = True\n",
    "        final = [matrix[i][j]]\n",
    "        alteast_a_move = True\n",
    "        while(alteast_a_move):\n",
    "            alteast_a_move = False\n",
    "            for move in moves:\n",
    "                while (self.valid(i+move[0],j+move[1])):\n",
    "                    alteast_a_move = True\n",
    "                    i = i+move[0]\n",
    "                    j = j+move[1]\n",
    "                    self.visited[i,j] = True\n",
    "                    final.append(matrix[i][j])\n",
    "        return final\n",
    "    \n",
    "    def valid(self,i,j):\n",
    "        return i<self.m and i>-1 and j<self.n and j>-1 and not self.visited[i,j] "
   ]
  },
  {
   "cell_type": "code",
   "execution_count": null,
   "metadata": {},
   "outputs": [],
   "source": [
    "## Cleaner and optimized solution\n",
    "## space O(1)\n",
    "class Solution:\n",
    "    def spiralOrder(self, matrix: List[List[int]]) -> List[int]:\n",
    "        m, n = len(matrix), len(matrix[0]) \n",
    "        ans = []\n",
    "        i = j = 0 # position\n",
    "        di, dj = 0, 1 # direction\n",
    "        for _ in range(m*n): \n",
    "            ans.append(matrix[i][j])\n",
    "            matrix[i][j] = None\n",
    "            if not (0 <= i+di < m and 0 <= j+dj < n and matrix[i+di][j+dj] is not None): \n",
    "                di, dj = dj, -di # rotate clockwise \n",
    "            i += di\n",
    "            j += dj\n",
    "        return ans \n",
    "    "
   ]
  }
 ],
 "metadata": {
  "interpreter": {
   "hash": "047fbbd14142b45230cb6c68155f1f738e6b06485617bb1045f9b7399b179778"
  },
  "kernelspec": {
   "display_name": "Python 3.9.6 64-bit ('cse5360': conda)",
   "name": "python3"
  },
  "language_info": {
   "codemirror_mode": {
    "name": "ipython",
    "version": 3
   },
   "file_extension": ".py",
   "mimetype": "text/x-python",
   "name": "python",
   "nbconvert_exporter": "python",
   "pygments_lexer": "ipython3",
   "version": "3.9.6"
  },
  "orig_nbformat": 4
 },
 "nbformat": 4,
 "nbformat_minor": 2
}
