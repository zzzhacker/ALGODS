{
 "cells": [
  {
   "cell_type": "markdown",
   "metadata": {},
   "source": [
    "<div class=\"content__u3I1 question-content__JfgR\"><div><p>Given an array of intervals <code>intervals</code> where <code>intervals[i] = [start<sub>i</sub>, end<sub>i</sub>]</code>, return <em>the minimum number of intervals you need to remove to make the rest of the intervals non-overlapping</em>.</p>\n",
    "\n",
    "<p>&nbsp;</p>\n",
    "<p><strong>Example 1:</strong></p>\n",
    "\n",
    "<pre><strong>Input:</strong> intervals = [[1,2],[2,3],[3,4],[1,3]]\n",
    "<strong>Output:</strong> 1\n",
    "<strong>Explanation:</strong> [1,3] can be removed and the rest of the intervals are non-overlapping.\n",
    "</pre>\n",
    "\n",
    "<p><strong>Example 2:</strong></p>\n",
    "\n",
    "<pre><strong>Input:</strong> intervals = [[1,2],[1,2],[1,2]]\n",
    "<strong>Output:</strong> 2\n",
    "<strong>Explanation:</strong> You need to remove two [1,2] to make the rest of the intervals non-overlapping.\n",
    "</pre>\n",
    "\n",
    "<p><strong>Example 3:</strong></p>\n",
    "\n",
    "<pre><strong>Input:</strong> intervals = [[1,2],[2,3]]\n",
    "<strong>Output:</strong> 0\n",
    "<strong>Explanation:</strong> You don't need to remove any of the intervals since they're already non-overlapping.\n",
    "</pre>\n",
    "\n",
    "<p>&nbsp;</p>\n",
    "<p><strong>Constraints:</strong></p>\n",
    "\n",
    "<ul>\n",
    "\t<li><code>1 &lt;= intervals.length &lt;= 10<sup>5</sup></code></li>\n",
    "\t<li><code>intervals[i].length == 2</code></li>\n",
    "\t<li><code>-5 * 10<sup>4</sup> &lt;= start<sub>i</sub> &lt; end<sub>i</sub> &lt;= 5 * 10<sup>4</sup></code></li>\n",
    "</ul>\n",
    "</div></div>"
   ]
  },
  {
   "cell_type": "code",
   "execution_count": 18,
   "metadata": {},
   "outputs": [],
   "source": [
    "from typing import List\n",
    "class Solution:\n",
    "    def eraseOverlapIntervals(self, intervals: List[List[int]]) -> int:\n",
    "        intervals = sorted(intervals,key=lambda x:x[0])\n",
    "        n_removal = 0\n",
    "        prevend = intervals[0][1]\n",
    "        for start,end in intervals[1:]:\n",
    "            if start>=prevend:\n",
    "                prevend = end\n",
    "            else:\n",
    "                n_removal += 1\n",
    "                prevend = min(end,prevend)\n",
    "        return n_removal"
   ]
  },
  {
   "cell_type": "code",
   "execution_count": null,
   "metadata": {},
   "outputs": [],
   "source": [
    "from typing import List\n",
    "class Solution:\n",
    "    def eraseOverlapIntervals(self, intervals: List[List[int]]) -> int:\n",
    "        intervals = sorted(intervals,key=lambda x:x[0])\n",
    "        print(intervals)\n",
    "        rooms = []\n",
    "        for start,end in intervals:\n",
    "            room = 0\n",
    "            while room<len(rooms) and rooms[room][1]>start:\n",
    "                room += 1\n",
    "            if room < len(rooms):\n",
    "                rooms[room]= (rooms[room][0]+1,end)\n",
    "            else:\n",
    "                rooms.append((1,end))\n",
    "        print(rooms)\n",
    "        max_meetings = max(rooms,key=lambda x:x[0])[0]\n",
    "        return len(intervals)-max_meetings"
   ]
  },
  {
   "cell_type": "code",
   "execution_count": 19,
   "metadata": {},
   "outputs": [
    {
     "name": "stdout",
     "output_type": "stream",
     "text": [
      "[[-73, -26], [-65, -11], [-63, 2], [-62, -49], [-52, 31], [-40, -26], [-31, 49], [30, 47], [58, 95], [66, 98], [82, 97], [95, 99]]\n",
      "[(4, 99), (2, 98), (2, 97), (2, -26), (1, 31), (1, 49)]\n"
     ]
    },
    {
     "data": {
      "text/plain": [
       "8"
      ]
     },
     "execution_count": 19,
     "metadata": {},
     "output_type": "execute_result"
    }
   ],
   "source": [
    "Solution().eraseOverlapIntervals([[-52,31],[-73,-26],[82,97],[-65,-11],[-62,-49],[95,99],[58,95],[-31,49],[66,98],[-63,2],[30,47],[-40,-26]])"
   ]
  },
  {
   "cell_type": "code",
   "execution_count": null,
   "metadata": {},
   "outputs": [],
   "source": []
  }
 ],
 "metadata": {
  "interpreter": {
   "hash": "2ad565f1b5e7dbf9f0330bb692af7394eacf839d42e6c67731ff37b5e1249471"
  },
  "kernelspec": {
   "display_name": "Python 3.9.5 64-bit ('base': conda)",
   "language": "python",
   "name": "python3"
  },
  "language_info": {
   "codemirror_mode": {
    "name": "ipython",
    "version": 3
   },
   "file_extension": ".py",
   "mimetype": "text/x-python",
   "name": "python",
   "nbconvert_exporter": "python",
   "pygments_lexer": "ipython3",
   "version": "3.9.5"
  },
  "orig_nbformat": 4
 },
 "nbformat": 4,
 "nbformat_minor": 2
}
