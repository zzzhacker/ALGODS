{
 "cells": [
  {
   "cell_type": "markdown",
   "metadata": {},
   "source": [
    "<div class=\"content__u3I1 question-content__JfgR\"><div><p>You are given an array of integers&nbsp;<code>nums</code>, there is a sliding window of size <code>k</code> which is moving from the very left of the array to the very right. You can only see the <code>k</code> numbers in the window. Each time the sliding window moves right by one position.</p>\n",
    "\n",
    "<p>Return <em>the max sliding window</em>.</p>\n",
    "\n",
    "<p>&nbsp;</p>\n",
    "<p><strong>Example 1:</strong></p>\n",
    "\n",
    "<pre><strong>Input:</strong> nums = [1,3,-1,-3,5,3,6,7], k = 3\n",
    "<strong>Output:</strong> [3,3,5,5,6,7]\n",
    "<strong>Explanation:</strong> \n",
    "Window position                Max\n",
    "---------------               -----\n",
    "[1  3  -1] -3  5  3  6  7       <strong>3</strong>\n",
    " 1 [3  -1  -3] 5  3  6  7       <strong>3</strong>\n",
    " 1  3 [-1  -3  5] 3  6  7      <strong> 5</strong>\n",
    " 1  3  -1 [-3  5  3] 6  7       <strong>5</strong>\n",
    " 1  3  -1  -3 [5  3  6] 7       <strong>6</strong>\n",
    " 1  3  -1  -3  5 [3  6  7]      <strong>7</strong>\n",
    "</pre>\n",
    "\n",
    "<p><strong>Example 2:</strong></p>\n",
    "\n",
    "<pre><strong>Input:</strong> nums = [1], k = 1\n",
    "<strong>Output:</strong> [1]\n",
    "</pre>\n",
    "\n",
    "<p>&nbsp;</p>\n",
    "<p><strong>Constraints:</strong></p>\n",
    "\n",
    "<ul>\n",
    "\t<li><code>1 &lt;= nums.length &lt;= 10<sup>5</sup></code></li>\n",
    "\t<li><code>-10<sup>4</sup> &lt;= nums[i] &lt;= 10<sup>4</sup></code></li>\n",
    "\t<li><code>1 &lt;= k &lt;= nums.length</code></li>\n",
    "</ul>\n",
    "</div></div>"
   ]
  },
  {
   "cell_type": "code",
   "execution_count": 2,
   "metadata": {},
   "outputs": [],
   "source": [
    "from typing import List\n",
    "from collections import deque\n",
    "class Solution:\n",
    "    def maxSlidingWindow(self, nums: List[int], k: int) -> List[int]:\n",
    "\n",
    "        q = deque()\n",
    "        ans = []\n",
    "        for i in range(len(nums)):\n",
    "            \n",
    "            while len(q)>0 and nums[i]>q[-1]: q.pop()\n",
    "            q.append(nums[i])\n",
    "            if i-k>-1 and q[0] == nums[i-k]: q.popleft()\n",
    "            if not i<k-1: ans.append(q[0])\n",
    "                \n",
    "        return ans"
   ]
  },
  {
   "cell_type": "code",
   "execution_count": 1,
   "metadata": {},
   "outputs": [],
   "source": [
    "import heapq\n",
    "from collections import Counter\n",
    "from typing import List\n",
    "class Solution:\n",
    "    def maxSlidingWindow(self, nums: List[int], k: int) -> List[int]:\n",
    "        nums = [-num for num in nums]\n",
    "        curr_counter = Counter(nums[:k])\n",
    "        heap = list(curr_counter.keys())\n",
    "        heapq.heapify(heap)\n",
    "        ans = [heap[0]]\n",
    "        \n",
    "        for i in range(k,len(nums)):\n",
    "   \n",
    "            curr_counter[nums[i]] += 1\n",
    "            curr_counter[nums[i-k]] -= 1\n",
    "        \n",
    "            if curr_counter[nums[i]] == 1:\n",
    "                heapq.heappush(heap,nums[i])\n",
    "                \n",
    "            temp_ans = heap[0]\n",
    "            while not curr_counter[temp_ans]:\n",
    "                heapq.heappop(heap)\n",
    "                temp_ans = heap[0]\n",
    "                \n",
    "            ans.append(temp_ans)\n",
    "        return [-num for num in ans]"
   ]
  }
 ],
 "metadata": {
  "kernelspec": {
   "display_name": "Python 3.8.9 64-bit",
   "language": "python",
   "name": "python3"
  },
  "language_info": {
   "codemirror_mode": {
    "name": "ipython",
    "version": 3
   },
   "file_extension": ".py",
   "mimetype": "text/x-python",
   "name": "python",
   "nbconvert_exporter": "python",
   "pygments_lexer": "ipython3",
   "version": "3.8.9"
  },
  "orig_nbformat": 4,
  "vscode": {
   "interpreter": {
    "hash": "31f2aee4e71d21fbe5cf8b01ff0e069b9275f58929596ceb00d14d90e3e16cd6"
   }
  }
 },
 "nbformat": 4,
 "nbformat_minor": 2
}
