{
 "cells": [
  {
   "cell_type": "markdown",
   "metadata": {},
   "source": [
    "<div class=\"content__u3I1 question-content__JfgR\"><div><p>There is a new alien language that uses the English alphabet. However, the order among the letters is unknown to you.</p>\n",
    "\n",
    "<p>You are given a list of strings <code>words</code> from the alien language's dictionary, where the strings in <code>words</code> are <strong>sorted lexicographically</strong> by the rules of this new language.</p>\n",
    "\n",
    "<p>Return <em>a string of the unique letters in the new alien language sorted in <strong>lexicographically increasing order</strong> by the new language's rules. If there is no solution, return </em><code>\"\"</code><em>. If there are multiple solutions, return <strong>any of them</strong></em>.</p>\n",
    "\n",
    "<p>A string <code>s</code> is <strong>lexicographically smaller</strong> than a string <code>t</code> if at the first letter where they differ, the letter in <code>s</code> comes before the letter in <code>t</code> in the alien language. If the first <code>min(s.length, t.length)</code> letters are the same, then <code>s</code> is smaller if and only if <code>s.length &lt; t.length</code>.</p>\n",
    "\n",
    "<p>&nbsp;</p>\n",
    "<p><strong>Example 1:</strong></p>\n",
    "\n",
    "<pre><strong>Input:</strong> words = [\"wrt\",\"wrf\",\"er\",\"ett\",\"rftt\"]\n",
    "<strong>Output:</strong> \"wertf\"\n",
    "</pre>\n",
    "\n",
    "<p><strong>Example 2:</strong></p>\n",
    "\n",
    "<pre><strong>Input:</strong> words = [\"z\",\"x\"]\n",
    "<strong>Output:</strong> \"zx\"\n",
    "</pre>\n",
    "\n",
    "<p><strong>Example 3:</strong></p>\n",
    "\n",
    "<pre><strong>Input:</strong> words = [\"z\",\"x\",\"z\"]\n",
    "<strong>Output:</strong> \"\"\n",
    "<strong>Explanation:</strong> The order is invalid, so return <code>\"\"</code>.\n",
    "</pre>\n",
    "\n",
    "<p>&nbsp;</p>\n",
    "<p><strong>Constraints:</strong></p>\n",
    "\n",
    "<ul>\n",
    "\t<li><code>1 &lt;= words.length &lt;= 100</code></li>\n",
    "\t<li><code>1 &lt;= words[i].length &lt;= 100</code></li>\n",
    "\t<li><code>words[i]</code> consists of only lowercase English letters.</li>\n",
    "</ul>\n",
    "</div></div>"
   ]
  },
  {
   "cell_type": "code",
   "execution_count": 8,
   "metadata": {},
   "outputs": [],
   "source": [
    "from typing import List\n",
    "class Solution:\n",
    "    def alienOrder(self, words: List[str]) -> str:\n",
    "        graph = {c:set() for word in words for c in word}\n",
    "        for i in range(len(words)-1):\n",
    "            minlen = min(len(words[i]),len(words[i+1]))\n",
    "            if words[i][:minlen] == words[i+1][:minlen] and len(words[i])>len(words[i+1]):\n",
    "                return \"\"\n",
    "            for j in range(minlen):\n",
    "                if words[i][j]!=words[i+1][j]:\n",
    "                    graph[words[i][j]].add(words[i+1][j])\n",
    "                    break\n",
    "        visited = {}\n",
    "        ans = []\n",
    "        def dfs(c):\n",
    "            if c in visited:\n",
    "                return visited[c]\n",
    "            visited[c] = True\n",
    "            for neighbour in graph[c]:\n",
    "                if dfs(neighbour):\n",
    "                    return True\n",
    "                \n",
    "            visited[c] = False\n",
    "            ans.append(c)\n",
    "        for c in graph:\n",
    "            if dfs(c):\n",
    "                return \"\"\n",
    "        \n",
    "        return \"\".join(ans[::-1])"
   ]
  }
 ],
 "metadata": {
  "interpreter": {
   "hash": "2ad565f1b5e7dbf9f0330bb692af7394eacf839d42e6c67731ff37b5e1249471"
  },
  "kernelspec": {
   "display_name": "Python 3.9.5 64-bit ('base': conda)",
   "language": "python",
   "name": "python3"
  },
  "language_info": {
   "codemirror_mode": {
    "name": "ipython",
    "version": 3
   },
   "file_extension": ".py",
   "mimetype": "text/x-python",
   "name": "python",
   "nbconvert_exporter": "python",
   "pygments_lexer": "ipython3",
   "version": "3.9.5"
  },
  "orig_nbformat": 4
 },
 "nbformat": 4,
 "nbformat_minor": 2
}
