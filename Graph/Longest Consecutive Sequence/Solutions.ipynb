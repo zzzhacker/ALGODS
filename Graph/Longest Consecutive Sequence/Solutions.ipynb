{
 "cells": [
  {
   "cell_type": "markdown",
   "metadata": {},
   "source": [
    "<div class=\"content__u3I1 question-content__JfgR\"><div><p>Given an unsorted array of integers <code>nums</code>, return <em>the length of the longest consecutive elements sequence.</em></p>\n",
    "\n",
    "<p>You must write an algorithm that runs in&nbsp;<code>O(n)</code>&nbsp;time.</p>\n",
    "\n",
    "<p>&nbsp;</p>\n",
    "<p><strong>Example 1:</strong></p>\n",
    "\n",
    "<pre><strong>Input:</strong> nums = [100,4,200,1,3,2]\n",
    "<strong>Output:</strong> 4\n",
    "<strong>Explanation:</strong> The longest consecutive elements sequence is <code>[1, 2, 3, 4]</code>. Therefore its length is 4.\n",
    "</pre>\n",
    "\n",
    "<p><strong>Example 2:</strong></p>\n",
    "\n",
    "<pre><strong>Input:</strong> nums = [0,3,7,2,5,8,4,6,0,1]\n",
    "<strong>Output:</strong> 9\n",
    "</pre>\n",
    "\n",
    "<p>&nbsp;</p>\n",
    "<p><strong>Constraints:</strong></p>\n",
    "\n",
    "<ul>\n",
    "\t<li><code>0 &lt;= nums.length &lt;= 10<sup>5</sup></code></li>\n",
    "\t<li><code>-10<sup>9</sup> &lt;= nums[i] &lt;= 10<sup>9</sup></code></li>\n",
    "</ul>\n",
    "</div></div>"
   ]
  },
  {
   "cell_type": "code",
   "execution_count": 26,
   "metadata": {},
   "outputs": [],
   "source": [
    "from typing import List\n",
    "class Solution:\n",
    "    def longestConsecutive(self, nums: List[int]):\n",
    "        parent = dict(zip(nums,nums))\n",
    "        rank = dict(zip(nums,[1]*len(nums)))\n",
    "        def find(n1):\n",
    "            res = n1\n",
    "            while res != parent[res]:\n",
    "                parent[res] = parent[parent[res]]\n",
    "                res = parent[res]\n",
    "            return res\n",
    "        \n",
    "        def union(n1,n2):\n",
    "            p1,p2 = find(n1),find(n2)\n",
    "            if p1!=p2:\n",
    "                parent[p1] = p2\n",
    "                rank[p2] += rank[p1]\n",
    "        \n",
    "        for num in nums:\n",
    "            if num-1 in parent:\n",
    "                union(num,num-1)\n",
    "            if num+1 in parent:\n",
    "                union(num,num+1)\n",
    "\n",
    "\n",
    "        return max(rank.values())"
   ]
  },
  {
   "cell_type": "code",
   "execution_count": 28,
   "metadata": {},
   "outputs": [
    {
     "data": {
      "text/plain": [
       "9"
      ]
     },
     "execution_count": 28,
     "metadata": {},
     "output_type": "execute_result"
    }
   ],
   "source": [
    "## hashset appeoach\n",
    "class Solution:\n",
    "    def longestConsecutive(self, nums: List[int]) -> int:\n",
    "        nums = set(nums)\n",
    "        ans = 0\n",
    "        for x in nums: \n",
    "            if x-1 not in nums: \n",
    "                xx = x + 1\n",
    "                while xx in nums: xx += 1\n",
    "                ans = max(ans, xx-x)\n",
    "        return ans "
   ]
  },
  {
   "cell_type": "code",
   "execution_count": null,
   "metadata": {},
   "outputs": [],
   "source": []
  },
  {
   "cell_type": "code",
   "execution_count": null,
   "metadata": {},
   "outputs": [],
   "source": []
  }
 ],
 "metadata": {
  "interpreter": {
   "hash": "916dbcbb3f70747c44a77c7bcd40155683ae19c65e1c03b4aa3499c5328201f1"
  },
  "kernelspec": {
   "display_name": "Python 3.8.10 64-bit",
   "language": "python",
   "name": "python3"
  },
  "language_info": {
   "codemirror_mode": {
    "name": "ipython",
    "version": 3
   },
   "file_extension": ".py",
   "mimetype": "text/x-python",
   "name": "python",
   "nbconvert_exporter": "python",
   "pygments_lexer": "ipython3",
   "version": "3.9.5"
  },
  "orig_nbformat": 4
 },
 "nbformat": 4,
 "nbformat_minor": 2
}
