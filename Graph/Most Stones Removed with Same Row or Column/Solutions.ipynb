{
 "cells": [
  {
   "cell_type": "code",
   "execution_count": 23,
   "metadata": {},
   "outputs": [],
   "source": [
    "from collections import defaultdict\n",
    "from typing import List\n",
    "class Solution:\n",
    "    def removeStones(self, stones: List[List[int]]) -> int:\n",
    "        connected_comp = {}\n",
    "        for i,j in stones:\n",
    "            connected_comp[i] = i\n",
    "            connected_comp[~j]  = ~j\n",
    "        def find(i):\n",
    "            while i != connected_comp[i]:\n",
    "                connected_comp[i] = find(connected_comp[i])\n",
    "                i = connected_comp[i]\n",
    "                \n",
    "            return connected_comp[i]\n",
    "\n",
    "        def union(i,j):\n",
    "            rooti = find(i)\n",
    "            rootj = find(j)\n",
    "            if rooti != rootj:\n",
    "                connected_comp[rooti] = rootj\n",
    "\n",
    "        for i,j in stones:\n",
    "            union(i,~j)\n",
    "            \n",
    "        \n",
    "        return len(stones)-len({find(i) for i in connected_comp.keys()})"
   ]
  },
  {
   "cell_type": "code",
   "execution_count": 24,
   "metadata": {},
   "outputs": [
    {
     "data": {
      "text/plain": [
       "5"
      ]
     },
     "execution_count": 24,
     "metadata": {},
     "output_type": "execute_result"
    }
   ],
   "source": [
    "Solution().removeStones([[0,0],[0,1],[1,0],[1,2],[2,1],[2,2]])"
   ]
  },
  {
   "cell_type": "code",
   "execution_count": null,
   "metadata": {},
   "outputs": [],
   "source": []
  }
 ],
 "metadata": {
  "kernelspec": {
   "display_name": "Python 3.9.6 64-bit",
   "language": "python",
   "name": "python3"
  },
  "language_info": {
   "codemirror_mode": {
    "name": "ipython",
    "version": 3
   },
   "file_extension": ".py",
   "mimetype": "text/x-python",
   "name": "python",
   "nbconvert_exporter": "python",
   "pygments_lexer": "ipython3",
   "version": "3.9.6"
  },
  "orig_nbformat": 4,
  "vscode": {
   "interpreter": {
    "hash": "31f2aee4e71d21fbe5cf8b01ff0e069b9275f58929596ceb00d14d90e3e16cd6"
   }
  }
 },
 "nbformat": 4,
 "nbformat_minor": 2
}
