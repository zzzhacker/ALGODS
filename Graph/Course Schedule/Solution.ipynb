{
 "cells": [
  {
   "cell_type": "markdown",
   "metadata": {},
   "source": [
    "<div><p>There are a total of <code>numCourses</code> courses you have to take, labeled from <code>0</code> to <code>numCourses - 1</code>. You are given an array <code>prerequisites</code> where <code>prerequisites[i] = [a<sub>i</sub>, b<sub>i</sub>]</code> indicates that you <strong>must</strong> take course <code>b<sub>i</sub></code> first if you want to take course <code>a<sub>i</sub></code>.</p>\n",
    "\n",
    "<ul>\n",
    "\t<li>For example, the pair <code>[0, 1]</code>, indicates that to take course <code>0</code> you have to first take course <code>1</code>.</li>\n",
    "</ul>\n",
    "\n",
    "<p>Return <code>true</code> if you can finish all courses. Otherwise, return <code>false</code>.</p>\n",
    "\n",
    "<p>&nbsp;</p>\n",
    "<p><strong>Example 1:</strong></p>\n",
    "\n",
    "<pre><strong>Input:</strong> numCourses = 2, prerequisites = [[1,0]]\n",
    "<strong>Output:</strong> true\n",
    "<strong>Explanation:</strong> There are a total of 2 courses to take. \n",
    "To take course 1 you should have finished course 0. So it is possible.\n",
    "</pre>\n",
    "\n",
    "<p><strong>Example 2:</strong></p>\n",
    "\n",
    "<pre><strong>Input:</strong> numCourses = 2, prerequisites = [[1,0],[0,1]]\n",
    "<strong>Output:</strong> false\n",
    "<strong>Explanation:</strong> There are a total of 2 courses to take. \n",
    "To take course 1 you should have finished course 0, and to take course 0 you should also have finished course 1. So it is impossible.\n",
    "</pre>\n",
    "\n",
    "<p>&nbsp;</p>\n",
    "<p><strong>Constraints:</strong></p>\n",
    "\n",
    "<ul>\n",
    "\t<li><code>1 &lt;= numCourses &lt;= 10<sup>5</sup></code></li>\n",
    "\t<li><code>0 &lt;= prerequisites.length &lt;= 5000</code></li>\n",
    "\t<li><code>prerequisites[i].length == 2</code></li>\n",
    "\t<li><code>0 &lt;= a<sub>i</sub>, b<sub>i</sub> &lt; numCourses</code></li>\n",
    "\t<li>All the pairs prerequisites[i] are <strong>unique</strong>.</li>\n",
    "</ul>\n",
    "</div>"
   ]
  },
  {
   "cell_type": "code",
   "execution_count": 35,
   "metadata": {},
   "outputs": [],
   "source": [
    "### Will fail when there is a seprate self-loop\n",
    "from typing import List\n",
    "from queue import Queue\n",
    "class Solution:\n",
    "    def canFinish(self, numCourses: int, prerequisites: List[List[int]]) -> bool:\n",
    "        graph = dict(zip(list(range(numCourses)),[[]]*numCourses))\n",
    "        indegree = [0]*numCourses\n",
    "        for course,prereq in prerequisites:\n",
    "            print(course,prereq)\n",
    "            if course in graph:\n",
    "                graph[prereq] = graph[prereq]+[course]\n",
    "            else:\n",
    "                graph[prereq] = [course]\n",
    "            indegree[course] += 1\n",
    "        print(graph)\n",
    "        print(indegree)\n",
    "        q = Queue()\n",
    "        visited = set()\n",
    "        for course,remaining_indegree in enumerate(indegree):\n",
    "            if remaining_indegree == 0:\n",
    "                q.put(course)\n",
    "                visited.add(course)\n",
    "        state = False\n",
    "        while not q.empty():\n",
    "            state = True\n",
    "            course = q.get()\n",
    "            for prereq in graph[course]:\n",
    "                if prereq in visited:\n",
    "                    return False\n",
    "                indegree[prereq] -= 1\n",
    "                if indegree[prereq] ==0:\n",
    "                    visited.add(prereq)\n",
    "                    q.put(prereq)\n",
    "        return state"
   ]
  },
  {
   "cell_type": "code",
   "execution_count": 37,
   "metadata": {},
   "outputs": [
    {
     "name": "stdout",
     "output_type": "stream",
     "text": [
      "1 0\n",
      "0 1\n",
      "{0: [1], 1: [0]}\n",
      "[1, 1]\n"
     ]
    },
    {
     "data": {
      "text/plain": [
       "False"
      ]
     },
     "execution_count": 37,
     "metadata": {},
     "output_type": "execute_result"
    }
   ],
   "source": [
    "Solution().canFinish(2,[[1,0],[0,1]])"
   ]
  },
  {
   "cell_type": "code",
   "execution_count": 1,
   "metadata": {},
   "outputs": [],
   "source": [
    "from typing import List\n",
    "from queue import LifoQueue\n",
    "class Solution:\n",
    "    def canFinish(self, numCourses: int, prerequisites: List[List[int]]) -> bool:\n",
    "        graph = dict(zip(list(range(numCourses)),[[]]*numCourses))\n",
    "        for course,prereq in prerequisites:\n",
    "            print(course,prereq)\n",
    "            if course in graph:\n",
    "                graph[prereq] = graph[prereq]+[course]\n",
    "            else:\n",
    "                graph[prereq] = [course]\n",
    "        print(graph)\n",
    "        visited = [False]*numCourses\n",
    "        instack = set()\n",
    "        def DFS(s):\n",
    "            state = True\n",
    "            if visited[s] ==False:\n",
    "                instack.add(s)\n",
    "                visited[s]=True\n",
    "                for neighbour in graph[s]:\n",
    "                    if neighbour in instack:\n",
    "                        return False\n",
    "                    if visited[neighbour] == False:\n",
    "                        state = DFS(neighbour) and state\n",
    "                instack.remove(s)\n",
    "            return state\n",
    "        state = True\n",
    "        for i in range(numCourses):\n",
    "            state = DFS(i)*state\n",
    "        return state\n",
    "            \n",
    "            \n",
    "                    "
   ]
  },
  {
   "cell_type": "code",
   "execution_count": 68,
   "metadata": {},
   "outputs": [
    {
     "name": "stdout",
     "output_type": "stream",
     "text": [
      "0 10\n",
      "3 18\n",
      "5 5\n",
      "6 11\n",
      "11 14\n",
      "13 1\n",
      "15 1\n",
      "17 4\n",
      "{0: [], 1: [13, 15], 2: [], 3: [], 4: [17], 5: [5], 6: [], 7: [], 8: [], 9: [], 10: [0], 11: [6], 12: [], 13: [], 14: [11], 15: [], 16: [], 17: [], 18: [3], 19: []}\n"
     ]
    },
    {
     "data": {
      "text/plain": [
       "0"
      ]
     },
     "execution_count": 68,
     "metadata": {},
     "output_type": "execute_result"
    }
   ],
   "source": [
    "Solution().canFinish(20,[[0,10],[3,18],[5,5],[6,11],[11,14],[13,1],[15,1],[17,4]])"
   ]
  },
  {
   "cell_type": "code",
   "execution_count": null,
   "metadata": {},
   "outputs": [],
   "source": []
  }
 ],
 "metadata": {
  "interpreter": {
   "hash": "748a24a7e12f043e255937764f69584c10b2b974a22ed84d52db2de81e21ea53"
  },
  "kernelspec": {
   "display_name": "Python 3.9.5 64-bit ('base': conda)",
   "name": "python3"
  },
  "language_info": {
   "codemirror_mode": {
    "name": "ipython",
    "version": 3
   },
   "file_extension": ".py",
   "mimetype": "text/x-python",
   "name": "python",
   "nbconvert_exporter": "python",
   "pygments_lexer": "ipython3",
   "version": "3.9.5"
  },
  "orig_nbformat": 4
 },
 "nbformat": 4,
 "nbformat_minor": 2
}
