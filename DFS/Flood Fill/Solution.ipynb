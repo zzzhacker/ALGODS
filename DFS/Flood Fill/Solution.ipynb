{
 "cells": [
  {
   "cell_type": "markdown",
   "metadata": {},
   "source": [
    "<div class=\"content__u3I1 question-content__JfgR\"><div><p>An image is represented by an <code>m x n</code> integer grid <code>image</code> where <code>image[i][j]</code> represents the pixel value of the image.</p>\n",
    "\n",
    "<p>You are also given three integers <code>sr</code>, <code>sc</code>, and <code>color</code>. You should perform a <strong>flood fill</strong> on the image starting from the pixel <code>image[sr][sc]</code>.</p>\n",
    "\n",
    "<p>To perform a <strong>flood fill</strong>, consider the starting pixel, plus any pixels connected <strong>4-directionally</strong> to the starting pixel of the same color as the starting pixel, plus any pixels connected <strong>4-directionally</strong> to those pixels (also with the same color), and so on. Replace the color of all of the aforementioned pixels with <code>color</code>.</p>\n",
    "\n",
    "<p>Return <em>the modified image after performing the flood fill</em>.</p>\n",
    "\n",
    "<p>&nbsp;</p>\n",
    "<p><strong>Example 1:</strong></p>\n",
    "<img alt=\"\" src=\"https://assets.leetcode.com/uploads/2021/06/01/flood1-grid.jpg\" style=\"width: 613px; height: 253px;\">\n",
    "<pre><strong>Input:</strong> image = [[1,1,1],[1,1,0],[1,0,1]], sr = 1, sc = 1, color = 2\n",
    "<strong>Output:</strong> [[2,2,2],[2,2,0],[2,0,1]]\n",
    "<strong>Explanation:</strong> From the center of the image with position (sr, sc) = (1, 1) (i.e., the red pixel), all pixels connected by a path of the same color as the starting pixel (i.e., the blue pixels) are colored with the new color.\n",
    "Note the bottom corner is not colored 2, because it is not 4-directionally connected to the starting pixel.\n",
    "</pre>\n",
    "\n",
    "<p><strong>Example 2:</strong></p>\n",
    "\n",
    "<pre><strong>Input:</strong> image = [[0,0,0],[0,0,0]], sr = 0, sc = 0, color = 0\n",
    "<strong>Output:</strong> [[0,0,0],[0,0,0]]\n",
    "<strong>Explanation:</strong> The starting pixel is already colored 0, so no changes are made to the image.\n",
    "</pre>\n",
    "\n",
    "<p>&nbsp;</p>\n",
    "<p><strong>Constraints:</strong></p>\n",
    "\n",
    "<ul>\n",
    "\t<li><code>m == image.length</code></li>\n",
    "\t<li><code>n == image[i].length</code></li>\n",
    "\t<li><code>1 &lt;= m, n &lt;= 50</code></li>\n",
    "\t<li><code>0 &lt;= image[i][j], color &lt; 2<sup>16</sup></code></li>\n",
    "\t<li><code>0 &lt;= sr &lt; m</code></li>\n",
    "\t<li><code>0 &lt;= sc &lt; n</code></li>\n",
    "</ul>\n",
    "</div></div>"
   ]
  },
  {
   "cell_type": "code",
   "execution_count": 2,
   "metadata": {},
   "outputs": [],
   "source": [
    "# ßusing template\n",
    "from typing import List\n",
    "class Solution:\n",
    "    def floodFill(self, image: List[List[int]], sr: int, sc: int, color: int) -> List[List[int]]:\n",
    "        \n",
    "        start_color = image[sr][sc]\n",
    "        visited = [[0]*len(image[0]) for _ in image]\n",
    "        def fill(x,y):\n",
    "            #check position bounds \n",
    "            if 0<=x<len(image) and 0<=y<len(image[0]):\n",
    "                # check color\n",
    "                if image[x][y] != start_color: return\n",
    "                if visited[x][y] == 1: return\n",
    "                #check visited\n",
    "                visited[x][y] = 1\n",
    "                image[x][y] = color\n",
    "                fill(x+1,y)\n",
    "                fill(x,y+1)\n",
    "                fill(x,y-1)\n",
    "                fill(x-1,y)\n",
    "                return\n",
    "            \n",
    "        fill(sr,sc)\n",
    "        return image"
   ]
  },
  {
   "cell_type": "code",
   "execution_count": null,
   "metadata": {},
   "outputs": [],
   "source": []
  }
 ],
 "metadata": {
  "interpreter": {
   "hash": "31f2aee4e71d21fbe5cf8b01ff0e069b9275f58929596ceb00d14d90e3e16cd6"
  },
  "kernelspec": {
   "display_name": "Python 3.8.9 64-bit",
   "language": "python",
   "name": "python3"
  },
  "language_info": {
   "codemirror_mode": {
    "name": "ipython",
    "version": 3
   },
   "file_extension": ".py",
   "mimetype": "text/x-python",
   "name": "python",
   "nbconvert_exporter": "python",
   "pygments_lexer": "ipython3",
   "version": "3.8.9"
  },
  "orig_nbformat": 4
 },
 "nbformat": 4,
 "nbformat_minor": 2
}
