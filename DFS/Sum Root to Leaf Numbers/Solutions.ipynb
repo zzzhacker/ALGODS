{
 "cells": [
  {
   "cell_type": "markdown",
   "metadata": {},
   "source": [
    "<div class=\"content__u3I1 question-content__JfgR\"><div><p>You are given the <code>root</code> of a binary tree containing digits from <code>0</code> to <code>9</code> only.</p>\n",
    "\n",
    "<p>Each root-to-leaf path in the tree represents a number.</p>\n",
    "\n",
    "<ul>\n",
    "\t<li>For example, the root-to-leaf path <code>1 -&gt; 2 -&gt; 3</code> represents the number <code>123</code>.</li>\n",
    "</ul>\n",
    "\n",
    "<p>Return <em>the total sum of all root-to-leaf numbers</em>. Test cases are generated so that the answer will fit in a <strong>32-bit</strong> integer.</p>\n",
    "\n",
    "<p>A <strong>leaf</strong> node is a node with no children.</p>\n",
    "\n",
    "<p>&nbsp;</p>\n",
    "<p><strong>Example 1:</strong></p>\n",
    "<img alt=\"\" src=\"https://assets.leetcode.com/uploads/2021/02/19/num1tree.jpg\" style=\"width: 212px; height: 182px;\">\n",
    "<pre><strong>Input:</strong> root = [1,2,3]\n",
    "<strong>Output:</strong> 25\n",
    "<strong>Explanation:</strong>\n",
    "The root-to-leaf path <code>1-&gt;2</code> represents the number <code>12</code>.\n",
    "The root-to-leaf path <code>1-&gt;3</code> represents the number <code>13</code>.\n",
    "Therefore, sum = 12 + 13 = <code>25</code>.\n",
    "</pre>\n",
    "\n",
    "<p><strong>Example 2:</strong></p>\n",
    "<img alt=\"\" src=\"https://assets.leetcode.com/uploads/2021/02/19/num2tree.jpg\" style=\"width: 292px; height: 302px;\">\n",
    "<pre><strong>Input:</strong> root = [4,9,0,5,1]\n",
    "<strong>Output:</strong> 1026\n",
    "<strong>Explanation:</strong>\n",
    "The root-to-leaf path <code>4-&gt;9-&gt;5</code> represents the number 495.\n",
    "The root-to-leaf path <code>4-&gt;9-&gt;1</code> represents the number 491.\n",
    "The root-to-leaf path <code>4-&gt;0</code> represents the number 40.\n",
    "Therefore, sum = 495 + 491 + 40 = <code>1026</code>.\n",
    "</pre>\n",
    "\n",
    "<p>&nbsp;</p>\n",
    "<p><strong>Constraints:</strong></p>\n",
    "\n",
    "<ul>\n",
    "\t<li>The number of nodes in the tree is in the range <code>[1, 1000]</code>.</li>\n",
    "\t<li><code>0 &lt;= Node.val &lt;= 9</code></li>\n",
    "\t<li>The depth of the tree will not exceed <code>10</code>.</li>\n",
    "</ul>\n",
    "</div></div>"
   ]
  },
  {
   "cell_type": "code",
   "execution_count": 1,
   "metadata": {},
   "outputs": [],
   "source": [
    "from typing import Optional\n",
    "# Definition for a binary tree node.\n",
    "class TreeNode:\n",
    "    def __init__(self, val=0, left=None, right=None):\n",
    "        self.val = val\n",
    "        self.left = left\n",
    "        self.right = right\n",
    "class Solution:\n",
    "    def sumNumbers(self, root: Optional[TreeNode]) -> int:\n",
    "        total = [0]\n",
    "        def totalSum(root,curr_num):\n",
    "            if root is None:\n",
    "                return\n",
    "            curr_num = curr_num*10+root.val\n",
    "            if root.left is None and root.right is None:\n",
    "                total[0] += curr_num\n",
    "            else:\n",
    "                totalSum(root.left,curr_num)\n",
    "                totalSum(root.right,curr_num)\n",
    "            return\n",
    "        totalSum(root,0)\n",
    "        return total[0]"
   ]
  }
 ],
 "metadata": {
  "interpreter": {
   "hash": "31f2aee4e71d21fbe5cf8b01ff0e069b9275f58929596ceb00d14d90e3e16cd6"
  },
  "kernelspec": {
   "display_name": "Python 3.8.9 64-bit",
   "language": "python",
   "name": "python3"
  },
  "language_info": {
   "codemirror_mode": {
    "name": "ipython",
    "version": 3
   },
   "file_extension": ".py",
   "mimetype": "text/x-python",
   "name": "python",
   "nbconvert_exporter": "python",
   "pygments_lexer": "ipython3",
   "version": "3.8.9"
  },
  "orig_nbformat": 4
 },
 "nbformat": 4,
 "nbformat_minor": 2
}
