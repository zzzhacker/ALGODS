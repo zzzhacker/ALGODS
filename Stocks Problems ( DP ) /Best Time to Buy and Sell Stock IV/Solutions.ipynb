{
 "cells": [
  {
   "cell_type": "markdown",
   "metadata": {},
   "source": [
    "<div class=\"content__u3I1 question-content__JfgR\"><div><p>You are given an integer array <code>prices</code> where <code>prices[i]</code> is the price of a given stock on the <code>i<sup>th</sup></code> day, and an integer <code>k</code>.</p>\n",
    "\n",
    "<p>Find the maximum profit you can achieve. You may complete at most <code>k</code> transactions.</p>\n",
    "\n",
    "<p><strong>Note:</strong> You may not engage in multiple transactions simultaneously (i.e., you must sell the stock before you buy again).</p>\n",
    "\n",
    "<p>&nbsp;</p>\n",
    "<p><strong>Example 1:</strong></p>\n",
    "\n",
    "<pre><strong>Input:</strong> k = 2, prices = [2,4,1]\n",
    "<strong>Output:</strong> 2\n",
    "<strong>Explanation:</strong> Buy on day 1 (price = 2) and sell on day 2 (price = 4), profit = 4-2 = 2.\n",
    "</pre>\n",
    "\n",
    "<p><strong>Example 2:</strong></p>\n",
    "\n",
    "<pre><strong>Input:</strong> k = 2, prices = [3,2,6,5,0,3]\n",
    "<strong>Output:</strong> 7\n",
    "<strong>Explanation:</strong> Buy on day 2 (price = 2) and sell on day 3 (price = 6), profit = 6-2 = 4. Then buy on day 5 (price = 0) and sell on day 6 (price = 3), profit = 3-0 = 3.\n",
    "</pre>\n",
    "\n",
    "<p>&nbsp;</p>\n",
    "<p><strong>Constraints:</strong></p>\n",
    "\n",
    "<ul>\n",
    "\t<li><code>0 &lt;= k &lt;= 100</code></li>\n",
    "\t<li><code>0 &lt;= prices.length &lt;= 1000</code></li>\n",
    "\t<li><code>0 &lt;= prices[i] &lt;= 1000</code></li>\n",
    "</ul>\n",
    "</div></div>"
   ]
  },
  {
   "cell_type": "code",
   "execution_count": null,
   "metadata": {},
   "outputs": [],
   "source": [
    "import numpy as np\n",
    "class Solution:\n",
    "    def maxProfit(self, k: int, prices: List[int]) -> int:\n",
    "        dp = np.zeros((len(prices),k+1,2))\n",
    "        for i in range(len(prices)):\n",
    "            for j in range(k,0,-1):\n",
    "                if i==0:\n",
    "                    dp[i,j,0] = max(0,float('-inf')+prices[i])\n",
    "                    dp[i,j,1] = max(float('-inf'), 0 - prices[i])\n",
    "                else:\n",
    "                    dp[i,j,0] = max(dp[i-1,j,0],dp[i-1,j,1]+prices[i])\n",
    "                    dp[i,j,1] = max(dp[i-1,j,1],dp[i-1,j-1,0]-prices[i])\n",
    "        return int(dp[len(prices)-1,k,0]) if prices else 0\n",
    "    "
   ]
  },
  {
   "cell_type": "code",
   "execution_count": null,
   "metadata": {},
   "outputs": [],
   "source": []
  }
 ],
 "metadata": {
  "interpreter": {
   "hash": "31f2aee4e71d21fbe5cf8b01ff0e069b9275f58929596ceb00d14d90e3e16cd6"
  },
  "kernelspec": {
   "display_name": "Python 3.8.9 64-bit",
   "language": "python",
   "name": "python3"
  },
  "language_info": {
   "codemirror_mode": {
    "name": "ipython",
    "version": 3
   },
   "file_extension": ".py",
   "mimetype": "text/x-python",
   "name": "python",
   "nbconvert_exporter": "python",
   "pygments_lexer": "ipython3",
   "version": "3.8.9"
  },
  "orig_nbformat": 4
 },
 "nbformat": 4,
 "nbformat_minor": 2
}
