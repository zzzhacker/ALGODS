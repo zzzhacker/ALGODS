{
 "cells": [
  {
   "cell_type": "markdown",
   "metadata": {},
   "source": [
    "<div class=\"content__u3I1 question-content__JfgR\"><div><p>You are given an integer array <code>cards</code> where <code>cards[i]</code> represents the <strong>value</strong> of the <code>i<sup>th</sup></code> card. A pair of cards are <strong>matching</strong> if the cards have the <strong>same</strong> value.</p>\n",
    "\n",
    "<p>Return<em> the <strong>minimum</strong> number of <strong>consecutive</strong> cards you have to pick up to have a pair of <strong>matching</strong> cards among the picked cards.</em> If it is impossible to have matching cards, return <code>-1</code>.</p>\n",
    "\n",
    "<p>&nbsp;</p>\n",
    "<p><strong>Example 1:</strong></p>\n",
    "\n",
    "<pre><strong>Input:</strong> cards = [3,4,2,3,4,7]\n",
    "<strong>Output:</strong> 4\n",
    "<strong>Explanation:</strong> We can pick up the cards [3,4,2,3] which contain a matching pair of cards with value 3. Note that picking up the cards [4,2,3,4] is also optimal.\n",
    "</pre>\n",
    "\n",
    "<p><strong>Example 2:</strong></p>\n",
    "\n",
    "<pre><strong>Input:</strong> cards = [1,0,5,3]\n",
    "<strong>Output:</strong> -1\n",
    "<strong>Explanation:</strong> There is no way to pick up a set of consecutive cards that contain a pair of matching cards.\n",
    "</pre>\n",
    "\n",
    "<p>&nbsp;</p>\n",
    "<p><strong>Constraints:</strong></p>\n",
    "\n",
    "<ul>\n",
    "\t<li><code>1 &lt;= cards.length &lt;= 10<sup>5</sup></code></li>\n",
    "\t<li><code>0 &lt;= cards[i] &lt;= 10<sup>6</sup></code></li>\n",
    "</ul>\n",
    "</div></div>"
   ]
  },
  {
   "cell_type": "code",
   "execution_count": null,
   "metadata": {},
   "outputs": [],
   "source": [
    "from typing import List\n",
    "class Solution:\n",
    "    def minimumCardPickup(self, cards: List[int]) -> int:\n",
    "        last_card = {}\n",
    "        ans = len(cards)+1\n",
    "        for i in range(len(cards)):\n",
    "            if cards[i] in last_card: \n",
    "                ans = min(ans,i-last_card[cards[i]]+1)\n",
    "                last_card[cards[i]] = i\n",
    "            else:\n",
    "                last_card[cards[i]] = i\n",
    "        return ans if ans<len(cards)+1 else -1"
   ]
  }
 ],
 "metadata": {
  "language_info": {
   "name": "python"
  },
  "orig_nbformat": 4
 },
 "nbformat": 4,
 "nbformat_minor": 2
}
