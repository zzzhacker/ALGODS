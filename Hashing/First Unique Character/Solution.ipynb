{
 "cells": [
  {
   "cell_type": "code",
   "execution_count": 15,
   "source": [
    "class Solution:\n",
    "    def firstUniqChar(self, s: str) -> int:\n",
    "        s_track = {}\n",
    "        for i in range(len(s)):\n",
    "            if s[i] in s_track:\n",
    "                s_track[s[i]]=(True,i)\n",
    "            else:\n",
    "                s_track[s[i]]=(False,i)\n",
    "        for k,v in s_track.items():\n",
    "            if not(v[0]):\n",
    "                return v[1]\n",
    "        return -1"
   ],
   "outputs": [],
   "metadata": {}
  },
  {
   "cell_type": "code",
   "execution_count": 16,
   "source": [
    "Solution().firstUniqChar(\"leetcode\")"
   ],
   "outputs": [
    {
     "output_type": "execute_result",
     "data": {
      "text/plain": [
       "0"
      ]
     },
     "metadata": {},
     "execution_count": 16
    }
   ],
   "metadata": {}
  }
 ],
 "metadata": {
  "orig_nbformat": 4,
  "language_info": {
   "name": "python",
   "version": "3.9.6",
   "mimetype": "text/x-python",
   "codemirror_mode": {
    "name": "ipython",
    "version": 3
   },
   "pygments_lexer": "ipython3",
   "nbconvert_exporter": "python",
   "file_extension": ".py"
  },
  "kernelspec": {
   "name": "python3",
   "display_name": "Python 3.9.6 64-bit ('cse5360': conda)"
  },
  "interpreter": {
   "hash": "2a27f5d032ecabe3e8edb5dbd95ded1c93948480b19dc493970dda0c97996308"
  }
 },
 "nbformat": 4,
 "nbformat_minor": 2
}