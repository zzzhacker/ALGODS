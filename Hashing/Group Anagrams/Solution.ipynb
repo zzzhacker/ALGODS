{
 "cells": [
  {
   "cell_type": "markdown",
   "source": [
    "<div><p>Given an array of strings <code>strs</code>, group <strong>the anagrams</strong> together. You can return the answer in <strong>any order</strong>.</p>\n",
    "\n",
    "<p>An <strong>Anagram</strong> is a word or phrase formed by rearranging the letters of a different word or phrase, typically using all the original letters exactly once.</p>\n",
    "\n",
    "<p>&nbsp;</p>\n",
    "<p><strong>Example 1:</strong></p>\n",
    "<pre><strong>Input:</strong> strs = [\"eat\",\"tea\",\"tan\",\"ate\",\"nat\",\"bat\"]\n",
    "<strong>Output:</strong> [[\"bat\"],[\"nat\",\"tan\"],[\"ate\",\"eat\",\"tea\"]]\n",
    "</pre><p><strong>Example 2:</strong></p>\n",
    "<pre><strong>Input:</strong> strs = [\"\"]\n",
    "<strong>Output:</strong> [[\"\"]]\n",
    "</pre><p><strong>Example 3:</strong></p>\n",
    "<pre><strong>Input:</strong> strs = [\"a\"]\n",
    "<strong>Output:</strong> [[\"a\"]]\n",
    "</pre>\n",
    "<p>&nbsp;</p>\n",
    "<p><strong>Constraints:</strong></p>\n",
    "\n",
    "<ul>\n",
    "\t<li><code>1 &lt;= strs.length &lt;= 10<sup>4</sup></code></li>\n",
    "\t<li><code>0 &lt;= strs[i].length &lt;= 100</code></li>\n",
    "\t<li><code>strs[i]</code> consists of lowercase English letters.</li>\n",
    "</ul>\n",
    "</div>"
   ],
   "metadata": {}
  },
  {
   "cell_type": "code",
   "execution_count": 6,
   "source": [
    "class Solution(object):\n",
    "    def groupAnagrams(self, strs):\n",
    "        \"\"\"\n",
    "        :type strs: List[str]\n",
    "        :rtype: List[List[str]]\n",
    "        \"\"\"\n",
    "        root_strs = {}\n",
    "        final = []\n",
    "        for string in strs:\n",
    "            root_str = ''.join(sorted(string))\n",
    "            if root_str in root_strs:\n",
    "                root_strs[root_str].append(string)\n",
    "            else:\n",
    "                root_strs[root_str] = [string]\n",
    "        for value in root_strs.values():\n",
    "            final.append(value)\n",
    "        return final"
   ],
   "outputs": [],
   "metadata": {}
  },
  {
   "cell_type": "code",
   "execution_count": 9,
   "source": [
    "Solution().groupAnagrams([\"a\"])"
   ],
   "outputs": [
    {
     "output_type": "execute_result",
     "data": {
      "text/plain": [
       "[['a']]"
      ]
     },
     "metadata": {},
     "execution_count": 9
    }
   ],
   "metadata": {}
  },
  {
   "cell_type": "code",
   "execution_count": null,
   "source": [],
   "outputs": [],
   "metadata": {}
  }
 ],
 "metadata": {
  "orig_nbformat": 4,
  "language_info": {
   "name": "python",
   "version": "3.9.6",
   "mimetype": "text/x-python",
   "codemirror_mode": {
    "name": "ipython",
    "version": 3
   },
   "pygments_lexer": "ipython3",
   "nbconvert_exporter": "python",
   "file_extension": ".py"
  },
  "kernelspec": {
   "name": "python3",
   "display_name": "Python 3.9.6 64-bit ('cse5360': conda)"
  },
  "interpreter": {
   "hash": "2a27f5d032ecabe3e8edb5dbd95ded1c93948480b19dc493970dda0c97996308"
  }
 },
 "nbformat": 4,
 "nbformat_minor": 2
}