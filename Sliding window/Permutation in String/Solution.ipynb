{
 "cells": [
  {
   "cell_type": "markdown",
   "metadata": {},
   "source": [
    "<div class=\"content__u3I1 question-content__JfgR\"><div><p>Given two strings <code>s1</code> and <code>s2</code>, return <code>true</code><em> if </em><code>s2</code><em> contains a permutation of </em><code>s1</code><em>, or </em><code>false</code><em> otherwise</em>.</p>\n",
    "\n",
    "<p>In other words, return <code>true</code> if one of <code>s1</code>'s permutations is the substring of <code>s2</code>.</p>\n",
    "\n",
    "<p>&nbsp;</p>\n",
    "<p><strong>Example 1:</strong></p>\n",
    "\n",
    "<pre><strong>Input:</strong> s1 = \"ab\", s2 = \"eidbaooo\"\n",
    "<strong>Output:</strong> true\n",
    "<strong>Explanation:</strong> s2 contains one permutation of s1 (\"ba\").\n",
    "</pre>\n",
    "\n",
    "<p><strong>Example 2:</strong></p>\n",
    "\n",
    "<pre><strong>Input:</strong> s1 = \"ab\", s2 = \"eidboaoo\"\n",
    "<strong>Output:</strong> false\n",
    "</pre>\n",
    "\n",
    "<p>&nbsp;</p>\n",
    "<p><strong>Constraints:</strong></p>\n",
    "\n",
    "<ul>\n",
    "\t<li><code>1 &lt;= s1.length, s2.length &lt;= 10<sup>4</sup></code></li>\n",
    "\t<li><code>s1</code> and <code>s2</code> consist of lowercase English letters.</li>\n",
    "</ul>\n",
    "</div></div>"
   ]
  },
  {
   "cell_type": "code",
   "execution_count": 1,
   "metadata": {},
   "outputs": [],
   "source": [
    "from collections import Counter,defaultdict\n",
    "class Solution:\n",
    "    def checkInclusion(self, s1: str, s2: str) -> bool:\n",
    "        l=r=match=0\n",
    "        target_dict = Counter(s1)\n",
    "        word_dict = defaultdict(int)\n",
    "        while r<len(s2):\n",
    "            ch_r = s2[r]\n",
    "            r += 1\n",
    "            if ch_r in target_dict: \n",
    "                word_dict[ch_r] += 1\n",
    "                if word_dict[ch_r] == target_dict[ch_r]: match+=1\n",
    "            while(match == len(target_dict)):\n",
    "                if (r-l==len(s1)):\n",
    "                    return True\n",
    "                ch_l = s2[l]\n",
    "                l += 1\n",
    "                if ch_l in target_dict: \n",
    "                    word_dict[ch_l] -= 1\n",
    "                    if word_dict[ch_l] < target_dict[ch_l]: match -= 1\n",
    "                    \n",
    "        return False\n",
    "            "
   ]
  }
 ],
 "metadata": {
  "kernelspec": {
   "display_name": "Python 3.8.9 64-bit",
   "language": "python",
   "name": "python3"
  },
  "language_info": {
   "codemirror_mode": {
    "name": "ipython",
    "version": 3
   },
   "file_extension": ".py",
   "mimetype": "text/x-python",
   "name": "python",
   "nbconvert_exporter": "python",
   "pygments_lexer": "ipython3",
   "version": "3.8.9"
  },
  "orig_nbformat": 4,
  "vscode": {
   "interpreter": {
    "hash": "31f2aee4e71d21fbe5cf8b01ff0e069b9275f58929596ceb00d14d90e3e16cd6"
   }
  }
 },
 "nbformat": 4,
 "nbformat_minor": 2
}
