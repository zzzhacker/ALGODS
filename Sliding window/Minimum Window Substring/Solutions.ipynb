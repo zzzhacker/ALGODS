{
 "cells": [
  {
   "cell_type": "markdown",
   "metadata": {},
   "source": [
    "<div class=\"content__u3I1 question-content__JfgR\"><div><p>Given two strings <code>s</code> and <code>t</code> of lengths <code>m</code> and <code>n</code> respectively, return <em>the <strong>minimum window substring</strong> of </em><code>s</code><em> such that every character in </em><code>t</code><em> (<strong>including duplicates</strong>) is included in the window. If there is no such substring</em><em>, return the empty string </em><code>\"\"</code><em>.</em></p>\n",
    "\n",
    "<p>The testcases will be generated such that the answer is <strong>unique</strong>.</p>\n",
    "\n",
    "<p>A <strong>substring</strong> is a contiguous sequence of characters within the string.</p>\n",
    "\n",
    "<p>&nbsp;</p>\n",
    "<p><strong>Example 1:</strong></p>\n",
    "\n",
    "<pre><strong>Input:</strong> s = \"ADOBECODEBANC\", t = \"ABC\"\n",
    "<strong>Output:</strong> \"BANC\"\n",
    "<strong>Explanation:</strong> The minimum window substring \"BANC\" includes 'A', 'B', and 'C' from string t.\n",
    "</pre>\n",
    "\n",
    "<p><strong>Example 2:</strong></p>\n",
    "\n",
    "<pre><strong>Input:</strong> s = \"a\", t = \"a\"\n",
    "<strong>Output:</strong> \"a\"\n",
    "<strong>Explanation:</strong> The entire string s is the minimum window.\n",
    "</pre>\n",
    "\n",
    "<p><strong>Example 3:</strong></p>\n",
    "\n",
    "<pre><strong>Input:</strong> s = \"a\", t = \"aa\"\n",
    "<strong>Output:</strong> \"\"\n",
    "<strong>Explanation:</strong> Both 'a's from t must be included in the window.\n",
    "Since the largest window of s only has one 'a', return empty string.\n",
    "</pre>\n",
    "\n",
    "<p>&nbsp;</p>\n",
    "<p><strong>Constraints:</strong></p>\n",
    "\n",
    "<ul>\n",
    "\t<li><code>m == s.length</code></li>\n",
    "\t<li><code>n == t.length</code></li>\n",
    "\t<li><code>1 &lt;= m, n&nbsp;&lt;= 10<sup>5</sup></code></li>\n",
    "\t<li><code>s</code> and <code>t</code> consist of uppercase and lowercase English letters.</li>\n",
    "</ul>\n",
    "\n",
    "<p>&nbsp;</p>\n",
    "<strong>Follow up:</strong> Could you find an algorithm that runs in <code>O(m + n)</code> time?</div></div>"
   ]
  },
  {
   "cell_type": "code",
   "execution_count": 1,
   "metadata": {},
   "outputs": [],
   "source": [
    "class Solution:\n",
    "    def minWindow(self, s: str, t: str) -> str:\n",
    "        t_dict = {}\n",
    "        c_dict = {}\n",
    "        min_window = len(s)+1\n",
    "        ans = \"\"\n",
    "        for letter in t:\n",
    "            t_dict[letter]  = t_dict.get(letter,0)+1\n",
    "     \n",
    "        def dict_compare(t_dict,c_dict):\n",
    "            for letter in t_dict.keys():\n",
    "                if c_dict.get(letter,0) < t_dict[letter]:\n",
    "                    return False\n",
    "            return True\n",
    "        \n",
    "        l = 0\n",
    "        r = 0\n",
    "        for r in range(len(s)):\n",
    "            c_dict[s[r]] = c_dict.get(s[r],0)+1\n",
    "            while dict_compare(t_dict,c_dict):\n",
    "                if r-l+1 < min_window:\n",
    "                    ans = s[l:r+1]\n",
    "                    min_window = r-l+1\n",
    "                c_dict[s[l]] -= 1\n",
    "                l += 1\n",
    "            r += 1\n",
    "        \n",
    "        return ans\n",
    "                "
   ]
  },
  {
   "cell_type": "code",
   "execution_count": 29,
   "metadata": {},
   "outputs": [],
   "source": [
    "\n",
    "## template solution\n",
    "from collections import Counter\n",
    "class Solution():\n",
    "    def minWindow(self, s: str, t: str) -> str:\n",
    "        t_dict = Counter(t)\n",
    "        w_dict = Counter()\n",
    "        r,l,target,min_len,ans = 0,0,0,len(s)+1,\"\"\n",
    "        while(r<len(s)):\n",
    "            ch_r = s[r]\n",
    "            w_dict[ch_r] += 1\n",
    "            if w_dict[ch_r] == t_dict[ch_r]:\n",
    "                target += 1\n",
    "            r += 1\n",
    "            while(target == len(t_dict)):\n",
    "                if r-l<min_len:\n",
    "                    min_len = r-l\n",
    "                    ans = s[l:r]\n",
    "                ch_l = s[l]\n",
    "                w_dict[ch_l] -= 1\n",
    "                if t_dict[ch_l]>w_dict[ch_l]:\n",
    "                    target -= 1\n",
    "                l +=1\n",
    "            \n",
    "        return ans"
   ]
  },
  {
   "cell_type": "code",
   "execution_count": 28,
   "metadata": {},
   "outputs": [
    {
     "data": {
      "text/plain": [
       "'BANC'"
      ]
     },
     "execution_count": 28,
     "metadata": {},
     "output_type": "execute_result"
    }
   ],
   "source": [
    "Solution().minWindow(\"ADOBECODEBANC\",\"ABC\")"
   ]
  },
  {
   "cell_type": "code",
   "execution_count": null,
   "metadata": {},
   "outputs": [],
   "source": []
  }
 ],
 "metadata": {
  "interpreter": {
   "hash": "2ad565f1b5e7dbf9f0330bb692af7394eacf839d42e6c67731ff37b5e1249471"
  },
  "kernelspec": {
   "display_name": "Python 3.9.5 64-bit ('base': conda)",
   "language": "python",
   "name": "python3"
  },
  "language_info": {
   "codemirror_mode": {
    "name": "ipython",
    "version": 3
   },
   "file_extension": ".py",
   "mimetype": "text/x-python",
   "name": "python",
   "nbconvert_exporter": "python",
   "pygments_lexer": "ipython3",
   "version": "3.9.5"
  },
  "orig_nbformat": 4
 },
 "nbformat": 4,
 "nbformat_minor": 2
}
