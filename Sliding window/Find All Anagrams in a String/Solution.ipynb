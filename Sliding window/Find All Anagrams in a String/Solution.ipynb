{
 "cells": [
  {
   "cell_type": "markdown",
   "metadata": {},
   "source": [
    "<div class=\"content__u3I1 question-content__JfgR\"><div><p>Given two strings <code>s</code> and <code>p</code>, return <em>an array of all the start indices of </em><code>p</code><em>'s anagrams in </em><code>s</code>. You may return the answer in <strong>any order</strong>.</p>\n",
    "\n",
    "<p>An <strong>Anagram</strong> is a word or phrase formed by rearranging the letters of a different word or phrase, typically using all the original letters exactly once.</p>\n",
    "\n",
    "<p>&nbsp;</p>\n",
    "<p><strong>Example 1:</strong></p>\n",
    "\n",
    "<pre><strong>Input:</strong> s = \"cbaebabacd\", p = \"abc\"\n",
    "<strong>Output:</strong> [0,6]\n",
    "<strong>Explanation:</strong>\n",
    "The substring with start index = 0 is \"cba\", which is an anagram of \"abc\".\n",
    "The substring with start index = 6 is \"bac\", which is an anagram of \"abc\".\n",
    "</pre>\n",
    "\n",
    "<p><strong>Example 2:</strong></p>\n",
    "\n",
    "<pre><strong>Input:</strong> s = \"abab\", p = \"ab\"\n",
    "<strong>Output:</strong> [0,1,2]\n",
    "<strong>Explanation:</strong>\n",
    "The substring with start index = 0 is \"ab\", which is an anagram of \"ab\".\n",
    "The substring with start index = 1 is \"ba\", which is an anagram of \"ab\".\n",
    "The substring with start index = 2 is \"ab\", which is an anagram of \"ab\".\n",
    "</pre>\n",
    "\n",
    "<p>&nbsp;</p>\n",
    "<p><strong>Constraints:</strong></p>\n",
    "\n",
    "<ul>\n",
    "\t<li><code>1 &lt;= s.length, p.length &lt;= 3 * 10<sup>4</sup></code></li>\n",
    "\t<li><code>s</code> and <code>p</code> consist of lowercase English letters.</li>\n",
    "</ul>\n",
    "</div></div>"
   ]
  },
  {
   "cell_type": "code",
   "execution_count": null,
   "metadata": {},
   "outputs": [],
   "source": [
    "from collections import Counter\n",
    "from typing import List\n",
    "class Solution:\n",
    "    def findAnagrams(self, s: str, p: str) -> List[int]:\n",
    "        t_count = Counter(p)\n",
    "        w_count = Counter()\n",
    "        left,right,match = 0,0,0\n",
    "        anagrams = []\n",
    "        while(right<len(s)):\n",
    "            ch_r = s[right]\n",
    "            if(ch_r in t_count):\n",
    "                w_count[ch_r] +=1\n",
    "                if w_count[ch_r] == t_count[ch_r]:\n",
    "                    match += 1\n",
    "            right +=1\n",
    "            \n",
    "            while(match == len(t_count)):\n",
    "                if(right-left == len(p)):\n",
    "                    anagrams.append(left)\n",
    "                ch_l = s[left]\n",
    "                if(ch_l in t_count):\n",
    "                    w_count[ch_l] -= 1\n",
    "                    if(w_count[ch_l]<t_count[ch_l]):\n",
    "                        match -= 1\n",
    "                left += 1\n",
    "        return anagrams"
   ]
  }
 ],
 "metadata": {
  "language_info": {
   "name": "python"
  },
  "orig_nbformat": 4
 },
 "nbformat": 4,
 "nbformat_minor": 2
}
