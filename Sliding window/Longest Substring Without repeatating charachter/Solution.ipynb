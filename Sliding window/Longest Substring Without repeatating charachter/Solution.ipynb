{
 "cells": [
  {
   "cell_type": "markdown",
   "metadata": {},
   "source": [
    "<div class=\"content__u3I1 question-content__JfgR\"><div><p>Given a string <code>s</code>, find the length of the <b>longest substring</b> without repeating characters.</p>\n",
    "\n",
    "<p>&nbsp;</p>\n",
    "<p><strong>Example 1:</strong></p>\n",
    "\n",
    "<pre><strong>Input:</strong> s = \"abcabcbb\"\n",
    "<strong>Output:</strong> 3\n",
    "<strong>Explanation:</strong> The answer is \"abc\", with the length of 3.\n",
    "</pre>\n",
    "\n",
    "<p><strong>Example 2:</strong></p>\n",
    "\n",
    "<pre><strong>Input:</strong> s = \"bbbbb\"\n",
    "<strong>Output:</strong> 1\n",
    "<strong>Explanation:</strong> The answer is \"b\", with the length of 1.\n",
    "</pre>\n",
    "\n",
    "<p><strong>Example 3:</strong></p>\n",
    "\n",
    "<pre><strong>Input:</strong> s = \"pwwkew\"\n",
    "<strong>Output:</strong> 3\n",
    "<strong>Explanation:</strong> The answer is \"wke\", with the length of 3.\n",
    "Notice that the answer must be a substring, \"pwke\" is a subsequence and not a substring.\n",
    "</pre>\n",
    "\n",
    "<p><strong>Example 4:</strong></p>\n",
    "\n",
    "<pre><strong>Input:</strong> s = \"\"\n",
    "<strong>Output:</strong> 0\n",
    "</pre>\n",
    "\n",
    "<p>&nbsp;</p>\n",
    "<p><strong>Constraints:</strong></p>\n",
    "\n",
    "<ul>\n",
    "\t<li><code>0 &lt;= s.length &lt;= 5 * 10<sup>4</sup></code></li>\n",
    "\t<li><code>s</code> consists of English letters, digits, symbols and spaces.</li>\n",
    "</ul>\n",
    "</div></div>"
   ]
  },
  {
   "cell_type": "code",
   "execution_count": 47,
   "metadata": {},
   "outputs": [],
   "source": [
    "class Solution:\n",
    "    def lengthOfLongestSubstring(self, s: str) -> int:\n",
    "        buffer = {}\n",
    "        i = 0\n",
    "        max_len = 0\n",
    "        running_len = 0\n",
    "        start = 0\n",
    "        for i in range(len(s)):\n",
    "            if s[i] in buffer and buffer[s[i]]>=start:\n",
    "                max_len = max(max_len,running_len)\n",
    "                running_len = i - buffer[s[i]]\n",
    "                start = buffer[s[i]]+1\n",
    "                buffer[s[i]] = i\n",
    "            else:\n",
    "                running_len = running_len+1\n",
    "                buffer[s[i]] = i\n",
    "        \n",
    "        return max(max_len,running_len)\n",
    "                "
   ]
  },
  {
   "cell_type": "code",
   "execution_count": null,
   "metadata": {},
   "outputs": [],
   "source": [
    "## Using template\n",
    "from collections import Counter\n",
    "class Solution:\n",
    "    def lengthOfLongestSubstring(self, s: str) -> int:\n",
    "        w_count = Counter()\n",
    "        l,r,max_len = 0,0,0\n",
    "\n",
    "        while r<len(s):\n",
    "            ch_r = s[r]\n",
    "            w_count[ch_r] += 1\n",
    "            r += 1\n",
    "            while(w_count[ch_r]>1):\n",
    "                ch_l = s[l]\n",
    "                w_count[ch_l] -= 1\n",
    "                l += 1\n",
    "            max_len = max(max_len,r-l)\n",
    "\n",
    "        return max_len                "
   ]
  },
  {
   "cell_type": "code",
   "execution_count": null,
   "metadata": {},
   "outputs": [],
   "source": []
  }
 ],
 "metadata": {
  "interpreter": {
   "hash": "047fbbd14142b45230cb6c68155f1f738e6b06485617bb1045f9b7399b179778"
  },
  "kernelspec": {
   "display_name": "Python 3.9.6 64-bit ('cse5360': conda)",
   "name": "python3"
  },
  "language_info": {
   "codemirror_mode": {
    "name": "ipython",
    "version": 3
   },
   "file_extension": ".py",
   "mimetype": "text/x-python",
   "name": "python",
   "nbconvert_exporter": "python",
   "pygments_lexer": "ipython3",
   "version": "3.9.6"
  },
  "orig_nbformat": 4
 },
 "nbformat": 4,
 "nbformat_minor": 2
}
