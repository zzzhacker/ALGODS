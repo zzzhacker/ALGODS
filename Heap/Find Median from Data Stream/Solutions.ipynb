{
 "cells": [
  {
   "cell_type": "markdown",
   "metadata": {},
   "source": [
    "<div class=\"content__u3I1 question-content__JfgR\"><div><p>The <strong>median</strong> is the middle value in an ordered integer list. If the size of the list is even, there is no middle value and the median is the mean of the two middle values.</p>\n",
    "\n",
    "<ul>\n",
    "\t<li>For example, for <code>arr = [2,3,4]</code>, the median is <code>3</code>.</li>\n",
    "\t<li>For example, for <code>arr = [2,3]</code>, the median is <code>(2 + 3) / 2 = 2.5</code>.</li>\n",
    "</ul>\n",
    "\n",
    "<p>Implement the MedianFinder class:</p>\n",
    "\n",
    "<ul>\n",
    "\t<li><code>MedianFinder()</code> initializes the <code>MedianFinder</code> object.</li>\n",
    "\t<li><code>void addNum(int num)</code> adds the integer <code>num</code> from the data stream to the data structure.</li>\n",
    "\t<li><code>double findMedian()</code> returns the median of all elements so far. Answers within <code>10<sup>-5</sup></code> of the actual answer will be accepted.</li>\n",
    "</ul>\n",
    "\n",
    "<p>&nbsp;</p>\n",
    "<p><strong>Example 1:</strong></p>\n",
    "\n",
    "<pre><strong>Input</strong>\n",
    "[\"MedianFinder\", \"addNum\", \"addNum\", \"findMedian\", \"addNum\", \"findMedian\"]\n",
    "[[], [1], [2], [], [3], []]\n",
    "<strong>Output</strong>\n",
    "[null, null, null, 1.5, null, 2.0]\n",
    "\n",
    "<strong>Explanation</strong>\n",
    "MedianFinder medianFinder = new MedianFinder();\n",
    "medianFinder.addNum(1);    // arr = [1]\n",
    "medianFinder.addNum(2);    // arr = [1, 2]\n",
    "medianFinder.findMedian(); // return 1.5 (i.e., (1 + 2) / 2)\n",
    "medianFinder.addNum(3);    // arr[1, 2, 3]\n",
    "medianFinder.findMedian(); // return 2.0\n",
    "</pre>\n",
    "\n",
    "<p>&nbsp;</p>\n",
    "<p><strong>Constraints:</strong></p>\n",
    "\n",
    "<ul>\n",
    "\t<li><code>-10<sup>5</sup> &lt;= num &lt;= 10<sup>5</sup></code></li>\n",
    "\t<li>There will be at least one element in the data structure before calling <code>findMedian</code>.</li>\n",
    "\t<li>At most <code>5 * 10<sup>4</sup></code> calls will be made to <code>addNum</code> and <code>findMedian</code>.</li>\n",
    "</ul>\n",
    "\n",
    "<p>&nbsp;</p>\n",
    "<p><strong>Follow up:</strong></p>\n",
    "\n",
    "<ul>\n",
    "\t<li>If all integer numbers from the stream are in the range <code>[0, 100]</code>, how would you optimize your solution?</li>\n",
    "\t<li>If <code>99%</code> of all integer numbers from the stream are in the range <code>[0, 100]</code>, how would you optimize your solution?</li>\n",
    "</ul>\n",
    "</div></div>"
   ]
  },
  {
   "cell_type": "code",
   "execution_count": null,
   "metadata": {},
   "outputs": [],
   "source": [
    "import heapq\n",
    "class MedianFinder:\n",
    "    def __init__(self):\n",
    "        self.max_heap_left = []\n",
    "        self.min_heap_right = []\n",
    "\n",
    "    def addNum(self, num: int) -> None:\n",
    "        if len(self.max_heap_left)>len(self.min_heap_right):\n",
    "            heapq.heappush(self.max_heap_left,-1*num)\n",
    "        else:\n",
    "            heapq.heappush(self.min_heap_right,num)\n",
    "        print(self.max_heap_left,self.min_heap_right)\n",
    "\n",
    "    def findMedian(self) -> float:\n",
    "        if len(self.max_heap_left)==len(self.min_heap_right):\n",
    "            return (self.max_heap_left[0]*-1+self.min_heap_right[1])/2\n",
    "        elif len(self.max_heap_left)>len(self.min_heap_right):\n",
    "            return self.max_heap_left[0]*-1\n",
    "        else:\n",
    "            return self.min_heap_right[0]"
   ]
  },
  {
   "cell_type": "code",
   "execution_count": 5,
   "metadata": {},
   "outputs": [],
   "source": [
    "import heapq\n",
    "heap = []"
   ]
  },
  {
   "cell_type": "code",
   "execution_count": 6,
   "metadata": {},
   "outputs": [],
   "source": [
    "heapq.heappush(heap,2,)"
   ]
  },
  {
   "cell_type": "code",
   "execution_count": 14,
   "metadata": {},
   "outputs": [
    {
     "data": {
      "text/plain": [
       "0"
      ]
     },
     "execution_count": 14,
     "metadata": {},
     "output_type": "execute_result"
    }
   ],
   "source": [
    "heapq.heappop(heap)"
   ]
  },
  {
   "cell_type": "code",
   "execution_count": 15,
   "metadata": {},
   "outputs": [
    {
     "data": {
      "text/plain": [
       "[1, 2, 3]"
      ]
     },
     "execution_count": 15,
     "metadata": {},
     "output_type": "execute_result"
    }
   ],
   "source": [
    "heap"
   ]
  },
  {
   "cell_type": "code",
   "execution_count": null,
   "metadata": {},
   "outputs": [],
   "source": []
  }
 ],
 "metadata": {
  "interpreter": {
   "hash": "916dbcbb3f70747c44a77c7bcd40155683ae19c65e1c03b4aa3499c5328201f1"
  },
  "kernelspec": {
   "display_name": "Python 3.8.10 64-bit",
   "language": "python",
   "name": "python3"
  },
  "language_info": {
   "codemirror_mode": {
    "name": "ipython",
    "version": 3
   },
   "file_extension": ".py",
   "mimetype": "text/x-python",
   "name": "python",
   "nbconvert_exporter": "python",
   "pygments_lexer": "ipython3",
   "version": "3.9.5"
  },
  "orig_nbformat": 4
 },
 "nbformat": 4,
 "nbformat_minor": 2
}
